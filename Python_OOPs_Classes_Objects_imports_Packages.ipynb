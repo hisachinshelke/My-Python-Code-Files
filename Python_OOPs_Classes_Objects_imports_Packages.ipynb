{
 "cells": [
  {
   "cell_type": "markdown",
   "id": "72c80f7c",
   "metadata": {},
   "source": [
    "## Python OOPS"
   ]
  },
  {
   "cell_type": "markdown",
   "id": "e4814206",
   "metadata": {},
   "source": [
    "## Object Oriented Programming (OOP) "
   ]
  },
  {
   "cell_type": "markdown",
   "id": "6bb8f78d",
   "metadata": {},
   "source": [
    "### Why?\n",
    "1. It makes programming easy to understand and readable\n",
    "2. It makes prgomming efficient\n",
    "3. Makes code resuable\n",
    "4. This makes data safe and secure as it supports data abstraction\n",
    "5. Efficient coding is achieved by Polymorphism as it allows reusage of same interfaces for different objects."
   ]
  },
  {
   "cell_type": "code",
   "execution_count": 2,
   "id": "93c3e26d",
   "metadata": {},
   "outputs": [],
   "source": [
    "##Object "
   ]
  },
  {
   "cell_type": "markdown",
   "id": "9cf7ee75",
   "metadata": {},
   "source": [
    "Object can be any entity that has attributes and certain behavious.\n",
    "Example:  Rabbit - object\n",
    "attribute: name, age, colour\n",
    "behaviour: eating, running, jumping\n"
   ]
  },
  {
   "cell_type": "code",
   "execution_count": 3,
   "id": "a27775d0",
   "metadata": {},
   "outputs": [],
   "source": [
    "## Class"
   ]
  },
  {
   "cell_type": "markdown",
   "id": "8f6f334f",
   "metadata": {},
   "source": [
    "Class is blue print of object"
   ]
  },
  {
   "cell_type": "markdown",
   "id": "73a4939d",
   "metadata": {},
   "source": [
    "Syntax:\n",
    "class ClassName:\n",
    "    #Statements\n",
    "    #Statements"
   ]
  },
  {
   "cell_type": "code",
   "execution_count": null,
   "id": "6c4dd45b",
   "metadata": {},
   "outputs": [],
   "source": [
    "class Bike:\n",
    "    make = \"\"\n",
    "    gear = 0"
   ]
  },
  {
   "cell_type": "markdown",
   "id": "001a49fc",
   "metadata": {},
   "source": [
    "Bike - class name and make, gear - attributes. Object that will be created will be of Bike type."
   ]
  },
  {
   "cell_type": "code",
   "execution_count": 11,
   "id": "bf850bcf",
   "metadata": {
    "scrolled": true
   },
   "outputs": [],
   "source": [
    "## Object"
   ]
  },
  {
   "cell_type": "markdown",
   "id": "bfb37e5e",
   "metadata": {},
   "source": [
    "Object is also called Instances of class. "
   ]
  },
  {
   "cell_type": "code",
   "execution_count": null,
   "id": "6977e89d",
   "metadata": {},
   "outputs": [],
   "source": [
    "Syntax:\n",
    "\n",
    "objectName = ClassName()"
   ]
  },
  {
   "cell_type": "code",
   "execution_count": 16,
   "id": "64a1d864",
   "metadata": {},
   "outputs": [],
   "source": [
    "class Bike:\n",
    "    company = \"\"\n",
    "    gear = 0"
   ]
  },
  {
   "cell_type": "code",
   "execution_count": 17,
   "id": "bd74ead7",
   "metadata": {},
   "outputs": [],
   "source": [
    "bike1 = Bike()"
   ]
  },
  {
   "cell_type": "code",
   "execution_count": 18,
   "id": "70efe8d7",
   "metadata": {},
   "outputs": [],
   "source": [
    "bike2 = Bike()"
   ]
  },
  {
   "cell_type": "code",
   "execution_count": null,
   "id": "48fc3f5f",
   "metadata": {},
   "outputs": [],
   "source": [
    "bike1 - object of bike type."
   ]
  },
  {
   "cell_type": "code",
   "execution_count": 15,
   "id": "2f3b2778",
   "metadata": {},
   "outputs": [],
   "source": [
    "## Accessing class attributes using objects"
   ]
  },
  {
   "cell_type": "markdown",
   "id": "15c1dc7a",
   "metadata": {},
   "source": [
    "To access attributes of a class we use dot . notation"
   ]
  },
  {
   "cell_type": "code",
   "execution_count": 19,
   "id": "e5684e64",
   "metadata": {},
   "outputs": [],
   "source": [
    "bike1.company = \"Hero Bike\"\n",
    "bike1.gear = 4"
   ]
  },
  {
   "cell_type": "code",
   "execution_count": 20,
   "id": "82cffce3",
   "metadata": {},
   "outputs": [
    {
     "name": "stdout",
     "output_type": "stream",
     "text": [
      "Hero Bike\n"
     ]
    }
   ],
   "source": [
    "print(bike1.company)"
   ]
  },
  {
   "cell_type": "code",
   "execution_count": 21,
   "id": "ae0b22b6",
   "metadata": {},
   "outputs": [
    {
     "name": "stdout",
     "output_type": "stream",
     "text": [
      "4\n"
     ]
    }
   ],
   "source": [
    "print(bike1.gear)"
   ]
  },
  {
   "cell_type": "markdown",
   "id": "e16a5dd2",
   "metadata": {},
   "source": [
    "### Example"
   ]
  },
  {
   "cell_type": "code",
   "execution_count": 24,
   "id": "2bfe26ca",
   "metadata": {},
   "outputs": [],
   "source": [
    "class Rabbit:\n",
    "    \n",
    "    #attributes\n",
    "    name = \"\"\n",
    "    age = 0\n",
    "\n",
    "rabbit_1 = Rabbit()\n",
    "rabbit_1.name = \"Bunny\"\n",
    "rabbit_1.age = 1\n",
    "\n",
    "\n",
    "rabbit_2 = Rabbit()\n",
    "rabbit_2.name = \"Sunny\"\n",
    "rabbit_2.age = 1"
   ]
  },
  {
   "cell_type": "code",
   "execution_count": 7,
   "id": "308f75b2",
   "metadata": {},
   "outputs": [
    {
     "name": "stdout",
     "output_type": "stream",
     "text": [
      "I have pet rabbit. Its name is : Bunny and is age : 1\n"
     ]
    }
   ],
   "source": [
    "print(f\"I have pet rabbit. Its name is : {rabbit_1.name} and is age : {rabbit_1.age}\")"
   ]
  },
  {
   "cell_type": "code",
   "execution_count": 8,
   "id": "a9dcbd3a",
   "metadata": {},
   "outputs": [
    {
     "name": "stdout",
     "output_type": "stream",
     "text": [
      "I have pet rabbit. Its name is : Sunny and is age : 1\n"
     ]
    }
   ],
   "source": [
    "print(f\"I have pet rabbit. Its name is : {rabbit_2.name} and is age : {rabbit_2.age}\")"
   ]
  },
  {
   "cell_type": "code",
   "execution_count": 9,
   "id": "bcefe55d",
   "metadata": {},
   "outputs": [
    {
     "data": {
      "text/plain": [
       "2304018767728"
      ]
     },
     "execution_count": 9,
     "metadata": {},
     "output_type": "execute_result"
    }
   ],
   "source": [
    "id(rabbit_1)"
   ]
  },
  {
   "cell_type": "code",
   "execution_count": 10,
   "id": "9affe38e",
   "metadata": {},
   "outputs": [
    {
     "data": {
      "text/plain": [
       "2304018767200"
      ]
     },
     "execution_count": 10,
     "metadata": {},
     "output_type": "execute_result"
    }
   ],
   "source": [
    "id(rabbit_2)"
   ]
  },
  {
   "cell_type": "code",
   "execution_count": 22,
   "id": "91a59c11",
   "metadata": {},
   "outputs": [],
   "source": [
    "## Method in class"
   ]
  },
  {
   "cell_type": "code",
   "execution_count": null,
   "id": "4f3117b4",
   "metadata": {},
   "outputs": [],
   "source": [
    "1. Class - Hall\n",
    "2. 2 attributes -> length, breadth\n",
    "3. 1 object\n",
    "4. assign value to object"
   ]
  },
  {
   "cell_type": "code",
   "execution_count": 36,
   "id": "f941d3f1",
   "metadata": {},
   "outputs": [],
   "source": [
    "class Hall:\n",
    "    length = 0.0\n",
    "    breadth = 0.0\n",
    "    \n",
    "  "
   ]
  },
  {
   "cell_type": "code",
   "execution_count": 37,
   "id": "f8e25f58",
   "metadata": {},
   "outputs": [],
   "source": [
    "science_class = Hall()"
   ]
  },
  {
   "cell_type": "code",
   "execution_count": 38,
   "id": "bec15e03",
   "metadata": {},
   "outputs": [],
   "source": [
    "science_class.length = 40\n",
    "science_class.bredth = 30"
   ]
  },
  {
   "cell_type": "code",
   "execution_count": 43,
   "id": "225246b5",
   "metadata": {},
   "outputs": [],
   "source": [
    "## Python Modules"
   ]
  },
  {
   "cell_type": "code",
   "execution_count": 44,
   "id": "763b09c6",
   "metadata": {},
   "outputs": [],
   "source": [
    "import math"
   ]
  },
  {
   "cell_type": "code",
   "execution_count": 45,
   "id": "c588b5ea",
   "metadata": {},
   "outputs": [
    {
     "name": "stdout",
     "output_type": "stream",
     "text": [
      "3.141592653589793\n"
     ]
    }
   ],
   "source": [
    "print(math.pi)"
   ]
  },
  {
   "cell_type": "code",
   "execution_count": 46,
   "id": "84791afd",
   "metadata": {},
   "outputs": [
    {
     "name": "stdout",
     "output_type": "stream",
     "text": [
      "20.0\n"
     ]
    }
   ],
   "source": [
    "print(math.sqrt(400))"
   ]
  },
  {
   "cell_type": "code",
   "execution_count": null,
   "id": "106435b8",
   "metadata": {},
   "outputs": [],
   "source": [
    "## There are around 200 inbuilt modules in python"
   ]
  },
  {
   "cell_type": "code",
   "execution_count": null,
   "id": "a6ea3117",
   "metadata": {},
   "outputs": [],
   "source": [
    "#### Alias name"
   ]
  },
  {
   "cell_type": "code",
   "execution_count": 47,
   "id": "4deffa2b",
   "metadata": {},
   "outputs": [],
   "source": [
    "import math as m"
   ]
  },
  {
   "cell_type": "code",
   "execution_count": 48,
   "id": "e1515f1d",
   "metadata": {},
   "outputs": [
    {
     "data": {
      "text/plain": [
       "3.141592653589793"
      ]
     },
     "execution_count": 48,
     "metadata": {},
     "output_type": "execute_result"
    }
   ],
   "source": [
    "m.pi"
   ]
  },
  {
   "cell_type": "code",
   "execution_count": 49,
   "id": "940a795d",
   "metadata": {},
   "outputs": [],
   "source": [
    "from math import pi  ## import specific functionality instead of all - for saving memory or optimising performane"
   ]
  },
  {
   "cell_type": "code",
   "execution_count": 50,
   "id": "47f5b2c4",
   "metadata": {},
   "outputs": [],
   "source": [
    "from math import *  "
   ]
  },
  {
   "cell_type": "code",
   "execution_count": 53,
   "id": "505370fe",
   "metadata": {},
   "outputs": [
    {
     "data": {
      "text/plain": [
       "['__add__',\n",
       " '__class__',\n",
       " '__contains__',\n",
       " '__delattr__',\n",
       " '__dir__',\n",
       " '__doc__',\n",
       " '__eq__',\n",
       " '__format__',\n",
       " '__ge__',\n",
       " '__getattribute__',\n",
       " '__getitem__',\n",
       " '__getnewargs__',\n",
       " '__gt__',\n",
       " '__hash__',\n",
       " '__init__',\n",
       " '__init_subclass__',\n",
       " '__iter__',\n",
       " '__le__',\n",
       " '__len__',\n",
       " '__lt__',\n",
       " '__mod__',\n",
       " '__mul__',\n",
       " '__ne__',\n",
       " '__new__',\n",
       " '__reduce__',\n",
       " '__reduce_ex__',\n",
       " '__repr__',\n",
       " '__rmod__',\n",
       " '__rmul__',\n",
       " '__setattr__',\n",
       " '__sizeof__',\n",
       " '__str__',\n",
       " '__subclasshook__',\n",
       " 'capitalize',\n",
       " 'casefold',\n",
       " 'center',\n",
       " 'count',\n",
       " 'encode',\n",
       " 'endswith',\n",
       " 'expandtabs',\n",
       " 'find',\n",
       " 'format',\n",
       " 'format_map',\n",
       " 'index',\n",
       " 'isalnum',\n",
       " 'isalpha',\n",
       " 'isascii',\n",
       " 'isdecimal',\n",
       " 'isdigit',\n",
       " 'isidentifier',\n",
       " 'islower',\n",
       " 'isnumeric',\n",
       " 'isprintable',\n",
       " 'isspace',\n",
       " 'istitle',\n",
       " 'isupper',\n",
       " 'join',\n",
       " 'ljust',\n",
       " 'lower',\n",
       " 'lstrip',\n",
       " 'maketrans',\n",
       " 'partition',\n",
       " 'removeprefix',\n",
       " 'removesuffix',\n",
       " 'replace',\n",
       " 'rfind',\n",
       " 'rindex',\n",
       " 'rjust',\n",
       " 'rpartition',\n",
       " 'rsplit',\n",
       " 'rstrip',\n",
       " 'split',\n",
       " 'splitlines',\n",
       " 'startswith',\n",
       " 'strip',\n",
       " 'swapcase',\n",
       " 'title',\n",
       " 'translate',\n",
       " 'upper',\n",
       " 'zfill']"
      ]
     },
     "execution_count": 53,
     "metadata": {},
     "output_type": "execute_result"
    }
   ],
   "source": [
    "dir('__math__')  ## list all the functionalities of module"
   ]
  },
  {
   "cell_type": "code",
   "execution_count": 54,
   "id": "50a85e38",
   "metadata": {},
   "outputs": [
    {
     "data": {
      "text/plain": [
       "['__add__',\n",
       " '__class__',\n",
       " '__contains__',\n",
       " '__delattr__',\n",
       " '__dir__',\n",
       " '__doc__',\n",
       " '__eq__',\n",
       " '__format__',\n",
       " '__ge__',\n",
       " '__getattribute__',\n",
       " '__getitem__',\n",
       " '__getnewargs__',\n",
       " '__gt__',\n",
       " '__hash__',\n",
       " '__init__',\n",
       " '__init_subclass__',\n",
       " '__iter__',\n",
       " '__le__',\n",
       " '__len__',\n",
       " '__lt__',\n",
       " '__mod__',\n",
       " '__mul__',\n",
       " '__ne__',\n",
       " '__new__',\n",
       " '__reduce__',\n",
       " '__reduce_ex__',\n",
       " '__repr__',\n",
       " '__rmod__',\n",
       " '__rmul__',\n",
       " '__setattr__',\n",
       " '__sizeof__',\n",
       " '__str__',\n",
       " '__subclasshook__',\n",
       " 'capitalize',\n",
       " 'casefold',\n",
       " 'center',\n",
       " 'count',\n",
       " 'encode',\n",
       " 'endswith',\n",
       " 'expandtabs',\n",
       " 'find',\n",
       " 'format',\n",
       " 'format_map',\n",
       " 'index',\n",
       " 'isalnum',\n",
       " 'isalpha',\n",
       " 'isascii',\n",
       " 'isdecimal',\n",
       " 'isdigit',\n",
       " 'isidentifier',\n",
       " 'islower',\n",
       " 'isnumeric',\n",
       " 'isprintable',\n",
       " 'isspace',\n",
       " 'istitle',\n",
       " 'isupper',\n",
       " 'join',\n",
       " 'ljust',\n",
       " 'lower',\n",
       " 'lstrip',\n",
       " 'maketrans',\n",
       " 'partition',\n",
       " 'removeprefix',\n",
       " 'removesuffix',\n",
       " 'replace',\n",
       " 'rfind',\n",
       " 'rindex',\n",
       " 'rjust',\n",
       " 'rpartition',\n",
       " 'rsplit',\n",
       " 'rstrip',\n",
       " 'split',\n",
       " 'splitlines',\n",
       " 'startswith',\n",
       " 'strip',\n",
       " 'swapcase',\n",
       " 'title',\n",
       " 'translate',\n",
       " 'upper',\n",
       " 'zfill']"
      ]
     },
     "execution_count": 54,
     "metadata": {},
     "output_type": "execute_result"
    }
   ],
   "source": [
    "dir('__math.pi__')"
   ]
  },
  {
   "cell_type": "code",
   "execution_count": 57,
   "id": "3fed54a5",
   "metadata": {},
   "outputs": [
    {
     "data": {
      "text/plain": [
       "['__add__',\n",
       " '__class__',\n",
       " '__contains__',\n",
       " '__delattr__',\n",
       " '__dir__',\n",
       " '__doc__',\n",
       " '__eq__',\n",
       " '__format__',\n",
       " '__ge__',\n",
       " '__getattribute__',\n",
       " '__getitem__',\n",
       " '__getnewargs__',\n",
       " '__gt__',\n",
       " '__hash__',\n",
       " '__init__',\n",
       " '__init_subclass__',\n",
       " '__iter__',\n",
       " '__le__',\n",
       " '__len__',\n",
       " '__lt__',\n",
       " '__mod__',\n",
       " '__mul__',\n",
       " '__ne__',\n",
       " '__new__',\n",
       " '__reduce__',\n",
       " '__reduce_ex__',\n",
       " '__repr__',\n",
       " '__rmod__',\n",
       " '__rmul__',\n",
       " '__setattr__',\n",
       " '__sizeof__',\n",
       " '__str__',\n",
       " '__subclasshook__',\n",
       " 'capitalize',\n",
       " 'casefold',\n",
       " 'center',\n",
       " 'count',\n",
       " 'encode',\n",
       " 'endswith',\n",
       " 'expandtabs',\n",
       " 'find',\n",
       " 'format',\n",
       " 'format_map',\n",
       " 'index',\n",
       " 'isalnum',\n",
       " 'isalpha',\n",
       " 'isascii',\n",
       " 'isdecimal',\n",
       " 'isdigit',\n",
       " 'isidentifier',\n",
       " 'islower',\n",
       " 'isnumeric',\n",
       " 'isprintable',\n",
       " 'isspace',\n",
       " 'istitle',\n",
       " 'isupper',\n",
       " 'join',\n",
       " 'ljust',\n",
       " 'lower',\n",
       " 'lstrip',\n",
       " 'maketrans',\n",
       " 'partition',\n",
       " 'removeprefix',\n",
       " 'removesuffix',\n",
       " 'replace',\n",
       " 'rfind',\n",
       " 'rindex',\n",
       " 'rjust',\n",
       " 'rpartition',\n",
       " 'rsplit',\n",
       " 'rstrip',\n",
       " 'split',\n",
       " 'splitlines',\n",
       " 'startswith',\n",
       " 'strip',\n",
       " 'swapcase',\n",
       " 'title',\n",
       " 'translate',\n",
       " 'upper',\n",
       " 'zfill']"
      ]
     },
     "execution_count": 57,
     "metadata": {},
     "output_type": "execute_result"
    }
   ],
   "source": [
    "dir(\"__math.sqrt__\")"
   ]
  },
  {
   "cell_type": "code",
   "execution_count": null,
   "id": "54cf10dc",
   "metadata": {},
   "outputs": [],
   "source": []
  }
 ],
 "metadata": {
  "kernelspec": {
   "display_name": "Python 3 (ipykernel)",
   "language": "python",
   "name": "python3"
  },
  "language_info": {
   "codemirror_mode": {
    "name": "ipython",
    "version": 3
   },
   "file_extension": ".py",
   "mimetype": "text/x-python",
   "name": "python",
   "nbconvert_exporter": "python",
   "pygments_lexer": "ipython3",
   "version": "3.9.12"
  }
 },
 "nbformat": 4,
 "nbformat_minor": 5
}
