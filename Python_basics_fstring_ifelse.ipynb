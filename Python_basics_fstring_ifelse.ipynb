{
 "cells": [
  {
   "cell_type": "code",
   "execution_count": 1,
   "id": "b9a79dcf",
   "metadata": {},
   "outputs": [
    {
     "data": {
      "text/plain": [
       "3"
      ]
     },
     "execution_count": 1,
     "metadata": {},
     "output_type": "execute_result"
    }
   ],
   "source": [
    "1+2"
   ]
  },
  {
   "cell_type": "markdown",
   "id": "777a6989",
   "metadata": {},
   "source": [
    "### Markdown"
   ]
  },
  {
   "cell_type": "markdown",
   "id": "fa0fbb9d",
   "metadata": {},
   "source": [
    "1+2"
   ]
  },
  {
   "cell_type": "markdown",
   "id": "91840207",
   "metadata": {},
   "source": [
    "### Headings"
   ]
  },
  {
   "cell_type": "markdown",
   "id": "0cc327ef",
   "metadata": {},
   "source": [
    "# Heading1"
   ]
  },
  {
   "cell_type": "markdown",
   "id": "f29c6ce8",
   "metadata": {},
   "source": [
    "## Heading 2"
   ]
  },
  {
   "cell_type": "markdown",
   "id": "0c20290e",
   "metadata": {},
   "source": [
    "### Heading 3"
   ]
  },
  {
   "cell_type": "markdown",
   "id": "e9428f0a",
   "metadata": {},
   "source": [
    "### Print statement"
   ]
  },
  {
   "cell_type": "code",
   "execution_count": 2,
   "id": "8a6ce484",
   "metadata": {},
   "outputs": [
    {
     "name": "stdout",
     "output_type": "stream",
     "text": [
      "My name is Sachin Shelke!!\n"
     ]
    }
   ],
   "source": [
    "print(\"My name is Sachin Shelke!!\")"
   ]
  },
  {
   "cell_type": "code",
   "execution_count": 3,
   "id": "736264d5",
   "metadata": {},
   "outputs": [
    {
     "name": "stdout",
     "output_type": "stream",
     "text": [
      "This is my first code!!\n"
     ]
    }
   ],
   "source": [
    "print('This is my first code!!')"
   ]
  },
  {
   "cell_type": "code",
   "execution_count": 5,
   "id": "ecd6e2dc",
   "metadata": {},
   "outputs": [
    {
     "name": "stdout",
     "output_type": "stream",
     "text": [
      "ABC\n",
      "DEF\n",
      "GHI\n"
     ]
    }
   ],
   "source": [
    "print(\"ABC\")\n",
    "print(\"DEF\")\n",
    "print(\"GHI\")"
   ]
  },
  {
   "cell_type": "markdown",
   "id": "579c5ee3",
   "metadata": {},
   "source": [
    "### Comment -   we can comment a line of code using hash(#) symbol"
   ]
  },
  {
   "cell_type": "code",
   "execution_count": 6,
   "id": "99f62d91",
   "metadata": {},
   "outputs": [
    {
     "name": "stdout",
     "output_type": "stream",
     "text": [
      "ABC\n",
      "GHI\n"
     ]
    }
   ],
   "source": [
    "print(\"ABC\")\n",
    "#print(\"DEF\")\n",
    "print(\"GHI\")"
   ]
  },
  {
   "cell_type": "code",
   "execution_count": 7,
   "id": "83ca2ef4",
   "metadata": {},
   "outputs": [
    {
     "name": "stdout",
     "output_type": "stream",
     "text": [
      "ABC\n",
      "DEF\n",
      "GHI\n"
     ]
    }
   ],
   "source": [
    "# Below line of code prints first 9 alphabets\n",
    "print(\"ABC\")\n",
    "print(\"DEF\")\n",
    "print(\"GHI\")"
   ]
  },
  {
   "cell_type": "code",
   "execution_count": 8,
   "id": "29c0d7db",
   "metadata": {},
   "outputs": [
    {
     "name": "stdout",
     "output_type": "stream",
     "text": [
      "ABC\n",
      "DEF\n",
      "GHI\n"
     ]
    }
   ],
   "source": [
    "print(\"ABC\")\n",
    "print(\"DEF\")   # this line of code prints alphabet D E and F\n",
    "print(\"GHI\")"
   ]
  },
  {
   "cell_type": "markdown",
   "id": "eadd56a4",
   "metadata": {},
   "source": [
    "### Comment -   we can comment a set of code using 3 single quotes (''') symbol"
   ]
  },
  {
   "cell_type": "code",
   "execution_count": 18,
   "id": "7ebba0ef",
   "metadata": {},
   "outputs": [
    {
     "name": "stdout",
     "output_type": "stream",
     "text": [
      "ABC\n",
      "DEF\n",
      "GHI\n"
     ]
    }
   ],
   "source": [
    "print(\"ABC\")\n",
    "print(\"DEF\")\n",
    "'''print(\"GHI\")\n",
    "print(\"ABC\")\n",
    "print(\"DEF\")\n",
    "print(\"GHI\")\n",
    "print(\"ABC\")\n",
    "print(\"DEF\")\n",
    "print(\"GHI\")\n",
    "print(\"GHI\")\n",
    "print(\"ABC\")\n",
    "print(\"DEF\")\n",
    "print(\"GHI\")\n",
    "print(\"ABC\")\n",
    "print(\"DEF\")\n",
    "print(\"GHI\")\n",
    "print(\"ABC\")\n",
    "print(\"DEF\")\n",
    "print(\"GHI\")\n",
    "print(\"ABC\")\n",
    "print(\"DEF\")\n",
    "print(\"GHI\")\n",
    "print(\"ABC\")\n",
    "print(\"DEF\")\n",
    "print(\"GHI\")\n",
    "print(\"ABC\")\n",
    "print(\"DEF\")\n",
    "print(\"GHI\")\n",
    "print(\"ABC\")\n",
    "print(\"DEF\")\n",
    "print(\"GHI\")\n",
    "print(\"ABC\")\n",
    "print(\"DEF\")\n",
    "print(\"GHI\")\n",
    "print(\"ABC\")\n",
    "print(\"DEF\")'''\n",
    "print(\"GHI\")"
   ]
  },
  {
   "cell_type": "code",
   "execution_count": 17,
   "id": "afad1924",
   "metadata": {},
   "outputs": [
    {
     "name": "stdout",
     "output_type": "stream",
     "text": [
      "GHI\n"
     ]
    }
   ],
   "source": [
    "'''print(\"ABC\") \n",
    "print(\"DEF\") ''' \n",
    "print(\"GHI\")"
   ]
  },
  {
   "cell_type": "code",
   "execution_count": 19,
   "id": "f8f4c97e",
   "metadata": {},
   "outputs": [
    {
     "name": "stdout",
     "output_type": "stream",
     "text": [
      "Hello Students\n"
     ]
    }
   ],
   "source": [
    "print(\n",
    "    \n",
    "    \n",
    "    \"Hello Students\"\n",
    "\n",
    "\n",
    "\n",
    ")  \n",
    "\n",
    "{\n",
    "  fd  \n",
    "        \n",
    "}\n",
    "\n",
    "\n",
    "if()\n",
    "    statement 1\n",
    "\n",
    "statement2\n",
    "\n",
    "\n",
    "\n",
    "\n",
    "if() {\n",
    "statement 1\n",
    "}"
   ]
  },
  {
   "cell_type": "markdown",
   "id": "4528cb89",
   "metadata": {},
   "source": [
    "### Bugs and Errors"
   ]
  },
  {
   "cell_type": "code",
   "execution_count": 29,
   "id": "41c7b345",
   "metadata": {},
   "outputs": [
    {
     "ename": "SyntaxError",
     "evalue": "unexpected EOF while parsing (336087147.py, line 1)",
     "output_type": "error",
     "traceback": [
      "\u001b[1;36m  Input \u001b[1;32mIn [29]\u001b[1;36m\u001b[0m\n\u001b[1;33m    print(\"Hello Students\"\u001b[0m\n\u001b[1;37m                          ^\u001b[0m\n\u001b[1;31mSyntaxError\u001b[0m\u001b[1;31m:\u001b[0m unexpected EOF while parsing\n"
     ]
    }
   ],
   "source": [
    "print(\"Hello Students\""
   ]
  },
  {
   "cell_type": "code",
   "execution_count": 24,
   "id": "b51a71ea",
   "metadata": {},
   "outputs": [
    {
     "name": "stdout",
     "output_type": "stream",
     "text": [
      "ABC\n",
      "DEF\n",
      "GHI\n",
      "ABC\n",
      "DEF\n",
      "Hello Students\n",
      "GHI\n",
      "ABC\n",
      "DEF\n",
      "GHI\n",
      "ABC\n"
     ]
    }
   ],
   "source": [
    "print(\"ABC\")\n",
    "print(\"DEF\")\n",
    "print(\"GHI\")\n",
    "print(\"ABC\")\n",
    "print(\"DEF\")\n",
    "print(\"Hello Students\")\n",
    "print(\"GHI\")\n",
    "print(\"ABC\")\n",
    "print(\"DEF\")\n",
    "print(\"GHI\")\n",
    "print(\"ABC\")"
   ]
  },
  {
   "cell_type": "code",
   "execution_count": 25,
   "id": "a615f363",
   "metadata": {},
   "outputs": [
    {
     "ename": "ZeroDivisionError",
     "evalue": "division by zero",
     "output_type": "error",
     "traceback": [
      "\u001b[1;31m---------------------------------------------------------------------------\u001b[0m",
      "\u001b[1;31mZeroDivisionError\u001b[0m                         Traceback (most recent call last)",
      "Input \u001b[1;32mIn [25]\u001b[0m, in \u001b[0;36m<cell line: 1>\u001b[1;34m()\u001b[0m\n\u001b[1;32m----> 1\u001b[0m \u001b[38;5;241;43m1\u001b[39;49m\u001b[38;5;241;43m/\u001b[39;49m\u001b[38;5;241;43m0\u001b[39;49m\n",
      "\u001b[1;31mZeroDivisionError\u001b[0m: division by zero"
     ]
    }
   ],
   "source": [
    "1/0"
   ]
  },
  {
   "cell_type": "code",
   "execution_count": 27,
   "id": "e063c664",
   "metadata": {},
   "outputs": [
    {
     "data": {
      "text/plain": [
       "5"
      ]
     },
     "execution_count": 27,
     "metadata": {},
     "output_type": "execute_result"
    }
   ],
   "source": [
    "1+4"
   ]
  },
  {
   "cell_type": "code",
   "execution_count": 28,
   "id": "5fc75434",
   "metadata": {},
   "outputs": [
    {
     "ename": "SyntaxError",
     "evalue": "invalid syntax (3831176573.py, line 1)",
     "output_type": "error",
     "traceback": [
      "\u001b[1;36m  Input \u001b[1;32mIn [28]\u001b[1;36m\u001b[0m\n\u001b[1;33m    1$4\u001b[0m\n\u001b[1;37m     ^\u001b[0m\n\u001b[1;31mSyntaxError\u001b[0m\u001b[1;31m:\u001b[0m invalid syntax\n"
     ]
    }
   ],
   "source": [
    "1$4"
   ]
  },
  {
   "cell_type": "code",
   "execution_count": 30,
   "id": "c4e34d34",
   "metadata": {},
   "outputs": [
    {
     "data": {
      "text/plain": [
       "90.0"
      ]
     },
     "execution_count": 30,
     "metadata": {},
     "output_type": "execute_result"
    }
   ],
   "source": [
    "100 - (100 * 0.10) # Gives 10 percent discount"
   ]
  },
  {
   "cell_type": "code",
   "execution_count": 32,
   "id": "06faba07",
   "metadata": {},
   "outputs": [
    {
     "data": {
      "text/plain": [
       "92.0"
      ]
     },
     "execution_count": 32,
     "metadata": {},
     "output_type": "execute_result"
    }
   ],
   "source": [
    "100 - (100 * 0.08) # Gives 10 percent discount  - BUG"
   ]
  },
  {
   "cell_type": "code",
   "execution_count": 33,
   "id": "1fc07381",
   "metadata": {},
   "outputs": [],
   "source": [
    "# Integers - non decimal numbers"
   ]
  },
  {
   "cell_type": "code",
   "execution_count": 34,
   "id": "bab3280e",
   "metadata": {},
   "outputs": [
    {
     "data": {
      "text/plain": [
       "1"
      ]
     },
     "execution_count": 34,
     "metadata": {},
     "output_type": "execute_result"
    }
   ],
   "source": [
    "1 "
   ]
  },
  {
   "cell_type": "code",
   "execution_count": 35,
   "id": "746566e9",
   "metadata": {},
   "outputs": [
    {
     "data": {
      "text/plain": [
       "2"
      ]
     },
     "execution_count": 35,
     "metadata": {},
     "output_type": "execute_result"
    }
   ],
   "source": [
    "2"
   ]
  },
  {
   "cell_type": "code",
   "execution_count": 36,
   "id": "ec4809de",
   "metadata": {},
   "outputs": [
    {
     "data": {
      "text/plain": [
       "-10"
      ]
     },
     "execution_count": 36,
     "metadata": {},
     "output_type": "execute_result"
    }
   ],
   "source": [
    "-10"
   ]
  },
  {
   "cell_type": "code",
   "execution_count": 37,
   "id": "7a729215",
   "metadata": {},
   "outputs": [
    {
     "data": {
      "text/plain": [
       "-1000"
      ]
     },
     "execution_count": 37,
     "metadata": {},
     "output_type": "execute_result"
    }
   ],
   "source": [
    "-1000"
   ]
  },
  {
   "cell_type": "code",
   "execution_count": 38,
   "id": "d53c864a",
   "metadata": {},
   "outputs": [],
   "source": [
    "# float - numbers with decimals"
   ]
  },
  {
   "cell_type": "code",
   "execution_count": 39,
   "id": "8a062984",
   "metadata": {},
   "outputs": [
    {
     "data": {
      "text/plain": [
       "1.2"
      ]
     },
     "execution_count": 39,
     "metadata": {},
     "output_type": "execute_result"
    }
   ],
   "source": [
    "1.2"
   ]
  },
  {
   "cell_type": "code",
   "execution_count": 40,
   "id": "ff183e1a",
   "metadata": {},
   "outputs": [
    {
     "data": {
      "text/plain": [
       "1.5"
      ]
     },
     "execution_count": 40,
     "metadata": {},
     "output_type": "execute_result"
    }
   ],
   "source": [
    "1.5"
   ]
  },
  {
   "cell_type": "code",
   "execution_count": 41,
   "id": "408ce774",
   "metadata": {},
   "outputs": [
    {
     "data": {
      "text/plain": [
       "10.5"
      ]
     },
     "execution_count": 41,
     "metadata": {},
     "output_type": "execute_result"
    }
   ],
   "source": [
    "10.5"
   ]
  },
  {
   "cell_type": "code",
   "execution_count": 42,
   "id": "f9005ea8",
   "metadata": {},
   "outputs": [
    {
     "data": {
      "text/plain": [
       "-10.8"
      ]
     },
     "execution_count": 42,
     "metadata": {},
     "output_type": "execute_result"
    }
   ],
   "source": [
    "-10.8"
   ]
  },
  {
   "cell_type": "code",
   "execution_count": 43,
   "id": "4c19f5a8",
   "metadata": {},
   "outputs": [],
   "source": [
    "# Boolean - either TRUE or FALSE\n"
   ]
  },
  {
   "cell_type": "code",
   "execution_count": 44,
   "id": "5155b7b7",
   "metadata": {},
   "outputs": [
    {
     "data": {
      "text/plain": [
       "True"
      ]
     },
     "execution_count": 44,
     "metadata": {},
     "output_type": "execute_result"
    }
   ],
   "source": [
    "1 == 1"
   ]
  },
  {
   "cell_type": "code",
   "execution_count": 45,
   "id": "112c1791",
   "metadata": {},
   "outputs": [
    {
     "data": {
      "text/plain": [
       "False"
      ]
     },
     "execution_count": 45,
     "metadata": {},
     "output_type": "execute_result"
    }
   ],
   "source": [
    "1 == 4"
   ]
  },
  {
   "cell_type": "code",
   "execution_count": 46,
   "id": "5309cd55",
   "metadata": {},
   "outputs": [],
   "source": [
    "#String - set characters - always enclosed in double or single quotes\n"
   ]
  },
  {
   "cell_type": "code",
   "execution_count": 47,
   "id": "5e7ebf34",
   "metadata": {},
   "outputs": [
    {
     "data": {
      "text/plain": [
       "'hello students'"
      ]
     },
     "execution_count": 47,
     "metadata": {},
     "output_type": "execute_result"
    }
   ],
   "source": [
    "\"hello students\""
   ]
  },
  {
   "cell_type": "code",
   "execution_count": 48,
   "id": "62753d92",
   "metadata": {},
   "outputs": [
    {
     "name": "stdout",
     "output_type": "stream",
     "text": [
      "Hello Students\n"
     ]
    }
   ],
   "source": [
    "print(\"Hello Students\")"
   ]
  },
  {
   "cell_type": "code",
   "execution_count": 49,
   "id": "55d3519e",
   "metadata": {},
   "outputs": [
    {
     "name": "stdout",
     "output_type": "stream",
     "text": [
      "1+5\n"
     ]
    }
   ],
   "source": [
    "print(\"1+5\")"
   ]
  },
  {
   "cell_type": "code",
   "execution_count": 51,
   "id": "1d128054",
   "metadata": {},
   "outputs": [
    {
     "name": "stdout",
     "output_type": "stream",
     "text": [
      "6\n"
     ]
    }
   ],
   "source": [
    "print(1+5)"
   ]
  },
  {
   "cell_type": "code",
   "execution_count": 52,
   "id": "2ad06310",
   "metadata": {},
   "outputs": [
    {
     "ename": "TypeError",
     "evalue": "can only concatenate str (not \"int\") to str",
     "output_type": "error",
     "traceback": [
      "\u001b[1;31m---------------------------------------------------------------------------\u001b[0m",
      "\u001b[1;31mTypeError\u001b[0m                                 Traceback (most recent call last)",
      "Input \u001b[1;32mIn [52]\u001b[0m, in \u001b[0;36m<cell line: 1>\u001b[1;34m()\u001b[0m\n\u001b[1;32m----> 1\u001b[0m \u001b[38;5;28mprint\u001b[39m(\u001b[38;5;124;43m\"\u001b[39;49m\u001b[38;5;124;43mHello\u001b[39;49m\u001b[38;5;124;43m\"\u001b[39;49m\u001b[38;5;241;43m+\u001b[39;49m\u001b[38;5;241;43m10\u001b[39;49m)\n",
      "\u001b[1;31mTypeError\u001b[0m: can only concatenate str (not \"int\") to str"
     ]
    }
   ],
   "source": [
    "print(\"Hello\"+10)"
   ]
  },
  {
   "cell_type": "code",
   "execution_count": 53,
   "id": "f762d2fd",
   "metadata": {},
   "outputs": [
    {
     "name": "stdout",
     "output_type": "stream",
     "text": [
      "Hello10\n"
     ]
    }
   ],
   "source": [
    "print(\"Hello\" + \"10\")"
   ]
  },
  {
   "cell_type": "code",
   "execution_count": 54,
   "id": "aa4670ee",
   "metadata": {},
   "outputs": [
    {
     "name": "stdout",
     "output_type": "stream",
     "text": [
      "1+5\n"
     ]
    }
   ],
   "source": [
    "print('1+5')"
   ]
  },
  {
   "cell_type": "markdown",
   "id": "187a34db",
   "metadata": {},
   "source": [
    "### Operators"
   ]
  },
  {
   "cell_type": "code",
   "execution_count": 59,
   "id": "03868682",
   "metadata": {},
   "outputs": [
    {
     "data": {
      "text/plain": [
       "'\\n+  addition\\n-  substraction\\n*  multiplication\\n/  division\\n== equality comparison\\n=  assignment operator \\n%  modulus\\n\\nAND (&  &&)  AND operator\\nOR (|  ||)   OR Operator\\n \\n'"
      ]
     },
     "execution_count": 59,
     "metadata": {},
     "output_type": "execute_result"
    }
   ],
   "source": [
    "'''\n",
    "+  addition\n",
    "-  substraction\n",
    "*  multiplication\n",
    "/  division\n",
    "== equality comparison\n",
    "=  assignment operator \n",
    "%  modulus\n",
    "\n",
    "AND (&  &&)  AND operator\n",
    "OR (|  ||)   OR Operator\n",
    " \n",
    "'''"
   ]
  },
  {
   "cell_type": "code",
   "execution_count": 55,
   "id": "0aae99ab",
   "metadata": {},
   "outputs": [],
   "source": [
    "a = 10"
   ]
  },
  {
   "cell_type": "code",
   "execution_count": 56,
   "id": "71c5dee5",
   "metadata": {},
   "outputs": [
    {
     "name": "stdout",
     "output_type": "stream",
     "text": [
      "10\n"
     ]
    }
   ],
   "source": [
    "print(a)"
   ]
  },
  {
   "cell_type": "code",
   "execution_count": 57,
   "id": "673ad1bf",
   "metadata": {},
   "outputs": [
    {
     "data": {
      "text/plain": [
       "False"
      ]
     },
     "execution_count": 57,
     "metadata": {},
     "output_type": "execute_result"
    }
   ],
   "source": [
    "1 == 2"
   ]
  },
  {
   "cell_type": "code",
   "execution_count": 60,
   "id": "36a77a18",
   "metadata": {},
   "outputs": [],
   "source": [
    "dict1 = {'name': 'Jane', 'age': 23, 'fav_foods': ['pizza', 'fruit', 'fish']}"
   ]
  },
  {
   "cell_type": "code",
   "execution_count": 61,
   "id": "d203579b",
   "metadata": {},
   "outputs": [
    {
     "data": {
      "text/plain": [
       "'Jane'"
      ]
     },
     "execution_count": 61,
     "metadata": {},
     "output_type": "execute_result"
    }
   ],
   "source": [
    "dict1['name']"
   ]
  },
  {
   "cell_type": "code",
   "execution_count": 62,
   "id": "c3fbef5b",
   "metadata": {},
   "outputs": [
    {
     "data": {
      "text/plain": [
       "23"
      ]
     },
     "execution_count": 62,
     "metadata": {},
     "output_type": "execute_result"
    }
   ],
   "source": [
    "dict1['age']"
   ]
  },
  {
   "cell_type": "code",
   "execution_count": 1,
   "id": "8d752a0f",
   "metadata": {},
   "outputs": [
    {
     "name": "stdout",
     "output_type": "stream",
     "text": [
      "Hello World\n"
     ]
    }
   ],
   "source": [
    "print(\"Hello World\")"
   ]
  },
  {
   "cell_type": "code",
   "execution_count": 2,
   "id": "04604920",
   "metadata": {},
   "outputs": [
    {
     "name": "stdout",
     "output_type": "stream",
     "text": [
      "123\n"
     ]
    }
   ],
   "source": [
    "print(123)"
   ]
  },
  {
   "cell_type": "code",
   "execution_count": 3,
   "id": "4ec34a46",
   "metadata": {},
   "outputs": [],
   "source": [
    "name = \"Sachin\""
   ]
  },
  {
   "cell_type": "code",
   "execution_count": 4,
   "id": "50234930",
   "metadata": {},
   "outputs": [
    {
     "name": "stdout",
     "output_type": "stream",
     "text": [
      "Sachin\n"
     ]
    }
   ],
   "source": [
    "print(name)"
   ]
  },
  {
   "cell_type": "code",
   "execution_count": 5,
   "id": "ecbf1fea",
   "metadata": {},
   "outputs": [
    {
     "data": {
      "text/plain": [
       "str"
      ]
     },
     "execution_count": 5,
     "metadata": {},
     "output_type": "execute_result"
    }
   ],
   "source": [
    "type(name)"
   ]
  },
  {
   "cell_type": "code",
   "execution_count": 6,
   "id": "bdc20db4",
   "metadata": {},
   "outputs": [],
   "source": [
    "rollno = 2"
   ]
  },
  {
   "cell_type": "code",
   "execution_count": 7,
   "id": "03ddd970",
   "metadata": {},
   "outputs": [
    {
     "name": "stdout",
     "output_type": "stream",
     "text": [
      "2\n"
     ]
    }
   ],
   "source": [
    "print(rollno)"
   ]
  },
  {
   "cell_type": "code",
   "execution_count": 8,
   "id": "ce0622cf",
   "metadata": {},
   "outputs": [
    {
     "data": {
      "text/plain": [
       "int"
      ]
     },
     "execution_count": 8,
     "metadata": {},
     "output_type": "execute_result"
    }
   ],
   "source": [
    "type(rollno)"
   ]
  },
  {
   "cell_type": "code",
   "execution_count": 9,
   "id": "654e042b",
   "metadata": {},
   "outputs": [],
   "source": [
    "## f-string"
   ]
  },
  {
   "cell_type": "code",
   "execution_count": 12,
   "id": "4c45122d",
   "metadata": {},
   "outputs": [
    {
     "name": "stdout",
     "output_type": "stream",
     "text": [
      "My Age is 10\n"
     ]
    }
   ],
   "source": [
    "age = 10\n",
    "print(f\"My Age is {age}\")"
   ]
  },
  {
   "cell_type": "code",
   "execution_count": 13,
   "id": "53d5a8d6",
   "metadata": {},
   "outputs": [],
   "source": [
    "age = 10"
   ]
  },
  {
   "cell_type": "code",
   "execution_count": 14,
   "id": "f2e3446a",
   "metadata": {},
   "outputs": [
    {
     "name": "stdout",
     "output_type": "stream",
     "text": [
      "My Age is 10\n"
     ]
    }
   ],
   "source": [
    "print(f\"My Age is {age}\")"
   ]
  },
  {
   "cell_type": "code",
   "execution_count": 15,
   "id": "10b31f69",
   "metadata": {},
   "outputs": [],
   "source": [
    "age = 15"
   ]
  },
  {
   "cell_type": "code",
   "execution_count": 16,
   "id": "20959ae3",
   "metadata": {},
   "outputs": [
    {
     "name": "stdout",
     "output_type": "stream",
     "text": [
      "My Age is 15\n"
     ]
    }
   ],
   "source": [
    "print(f\"My Age is {age}\")"
   ]
  },
  {
   "cell_type": "code",
   "execution_count": 17,
   "id": "4f5ff5a1",
   "metadata": {},
   "outputs": [],
   "source": [
    "## format"
   ]
  },
  {
   "cell_type": "code",
   "execution_count": 18,
   "id": "aaccb535",
   "metadata": {},
   "outputs": [
    {
     "name": "stdout",
     "output_type": "stream",
     "text": [
      "My name is Sachin and age is 10\n"
     ]
    }
   ],
   "source": [
    "name = \"Sachin\"\n",
    "age = 10\n",
    "print(\"My name is {} and age is {}\".format(name, age))"
   ]
  },
  {
   "cell_type": "code",
   "execution_count": 19,
   "id": "5157704e",
   "metadata": {},
   "outputs": [
    {
     "name": "stdout",
     "output_type": "stream",
     "text": [
      "My name is Sachin and age is 20\n"
     ]
    }
   ],
   "source": [
    "name = \"Sachin\"\n",
    "age = 20\n",
    "print(\"My name is {} and age is {}\".format(name, age))"
   ]
  },
  {
   "cell_type": "code",
   "execution_count": 20,
   "id": "30240849",
   "metadata": {},
   "outputs": [],
   "source": [
    "## Placeholder"
   ]
  },
  {
   "cell_type": "code",
   "execution_count": 21,
   "id": "a9255070",
   "metadata": {},
   "outputs": [
    {
     "name": "stdout",
     "output_type": "stream",
     "text": [
      "My name is Sachin and age is 20\n"
     ]
    }
   ],
   "source": [
    "name = \"Sachin\"\n",
    "age = 20\n",
    "print(\"My name is {firstName} and age is {myAge}\".format(firstName = name , myAge = age))"
   ]
  },
  {
   "cell_type": "code",
   "execution_count": 22,
   "id": "b7139c56",
   "metadata": {},
   "outputs": [],
   "source": [
    "## Control Flows - Decision making statements"
   ]
  },
  {
   "cell_type": "code",
   "execution_count": 25,
   "id": "cb9fa838",
   "metadata": {},
   "outputs": [],
   "source": [
    "## if - statment"
   ]
  },
  {
   "cell_type": "code",
   "execution_count": 26,
   "id": "f413a4e0",
   "metadata": {},
   "outputs": [
    {
     "name": "stdout",
     "output_type": "stream",
     "text": [
      "You are eligible to vote\n"
     ]
    }
   ],
   "source": [
    "age = 20\n",
    "if age >=18:\n",
    "    print(\"You are eligible to vote\")"
   ]
  },
  {
   "cell_type": "code",
   "execution_count": 27,
   "id": "6ad380c8",
   "metadata": {},
   "outputs": [],
   "source": [
    "age = 16\n",
    "if age >=18:\n",
    "    print(\"You are eligible to vote\")"
   ]
  },
  {
   "cell_type": "code",
   "execution_count": null,
   "id": "7929da81",
   "metadata": {},
   "outputs": [],
   "source": [
    "if condition:   # condition - True or False\n",
    "    statement"
   ]
  },
  {
   "cell_type": "code",
   "execution_count": 28,
   "id": "c2a8b6ef",
   "metadata": {},
   "outputs": [],
   "source": [
    "## else"
   ]
  },
  {
   "cell_type": "code",
   "execution_count": 29,
   "id": "f5b2d64f",
   "metadata": {},
   "outputs": [
    {
     "name": "stdout",
     "output_type": "stream",
     "text": [
      "You are eligible to vote\n"
     ]
    }
   ],
   "source": [
    "age = 20\n",
    "if age >= 18:\n",
    "    print(\"You are eligible to vote\")\n",
    "else:\n",
    "    print(\"You are not eligible to vote\")"
   ]
  },
  {
   "cell_type": "code",
   "execution_count": 30,
   "id": "7a3648f0",
   "metadata": {},
   "outputs": [
    {
     "name": "stdout",
     "output_type": "stream",
     "text": [
      "You are not eligible to vote\n"
     ]
    }
   ],
   "source": [
    "age = 15\n",
    "if age >= 18:\n",
    "    print(\"You are eligible to vote\")\n",
    "else:\n",
    "    print(\"You are not eligible to vote\")"
   ]
  },
  {
   "cell_type": "code",
   "execution_count": null,
   "id": "8ed121da",
   "metadata": {},
   "outputs": [],
   "source": [
    "if condition:\n",
    "    #execute this if true\n",
    "else:\n",
    "    #execute this if false"
   ]
  },
  {
   "cell_type": "code",
   "execution_count": 31,
   "id": "04827c0f",
   "metadata": {},
   "outputs": [],
   "source": [
    "## input"
   ]
  },
  {
   "cell_type": "code",
   "execution_count": 32,
   "id": "b7f6e5a7",
   "metadata": {},
   "outputs": [
    {
     "name": "stdout",
     "output_type": "stream",
     "text": [
      "Enter you name:  Sachin\n"
     ]
    }
   ],
   "source": [
    "name = input(\"Enter you name:  \")"
   ]
  },
  {
   "cell_type": "code",
   "execution_count": 33,
   "id": "d9540cdc",
   "metadata": {},
   "outputs": [
    {
     "name": "stdout",
     "output_type": "stream",
     "text": [
      "Sachin\n"
     ]
    }
   ],
   "source": [
    "print(name)"
   ]
  },
  {
   "cell_type": "code",
   "execution_count": 34,
   "id": "8bb133a7",
   "metadata": {},
   "outputs": [
    {
     "name": "stdout",
     "output_type": "stream",
     "text": [
      "Enter your age: 15\n"
     ]
    }
   ],
   "source": [
    "age = int(input(\"Enter your age: \"))"
   ]
  },
  {
   "cell_type": "code",
   "execution_count": 35,
   "id": "afd590aa",
   "metadata": {},
   "outputs": [
    {
     "name": "stdout",
     "output_type": "stream",
     "text": [
      "15\n"
     ]
    }
   ],
   "source": [
    "print(age)"
   ]
  },
  {
   "cell_type": "code",
   "execution_count": null,
   "id": "3a94fa50",
   "metadata": {},
   "outputs": [],
   "source": [
    "Task 1:\n",
    "1. Take name and age as input\n",
    "2. Check age if it is between 18-45 years print name and age with messsage as you are eligible for exam\n",
    "3. otherwise tell you are not eligible for exam.\n",
    "4. Show name and age with message in both cases"
   ]
  },
  {
   "cell_type": "code",
   "execution_count": null,
   "id": "58376635",
   "metadata": {},
   "outputs": [],
   "source": [
    "name = input(\"Enter your name : \")\n",
    "age = int(input(\"Enter your age: \"))\n",
    "if age>=18 and age<=45:\n",
    "    print(\"Hi {firstName}, since your age is {myAge}, you are eligible to give exam.\".format(firstName=name, myAge=age))\n",
    "    #print(f\"Hi {name}, since your age is {age}, you are eligible to give exam.\")\n",
    "else:\n",
    "    print(\"Hi {firstName}, since your age is {myAge}, you are NOT eligible to give exam.\".format(firstName=name, myAge=age))"
   ]
  },
  {
   "cell_type": "code",
   "execution_count": null,
   "id": "d7e666a2",
   "metadata": {},
   "outputs": [],
   "source": [
    "## elif - multiple conditions"
   ]
  },
  {
   "cell_type": "code",
   "execution_count": 1,
   "id": "8255ae5f",
   "metadata": {},
   "outputs": [
    {
     "name": "stdout",
     "output_type": "stream",
     "text": [
      "You are in School\n"
     ]
    }
   ],
   "source": [
    "age = 15\n",
    "if age>1 and age <= 15:\n",
    "    print(\"You are in School\")\n",
    "elif age>15 and age <= 22:\n",
    "    print(\"You are in College\")\n",
    "else:\n",
    "    print(\"You are in University\")"
   ]
  },
  {
   "cell_type": "code",
   "execution_count": 2,
   "id": "d6ed0616",
   "metadata": {},
   "outputs": [
    {
     "name": "stdout",
     "output_type": "stream",
     "text": [
      "You are in College\n"
     ]
    }
   ],
   "source": [
    "age = 20\n",
    "if age>1 and age <= 15:\n",
    "    print(\"You are in School\")\n",
    "elif age>15 and age <= 22:\n",
    "    print(\"You are in College\")\n",
    "else:\n",
    "    print(\"You are in University\")"
   ]
  },
  {
   "cell_type": "code",
   "execution_count": 3,
   "id": "e559397b",
   "metadata": {},
   "outputs": [
    {
     "name": "stdout",
     "output_type": "stream",
     "text": [
      "You are in University\n"
     ]
    }
   ],
   "source": [
    "age = 30\n",
    "if age>1 and age <= 15:\n",
    "    print(\"You are in School\")\n",
    "elif age>15 and age <= 22:\n",
    "    print(\"You are in College\")\n",
    "else:\n",
    "    print(\"You are in University\")"
   ]
  },
  {
   "cell_type": "code",
   "execution_count": null,
   "id": "60513767",
   "metadata": {},
   "outputs": [],
   "source": [
    "if -> elif -> elif -> elif -> elif -> else"
   ]
  },
  {
   "cell_type": "code",
   "execution_count": null,
   "id": "d32bb6de",
   "metadata": {},
   "outputs": [],
   "source": [
    "Assignment:\n",
    "- In a mall\n",
    "- Name of customer as input and amount he/she has made shopping for\n",
    "- shopping amount is more than 3000 and less than 5000 give him/her discount of 20% - and type message with name and discounted value\n",
    "- shopping amount is more than 5000 and less than 10000 give him/her discount of 30% - and type message with name and discounted value\n",
    "- shopping amount is more than 10000 give him/her discount of 40% - and type message with name and discounted value\n",
    "- else show customer all above offers\n",
    "\n",
    "use elif here"
   ]
  }
 ],
 "metadata": {
  "kernelspec": {
   "display_name": "Python 3 (ipykernel)",
   "language": "python",
   "name": "python3"
  },
  "language_info": {
   "codemirror_mode": {
    "name": "ipython",
    "version": 3
   },
   "file_extension": ".py",
   "mimetype": "text/x-python",
   "name": "python",
   "nbconvert_exporter": "python",
   "pygments_lexer": "ipython3",
   "version": "3.9.12"
  }
 },
 "nbformat": 4,
 "nbformat_minor": 5
}
