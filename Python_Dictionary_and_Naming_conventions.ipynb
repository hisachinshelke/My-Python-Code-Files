{
 "cells": [
  {
   "cell_type": "markdown",
   "id": "2d8116fe",
   "metadata": {},
   "source": [
    "## Dictionary"
   ]
  },
  {
   "cell_type": "code",
   "execution_count": null,
   "id": "a1eddc14",
   "metadata": {},
   "outputs": [],
   "source": [
    "It is an ordered collection of items. It has Key - Value pairs."
   ]
  },
  {
   "cell_type": "code",
   "execution_count": null,
   "id": "a796dd87",
   "metadata": {},
   "outputs": [],
   "source": [
    "Python - version 3.7 onwards"
   ]
  },
  {
   "cell_type": "code",
   "execution_count": null,
   "id": "9f4bcb7b",
   "metadata": {},
   "outputs": [],
   "source": [
    "Key - Value : Key is unique identifier and is associated with each value\n",
    "Example: Country and its caital\n",
    "         Student roll no and Student detail\n",
    "         bankAcNo and CustomerInfo\n",
    "        productCode and product_Detials"
   ]
  },
  {
   "cell_type": "code",
   "execution_count": null,
   "id": "6ccd2193",
   "metadata": {},
   "outputs": [],
   "source": [
    "Create dictionary:"
   ]
  },
  {
   "cell_type": "code",
   "execution_count": null,
   "id": "24a5b935",
   "metadata": {},
   "outputs": [],
   "source": [
    "#Syntax\n",
    "dict_name = { \"key1\" : \"value1\" , \"Key2\" : \"value2\" , \"Key3\" : \"value3\"}"
   ]
  },
  {
   "cell_type": "code",
   "execution_count": null,
   "id": "aa535372",
   "metadata": {},
   "outputs": [],
   "source": [
    "Keys : Values\n",
    "India - New Delhi\n",
    "England - London\n",
    "Italy - Rome\n",
    "France - Paris\n",
    "Japan - Tokoyo"
   ]
  },
  {
   "cell_type": "code",
   "execution_count": 1,
   "id": "6deb4aeb",
   "metadata": {},
   "outputs": [],
   "source": [
    "country_capital = { \"India\" : \"New Delhi\" , \"England\" : \"London\" , \"Italy\" : \"Rome\" , \"France\" : \"Paris\"}"
   ]
  },
  {
   "cell_type": "code",
   "execution_count": 2,
   "id": "15f9004e",
   "metadata": {},
   "outputs": [
    {
     "name": "stdout",
     "output_type": "stream",
     "text": [
      "{'India': 'New Delhi', 'England': 'London', 'Italy': 'Rome', 'France': 'Paris'}\n"
     ]
    }
   ],
   "source": [
    "print(country_capital)"
   ]
  },
  {
   "cell_type": "code",
   "execution_count": 3,
   "id": "5434a780",
   "metadata": {},
   "outputs": [],
   "source": [
    "student_details = { 1 : \"Amit Singh\" , 2 : \"Abhishek Kumar\" , 3: \"Brijesh Kumar\" , 4 : \"Chetan Sharma\"}"
   ]
  },
  {
   "cell_type": "code",
   "execution_count": 4,
   "id": "f10cd6e4",
   "metadata": {},
   "outputs": [
    {
     "data": {
      "text/plain": [
       "{1: 'Amit Singh', 2: 'Abhishek Kumar', 3: 'Brijesh Kumar', 4: 'Chetan Sharma'}"
      ]
     },
     "execution_count": 4,
     "metadata": {},
     "output_type": "execute_result"
    }
   ],
   "source": [
    "student_details"
   ]
  },
  {
   "cell_type": "code",
   "execution_count": 5,
   "id": "102ddeff",
   "metadata": {},
   "outputs": [
    {
     "data": {
      "text/plain": [
       "dict"
      ]
     },
     "execution_count": 5,
     "metadata": {},
     "output_type": "execute_result"
    }
   ],
   "source": [
    "type(student_details)"
   ]
  },
  {
   "cell_type": "code",
   "execution_count": 6,
   "id": "82885b7a",
   "metadata": {},
   "outputs": [],
   "source": [
    "## Adding elements to dictionary"
   ]
  },
  {
   "cell_type": "code",
   "execution_count": 7,
   "id": "b28a3edc",
   "metadata": {},
   "outputs": [],
   "source": [
    "country_capital = { \"India\" : \"New Delhi\" , \"England\" : \"London\" , \"Italy\" : \"Rome\" , \"France\" : \"Paris\"}"
   ]
  },
  {
   "cell_type": "code",
   "execution_count": 8,
   "id": "c6a054bd",
   "metadata": {},
   "outputs": [
    {
     "name": "stdout",
     "output_type": "stream",
     "text": [
      "{'India': 'New Delhi', 'England': 'London', 'Italy': 'Rome', 'France': 'Paris'}\n"
     ]
    }
   ],
   "source": [
    "print(country_capital)"
   ]
  },
  {
   "cell_type": "code",
   "execution_count": 9,
   "id": "47d1d87c",
   "metadata": {},
   "outputs": [],
   "source": [
    "country_capital[\"Japan\"] = \"Tokyo\"  ## Passing key and value"
   ]
  },
  {
   "cell_type": "code",
   "execution_count": 10,
   "id": "585a9d97",
   "metadata": {},
   "outputs": [
    {
     "name": "stdout",
     "output_type": "stream",
     "text": [
      "{'India': 'New Delhi', 'England': 'London', 'Italy': 'Rome', 'France': 'Paris', 'Japan': 'Tokyo'}\n"
     ]
    }
   ],
   "source": [
    "print(country_capital)"
   ]
  },
  {
   "cell_type": "code",
   "execution_count": 11,
   "id": "ccccddc3",
   "metadata": {},
   "outputs": [],
   "source": [
    "## Change the value in dictionary"
   ]
  },
  {
   "cell_type": "code",
   "execution_count": 12,
   "id": "d486afd1",
   "metadata": {},
   "outputs": [],
   "source": [
    "student_details = { 1 : \"Amit Singh\" , 2 : \"Abhishek Kumar\" , 3: \"Brijesh Kumar\" , 4 : \"Chetan Sharma\"}"
   ]
  },
  {
   "cell_type": "code",
   "execution_count": 13,
   "id": "3fc2746c",
   "metadata": {},
   "outputs": [],
   "source": [
    "student_details[3] = \"Brijesh Sharma\""
   ]
  },
  {
   "cell_type": "code",
   "execution_count": 14,
   "id": "8abb6617",
   "metadata": {},
   "outputs": [
    {
     "data": {
      "text/plain": [
       "{1: 'Amit Singh', 2: 'Abhishek Kumar', 3: 'Brijesh Sharma', 4: 'Chetan Sharma'}"
      ]
     },
     "execution_count": 14,
     "metadata": {},
     "output_type": "execute_result"
    }
   ],
   "source": [
    "student_details"
   ]
  },
  {
   "cell_type": "code",
   "execution_count": 15,
   "id": "f7c1c4a6",
   "metadata": {},
   "outputs": [],
   "source": [
    "## Accessing elements frm dictionary"
   ]
  },
  {
   "cell_type": "code",
   "execution_count": 16,
   "id": "2d7922d0",
   "metadata": {},
   "outputs": [],
   "source": [
    "student_details = { 1 : \"Amit Singh\" , 2 : \"Abhishek Kumar\" , 3: \"Brijesh Kumar\" , 4 : \"Chetan Sharma\"}"
   ]
  },
  {
   "cell_type": "code",
   "execution_count": 17,
   "id": "af681ae9",
   "metadata": {},
   "outputs": [
    {
     "data": {
      "text/plain": [
       "'Chetan Sharma'"
      ]
     },
     "execution_count": 17,
     "metadata": {},
     "output_type": "execute_result"
    }
   ],
   "source": [
    "student_details[4]"
   ]
  },
  {
   "cell_type": "code",
   "execution_count": 18,
   "id": "be59022c",
   "metadata": {},
   "outputs": [
    {
     "data": {
      "text/plain": [
       "'New Delhi'"
      ]
     },
     "execution_count": 18,
     "metadata": {},
     "output_type": "execute_result"
    }
   ],
   "source": [
    "country_capital[\"India\"]"
   ]
  },
  {
   "cell_type": "code",
   "execution_count": 19,
   "id": "8adf1497",
   "metadata": {},
   "outputs": [
    {
     "ename": "KeyError",
     "evalue": "'INdia'",
     "output_type": "error",
     "traceback": [
      "\u001b[1;31m---------------------------------------------------------------------------\u001b[0m",
      "\u001b[1;31mKeyError\u001b[0m                                  Traceback (most recent call last)",
      "Input \u001b[1;32mIn [19]\u001b[0m, in \u001b[0;36m<cell line: 1>\u001b[1;34m()\u001b[0m\n\u001b[1;32m----> 1\u001b[0m \u001b[43mcountry_capital\u001b[49m\u001b[43m[\u001b[49m\u001b[38;5;124;43m\"\u001b[39;49m\u001b[38;5;124;43mINdia\u001b[39;49m\u001b[38;5;124;43m\"\u001b[39;49m\u001b[43m]\u001b[49m\n",
      "\u001b[1;31mKeyError\u001b[0m: 'INdia'"
     ]
    }
   ],
   "source": [
    "country_capital[\"INdia\"]  ## case sensitive"
   ]
  },
  {
   "cell_type": "code",
   "execution_count": 20,
   "id": "1a286ca8",
   "metadata": {},
   "outputs": [
    {
     "ename": "KeyError",
     "evalue": "5",
     "output_type": "error",
     "traceback": [
      "\u001b[1;31m---------------------------------------------------------------------------\u001b[0m",
      "\u001b[1;31mKeyError\u001b[0m                                  Traceback (most recent call last)",
      "Input \u001b[1;32mIn [20]\u001b[0m, in \u001b[0;36m<cell line: 1>\u001b[1;34m()\u001b[0m\n\u001b[1;32m----> 1\u001b[0m \u001b[43mstudent_details\u001b[49m\u001b[43m[\u001b[49m\u001b[38;5;241;43m5\u001b[39;49m\u001b[43m]\u001b[49m\n",
      "\u001b[1;31mKeyError\u001b[0m: 5"
     ]
    }
   ],
   "source": [
    "student_details[5]"
   ]
  },
  {
   "cell_type": "code",
   "execution_count": 21,
   "id": "20f1f846",
   "metadata": {},
   "outputs": [],
   "source": [
    "## Removing elements from dictionry"
   ]
  },
  {
   "cell_type": "code",
   "execution_count": 22,
   "id": "69efbee6",
   "metadata": {},
   "outputs": [],
   "source": [
    "student_details = { 1 : \"Amit Singh\" , 2 : \"Abhishek Kumar\" , 3: \"Brijesh Kumar\" , 4 : \"Chetan Sharma\"}"
   ]
  },
  {
   "cell_type": "code",
   "execution_count": 23,
   "id": "01eed5b9",
   "metadata": {},
   "outputs": [
    {
     "name": "stdout",
     "output_type": "stream",
     "text": [
      "{1: 'Amit Singh', 2: 'Abhishek Kumar', 3: 'Brijesh Kumar', 4: 'Chetan Sharma'}\n"
     ]
    }
   ],
   "source": [
    "print(student_details)"
   ]
  },
  {
   "cell_type": "code",
   "execution_count": 24,
   "id": "80058bcd",
   "metadata": {},
   "outputs": [],
   "source": [
    "del student_details[3]"
   ]
  },
  {
   "cell_type": "code",
   "execution_count": 25,
   "id": "63e140e8",
   "metadata": {},
   "outputs": [
    {
     "name": "stdout",
     "output_type": "stream",
     "text": [
      "{1: 'Amit Singh', 2: 'Abhishek Kumar', 4: 'Chetan Sharma'}\n"
     ]
    }
   ],
   "source": [
    "print(student_details)"
   ]
  },
  {
   "cell_type": "code",
   "execution_count": 26,
   "id": "bab6a294",
   "metadata": {},
   "outputs": [
    {
     "data": {
      "text/plain": [
       "{'India': 'New Delhi',\n",
       " 'England': 'London',\n",
       " 'Italy': 'Rome',\n",
       " 'France': 'Paris',\n",
       " 'Japan': 'Tokyo'}"
      ]
     },
     "execution_count": 26,
     "metadata": {},
     "output_type": "execute_result"
    }
   ],
   "source": [
    "country_capital"
   ]
  },
  {
   "cell_type": "code",
   "execution_count": 27,
   "id": "70b2e10a",
   "metadata": {},
   "outputs": [],
   "source": [
    "del country_capital[\"Japan\"]"
   ]
  },
  {
   "cell_type": "code",
   "execution_count": 28,
   "id": "64d16cce",
   "metadata": {},
   "outputs": [
    {
     "data": {
      "text/plain": [
       "{'India': 'New Delhi', 'England': 'London', 'Italy': 'Rome', 'France': 'Paris'}"
      ]
     },
     "execution_count": 28,
     "metadata": {},
     "output_type": "execute_result"
    }
   ],
   "source": [
    "country_capital"
   ]
  },
  {
   "cell_type": "code",
   "execution_count": 29,
   "id": "133459b3",
   "metadata": {},
   "outputs": [],
   "source": [
    "## Delete dictionary"
   ]
  },
  {
   "cell_type": "code",
   "execution_count": 30,
   "id": "4abab263",
   "metadata": {},
   "outputs": [
    {
     "name": "stdout",
     "output_type": "stream",
     "text": [
      "{1: 'Amit Singh', 2: 'Abhishek Kumar', 4: 'Chetan Sharma'}\n"
     ]
    }
   ],
   "source": [
    "print(student_details)"
   ]
  },
  {
   "cell_type": "code",
   "execution_count": 31,
   "id": "59f05e3b",
   "metadata": {},
   "outputs": [],
   "source": [
    "del student_details "
   ]
  },
  {
   "cell_type": "code",
   "execution_count": 32,
   "id": "2ba6805c",
   "metadata": {},
   "outputs": [
    {
     "ename": "NameError",
     "evalue": "name 'student_details' is not defined",
     "output_type": "error",
     "traceback": [
      "\u001b[1;31m---------------------------------------------------------------------------\u001b[0m",
      "\u001b[1;31mNameError\u001b[0m                                 Traceback (most recent call last)",
      "Input \u001b[1;32mIn [32]\u001b[0m, in \u001b[0;36m<cell line: 1>\u001b[1;34m()\u001b[0m\n\u001b[1;32m----> 1\u001b[0m \u001b[38;5;28mprint\u001b[39m(\u001b[43mstudent_details\u001b[49m)\n",
      "\u001b[1;31mNameError\u001b[0m: name 'student_details' is not defined"
     ]
    }
   ],
   "source": [
    "print(student_details)"
   ]
  },
  {
   "cell_type": "code",
   "execution_count": 33,
   "id": "7eb9b810",
   "metadata": {},
   "outputs": [],
   "source": [
    "## Check if key is present in dictionary"
   ]
  },
  {
   "cell_type": "code",
   "execution_count": 34,
   "id": "952ae813",
   "metadata": {},
   "outputs": [],
   "source": [
    "student_details = { 1 : \"Amit Singh\" , 2 : \"Abhishek Kumar\" , 3: \"Brijesh Kumar\" , 4 : \"Chetan Sharma\"}"
   ]
  },
  {
   "cell_type": "code",
   "execution_count": null,
   "id": "14161667",
   "metadata": {},
   "outputs": [],
   "source": [
    "# syntax - returns true/false\n",
    "key_to_look_for in dict_name"
   ]
  },
  {
   "cell_type": "code",
   "execution_count": 36,
   "id": "96b4635a",
   "metadata": {},
   "outputs": [
    {
     "name": "stdout",
     "output_type": "stream",
     "text": [
      "{1: 'Amit Singh', 2: 'Abhishek Kumar', 3: 'Brijesh Kumar', 4: 'Chetan Sharma'}\n"
     ]
    }
   ],
   "source": [
    "print(student_details)"
   ]
  },
  {
   "cell_type": "code",
   "execution_count": 37,
   "id": "1494578e",
   "metadata": {},
   "outputs": [
    {
     "name": "stdout",
     "output_type": "stream",
     "text": [
      "True\n"
     ]
    }
   ],
   "source": [
    "print(4 in student_details)"
   ]
  },
  {
   "cell_type": "code",
   "execution_count": 38,
   "id": "6b58ac3b",
   "metadata": {},
   "outputs": [
    {
     "name": "stdout",
     "output_type": "stream",
     "text": [
      "False\n"
     ]
    }
   ],
   "source": [
    "print(5 in student_details)"
   ]
  },
  {
   "cell_type": "code",
   "execution_count": 39,
   "id": "30f2b226",
   "metadata": {},
   "outputs": [
    {
     "data": {
      "text/plain": [
       "{'India': 'New Delhi', 'England': 'London', 'Italy': 'Rome', 'France': 'Paris'}"
      ]
     },
     "execution_count": 39,
     "metadata": {},
     "output_type": "execute_result"
    }
   ],
   "source": [
    "country_capital"
   ]
  },
  {
   "cell_type": "code",
   "execution_count": 40,
   "id": "eaf87589",
   "metadata": {},
   "outputs": [
    {
     "name": "stdout",
     "output_type": "stream",
     "text": [
      "True\n"
     ]
    }
   ],
   "source": [
    "print(\"India\" in country_capital)"
   ]
  },
  {
   "cell_type": "code",
   "execution_count": 41,
   "id": "416904fc",
   "metadata": {},
   "outputs": [
    {
     "name": "stdout",
     "output_type": "stream",
     "text": [
      "False\n"
     ]
    }
   ],
   "source": [
    "print(\"Japan\" in country_capital)"
   ]
  },
  {
   "cell_type": "code",
   "execution_count": 42,
   "id": "09bef41c",
   "metadata": {},
   "outputs": [],
   "source": [
    "## Iterating through Dictionary"
   ]
  },
  {
   "cell_type": "code",
   "execution_count": 43,
   "id": "f1cd29d1",
   "metadata": {},
   "outputs": [],
   "source": [
    "student_details = { 1 : \"Amit Singh, Science=80, Pune, Cricket\" , 2 : \"Abhishek Kumar\" , 3: \"Brijesh Kumar\" , 4 : \"Chetan Sharma\"}"
   ]
  },
  {
   "cell_type": "code",
   "execution_count": 44,
   "id": "de902a9f",
   "metadata": {},
   "outputs": [
    {
     "name": "stdout",
     "output_type": "stream",
     "text": [
      "Amit Singh\n",
      "Abhishek Kumar\n",
      "Brijesh Kumar\n",
      "Chetan Sharma\n"
     ]
    }
   ],
   "source": [
    "for roll_no in student_details:\n",
    "    print(student_details[roll_no])"
   ]
  },
  {
   "cell_type": "code",
   "execution_count": 47,
   "id": "b85cefc8",
   "metadata": {},
   "outputs": [
    {
     "name": "stdout",
     "output_type": "stream",
     "text": [
      "1 Amit Singh\n",
      "2 Abhishek Kumar\n",
      "3 Brijesh Kumar\n",
      "4 Chetan Sharma\n"
     ]
    }
   ],
   "source": [
    "for roll_no in student_details:\n",
    "    print(roll_no, student_details[roll_no])"
   ]
  },
  {
   "cell_type": "code",
   "execution_count": null,
   "id": "25d229c7",
   "metadata": {},
   "outputs": [],
   "source": [
    "## SETS - read"
   ]
  },
  {
   "cell_type": "code",
   "execution_count": 48,
   "id": "29e27104",
   "metadata": {},
   "outputs": [],
   "source": [
    "student_details = { 1 : \"Amit Singh, Science=80, Pune, Cricket\" , 2 : \"Abhishek Kumar\" , 3: \"Brijesh Kumar\" , 4 : \"Chetan Sharma\"}"
   ]
  },
  {
   "cell_type": "code",
   "execution_count": 49,
   "id": "9fb944d5",
   "metadata": {},
   "outputs": [
    {
     "data": {
      "text/plain": [
       "'Amit Singh, Science=80, Pune, Cricket'"
      ]
     },
     "execution_count": 49,
     "metadata": {},
     "output_type": "execute_result"
    }
   ],
   "source": [
    "student_details[1]"
   ]
  },
  {
   "cell_type": "code",
   "execution_count": null,
   "id": "ff930bfa",
   "metadata": {},
   "outputs": [],
   "source": [
    "Inbuilt functions:\n",
    "1. all()\n",
    "2. any()\n",
    "3. len()\n",
    "4. sorted()\n",
    "5. clear()"
   ]
  },
  {
   "cell_type": "code",
   "execution_count": null,
   "id": "22c21e30",
   "metadata": {},
   "outputs": [],
   "source": [
    "## Python Naming conventions\n",
    "\n",
    "1. variable name - should always start with letter or underscore _   never start with number or symbol other than underscore\n",
    "allStudents, roll_no, _house_address - acceptable\n",
    "1allStudents, 7_name, #_rollno, etc - not acceptable\n",
    "\n",
    "2. variable names can only contain alpha-numeric characters and underscore\n",
    "roll_no, student_list_1 -> acceptable\n",
    "\n",
    "3. variable names are case sensitive\n",
    "name and Name - different variable\n",
    "roll_no and roll_No - different variable\n",
    "\n",
    "4. variable name should not be same as keywords\n",
    "\n",
    "\n",
    "variable = \"Hello\"\n",
    "variable_first = \"Hello\"\n",
    "_variable_first = \"Hello\"\n",
    "variableFirst = \"Hello\"\n",
    "variableFirst2 = \"Hello\"\n",
    "2variableFirst = \"Hello\"\n",
    "variable-First = \"Hello\"\n",
    "variable First = \"Hello\""
   ]
  }
 ],
 "metadata": {
  "kernelspec": {
   "display_name": "Python 3 (ipykernel)",
   "language": "python",
   "name": "python3"
  },
  "language_info": {
   "codemirror_mode": {
    "name": "ipython",
    "version": 3
   },
   "file_extension": ".py",
   "mimetype": "text/x-python",
   "name": "python",
   "nbconvert_exporter": "python",
   "pygments_lexer": "ipython3",
   "version": "3.9.12"
  }
 },
 "nbformat": 4,
 "nbformat_minor": 5
}
