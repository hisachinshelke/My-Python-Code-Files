{
 "cells": [
  {
   "cell_type": "code",
   "execution_count": null,
   "id": "05bc9db4",
   "metadata": {},
   "outputs": [],
   "source": [
    "## Inheritance in Python"
   ]
  },
  {
   "cell_type": "code",
   "execution_count": null,
   "id": "d9360fa9",
   "metadata": {},
   "outputs": [],
   "source": [
    "Inhertiance is a concept that allows to inherit properties/methods/functions, etc from another class.\n",
    "\n",
    "Parent class - class whose properties are inherited. Also called Base class\n",
    "\n",
    "Child class - class that inherits from another class. Also called Dervied class."
   ]
  },
  {
   "cell_type": "code",
   "execution_count": 6,
   "id": "019797f9",
   "metadata": {},
   "outputs": [],
   "source": [
    "class Car:\n",
    "    def moves(self):\n",
    "        print(\"It can move.\")\n",
    "        \n"
   ]
  },
  {
   "cell_type": "code",
   "execution_count": 7,
   "id": "a1c38c08",
   "metadata": {},
   "outputs": [],
   "source": [
    "class HondaCity:\n",
    "    def drift(self):\n",
    "        print(\"It can drift.\")"
   ]
  },
  {
   "cell_type": "code",
   "execution_count": 8,
   "id": "b96885b2",
   "metadata": {},
   "outputs": [],
   "source": [
    "hondaCity = HondaCity()\n"
   ]
  },
  {
   "cell_type": "code",
   "execution_count": 9,
   "id": "25373610",
   "metadata": {},
   "outputs": [
    {
     "name": "stdout",
     "output_type": "stream",
     "text": [
      "It can drift.\n"
     ]
    }
   ],
   "source": [
    "hondaCity.drift()"
   ]
  },
  {
   "cell_type": "code",
   "execution_count": 10,
   "id": "a111f9d1",
   "metadata": {},
   "outputs": [
    {
     "ename": "AttributeError",
     "evalue": "'HondaCity' object has no attribute 'moves'",
     "output_type": "error",
     "traceback": [
      "\u001b[1;31m---------------------------------------------------------------------------\u001b[0m",
      "\u001b[1;31mAttributeError\u001b[0m                            Traceback (most recent call last)",
      "Input \u001b[1;32mIn [10]\u001b[0m, in \u001b[0;36m<cell line: 1>\u001b[1;34m()\u001b[0m\n\u001b[1;32m----> 1\u001b[0m \u001b[43mhondaCity\u001b[49m\u001b[38;5;241;43m.\u001b[39;49m\u001b[43mmoves\u001b[49m()\n",
      "\u001b[1;31mAttributeError\u001b[0m: 'HondaCity' object has no attribute 'moves'"
     ]
    }
   ],
   "source": [
    "hondaCity.moves()"
   ]
  },
  {
   "cell_type": "code",
   "execution_count": 11,
   "id": "13987b68",
   "metadata": {},
   "outputs": [],
   "source": [
    "## inheriting the Car class in HondaCity class"
   ]
  },
  {
   "cell_type": "code",
   "execution_count": 12,
   "id": "6bab33d5",
   "metadata": {},
   "outputs": [],
   "source": [
    "class HondaCity(Car):\n",
    "    def drift(self):\n",
    "        print(\"It can drift.\")"
   ]
  },
  {
   "cell_type": "code",
   "execution_count": 13,
   "id": "071b9bd5",
   "metadata": {},
   "outputs": [],
   "source": [
    "hondaCity1 = HondaCity()"
   ]
  },
  {
   "cell_type": "code",
   "execution_count": 14,
   "id": "ad590d19",
   "metadata": {},
   "outputs": [
    {
     "name": "stdout",
     "output_type": "stream",
     "text": [
      "It can move.\n"
     ]
    }
   ],
   "source": [
    "hondaCity1.moves()"
   ]
  },
  {
   "cell_type": "code",
   "execution_count": null,
   "id": "7a303b62",
   "metadata": {},
   "outputs": [],
   "source": [
    "Assignment:\n",
    "1. Create a class Animal\n",
    "2. Create a function eats() - prints \"It can eat\"\n",
    "3. Create a new class Cat\n",
    "4. Create its function as jumps() - prints \"Tt can jump\"\n",
    "5. Inherit Animal function in Cat class\n",
    "6. Create a new object of this cat class \n",
    "7. access the function of inherited Animal class using cat object\n"
   ]
  },
  {
   "cell_type": "code",
   "execution_count": 15,
   "id": "1ba3850a",
   "metadata": {},
   "outputs": [],
   "source": [
    "class Animal:\n",
    "    def eats(self):\n",
    "        print(\"It can eat\")\n",
    "        \n",
    "class Cat:\n",
    "    def jumps(self):\n",
    "        print(\"It can jump\")\n",
    "        "
   ]
  },
  {
   "cell_type": "code",
   "execution_count": 16,
   "id": "a969f63e",
   "metadata": {},
   "outputs": [],
   "source": [
    "cat1 = Cat()"
   ]
  },
  {
   "cell_type": "code",
   "execution_count": 17,
   "id": "4492e679",
   "metadata": {},
   "outputs": [
    {
     "name": "stdout",
     "output_type": "stream",
     "text": [
      "It can jump\n"
     ]
    }
   ],
   "source": [
    "cat1.jumps()"
   ]
  },
  {
   "cell_type": "code",
   "execution_count": 18,
   "id": "8275e98e",
   "metadata": {},
   "outputs": [],
   "source": [
    "class Cat(Animal):\n",
    "    def jumps(self):\n",
    "        print(\"It can jump\")"
   ]
  },
  {
   "cell_type": "code",
   "execution_count": 19,
   "id": "73a0565f",
   "metadata": {},
   "outputs": [],
   "source": [
    "cat2 = Cat()"
   ]
  },
  {
   "cell_type": "code",
   "execution_count": 20,
   "id": "ff5e5b89",
   "metadata": {},
   "outputs": [
    {
     "name": "stdout",
     "output_type": "stream",
     "text": [
      "It can eat\n"
     ]
    }
   ],
   "source": [
    "cat2.eats()"
   ]
  },
  {
   "cell_type": "code",
   "execution_count": null,
   "id": "1aa382a8",
   "metadata": {},
   "outputs": [],
   "source": [
    "Syntax:\n",
    "    \n",
    "class ChildClassName(ParentClassName):\n",
    "    #statements \n",
    "    #\n",
    "    #\n",
    "\n",
    "childClassObject = ChildClassName()\n",
    "\n",
    "childClassObject.parentClassProperties()"
   ]
  },
  {
   "cell_type": "code",
   "execution_count": null,
   "id": "22dcc20b",
   "metadata": {},
   "outputs": [],
   "source": [
    "#Example: "
   ]
  },
  {
   "cell_type": "code",
   "execution_count": 21,
   "id": "3b3482b9",
   "metadata": {},
   "outputs": [],
   "source": [
    "# Parent Class\n",
    "\n",
    "class Polygon:\n",
    "    def __init__(self,sides):\n",
    "        self.sides = sides\n",
    "        \n",
    "    def show_message(self):\n",
    "        print(\"Polygon is any geometrical figure with straight lines\")\n",
    "        \n",
    "    def calculate_perimeter(self):\n",
    "        return sum(self.sides)"
   ]
  },
  {
   "cell_type": "code",
   "execution_count": 22,
   "id": "b4abcfa9",
   "metadata": {},
   "outputs": [],
   "source": [
    "# Child class\n",
    "\n",
    "class Traingle(Polygon):\n",
    "    def show_message(self):\n",
    "        print(\"Triangle is a geometrical figure with 3 straight lines\")\n",
    "    "
   ]
  },
  {
   "cell_type": "code",
   "execution_count": 23,
   "id": "30ca9842",
   "metadata": {},
   "outputs": [],
   "source": [
    "# Class class\n",
    "\n",
    "class Rectangle(Polygon):\n",
    "    def show_message(self):\n",
    "        print(\"Rectangle is a geometrical figure with 4 straight lines\")"
   ]
  },
  {
   "cell_type": "code",
   "execution_count": null,
   "id": "2a64bbbb",
   "metadata": {},
   "outputs": [],
   "source": [
    "## Method Overriding"
   ]
  },
  {
   "cell_type": "code",
   "execution_count": 24,
   "id": "3b451e9b",
   "metadata": {},
   "outputs": [],
   "source": [
    "triangleObj = Traingle([10,20,30])"
   ]
  },
  {
   "cell_type": "code",
   "execution_count": 25,
   "id": "e62b178f",
   "metadata": {},
   "outputs": [
    {
     "name": "stdout",
     "output_type": "stream",
     "text": [
      "Perimeter of Triangle is :  60\n"
     ]
    }
   ],
   "source": [
    "print(\"Perimeter of Triangle is : \", triangleObj.calculate_perimeter())"
   ]
  },
  {
   "cell_type": "code",
   "execution_count": 26,
   "id": "afa3acb5",
   "metadata": {},
   "outputs": [],
   "source": [
    "rectangleObj = Rectangle([10,20,10,20])"
   ]
  },
  {
   "cell_type": "code",
   "execution_count": 28,
   "id": "ccb0acf3",
   "metadata": {},
   "outputs": [
    {
     "name": "stdout",
     "output_type": "stream",
     "text": [
      "Perimeter of Rectangle is :  60\n"
     ]
    }
   ],
   "source": [
    "print(\"Perimeter of Rectangle is : \" , rectangleObj.calculate_perimeter())"
   ]
  },
  {
   "cell_type": "code",
   "execution_count": 29,
   "id": "02a77f05",
   "metadata": {},
   "outputs": [
    {
     "name": "stdout",
     "output_type": "stream",
     "text": [
      "Rectangle is a geometrical figure with 4 straight lines\n"
     ]
    }
   ],
   "source": [
    "rectangleObj.show_message()"
   ]
  },
  {
   "cell_type": "code",
   "execution_count": 30,
   "id": "514550a8",
   "metadata": {},
   "outputs": [
    {
     "name": "stdout",
     "output_type": "stream",
     "text": [
      "Triangle is a geometrical figure with 3 straight lines\n"
     ]
    }
   ],
   "source": [
    "triangleObj.show_message()"
   ]
  },
  {
   "cell_type": "code",
   "execution_count": 32,
   "id": "3f062126",
   "metadata": {},
   "outputs": [],
   "source": [
    "polygonObj = Polygon([5])"
   ]
  },
  {
   "cell_type": "code",
   "execution_count": 33,
   "id": "a3012681",
   "metadata": {},
   "outputs": [
    {
     "name": "stdout",
     "output_type": "stream",
     "text": [
      "Polygon is any geometrical figure with straight lines\n"
     ]
    }
   ],
   "source": [
    "polygonObj.show_message()"
   ]
  },
  {
   "cell_type": "code",
   "execution_count": null,
   "id": "0b42b511",
   "metadata": {},
   "outputs": [],
   "source": [
    "## Method Overriding - If both the Parent and child class has same method , then the child class overrides the parent class method.\n",
    "# Meaning - method name is same but behaviour is different."
   ]
  },
  {
   "cell_type": "code",
   "execution_count": null,
   "id": "73d85a99",
   "metadata": {},
   "outputs": [],
   "source": []
  },
  {
   "cell_type": "code",
   "execution_count": null,
   "id": "1fee9a31",
   "metadata": {},
   "outputs": [],
   "source": []
  },
  {
   "cell_type": "code",
   "execution_count": null,
   "id": "c91a8520",
   "metadata": {},
   "outputs": [],
   "source": []
  },
  {
   "cell_type": "code",
   "execution_count": null,
   "id": "c59ea6ca",
   "metadata": {},
   "outputs": [],
   "source": []
  },
  {
   "cell_type": "code",
   "execution_count": null,
   "id": "ce344b12",
   "metadata": {},
   "outputs": [],
   "source": []
  },
  {
   "cell_type": "code",
   "execution_count": null,
   "id": "9dbb21fe",
   "metadata": {},
   "outputs": [],
   "source": []
  },
  {
   "cell_type": "code",
   "execution_count": null,
   "id": "5515d020",
   "metadata": {},
   "outputs": [],
   "source": []
  },
  {
   "cell_type": "code",
   "execution_count": null,
   "id": "c88dd6c5",
   "metadata": {},
   "outputs": [],
   "source": []
  },
  {
   "cell_type": "code",
   "execution_count": null,
   "id": "b77df1c0",
   "metadata": {},
   "outputs": [],
   "source": []
  },
  {
   "cell_type": "code",
   "execution_count": null,
   "id": "c563c77e",
   "metadata": {},
   "outputs": [],
   "source": []
  }
 ],
 "metadata": {
  "kernelspec": {
   "display_name": "Python 3 (ipykernel)",
   "language": "python",
   "name": "python3"
  },
  "language_info": {
   "codemirror_mode": {
    "name": "ipython",
    "version": 3
   },
   "file_extension": ".py",
   "mimetype": "text/x-python",
   "name": "python",
   "nbconvert_exporter": "python",
   "pygments_lexer": "ipython3",
   "version": "3.9.12"
  }
 },
 "nbformat": 4,
 "nbformat_minor": 5
}
