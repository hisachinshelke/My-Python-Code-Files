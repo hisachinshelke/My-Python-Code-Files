{
 "cells": [
  {
   "cell_type": "code",
   "execution_count": 2,
   "id": "37ced8f0",
   "metadata": {},
   "outputs": [
    {
     "name": "stdout",
     "output_type": "stream",
     "text": [
      "apple\n",
      "banana\n",
      "grapes\n",
      "kivi\n",
      "imlii\n",
      "mka\n"
     ]
    }
   ],
   "source": [
    "fruits=[\"apple\",\"banana\",\"grapes\",\"mango\",\"kivi\",\"imlii\",\"mka\"]\n",
    "for favfruit in fruits:\n",
    "    if favfruit==\"mango\":\n",
    "        continue\n",
    "    print(favfruit)"
   ]
  },
  {
   "cell_type": "code",
   "execution_count": 3,
   "id": "7a0fbb97",
   "metadata": {},
   "outputs": [],
   "source": [
    "## Strings "
   ]
  },
  {
   "cell_type": "code",
   "execution_count": 4,
   "id": "e4a25922",
   "metadata": {},
   "outputs": [
    {
     "name": "stdout",
     "output_type": "stream",
     "text": [
      "Sachin\n"
     ]
    }
   ],
   "source": [
    "name = \"Sachin\"\n",
    "print(name)"
   ]
  },
  {
   "cell_type": "code",
   "execution_count": 5,
   "id": "e41efc2a",
   "metadata": {},
   "outputs": [
    {
     "name": "stdout",
     "output_type": "stream",
     "text": [
      "S\n",
      "a\n",
      "c\n",
      "h\n",
      "i\n",
      "n\n"
     ]
    }
   ],
   "source": [
    "for char in name:\n",
    "    print(char)"
   ]
  },
  {
   "cell_type": "code",
   "execution_count": 6,
   "id": "ce039a68",
   "metadata": {},
   "outputs": [
    {
     "name": "stdout",
     "output_type": "stream",
     "text": [
      "Sachin\n"
     ]
    }
   ],
   "source": [
    "name = 'Sachin'\n",
    "print(name)"
   ]
  },
  {
   "cell_type": "code",
   "execution_count": 7,
   "id": "c9dd5e58",
   "metadata": {},
   "outputs": [],
   "source": [
    "fruits=[\"apple\",\"banana\",\"grapes\",\"mango\",\"kivi\",\"imlii\",\"mka\"]"
   ]
  },
  {
   "cell_type": "code",
   "execution_count": 9,
   "id": "c08ddb5c",
   "metadata": {},
   "outputs": [
    {
     "name": "stdout",
     "output_type": "stream",
     "text": [
      "apple\n",
      "banana\n",
      "grapes\n",
      "mango\n",
      "kivi\n",
      "imlii\n",
      "mka\n"
     ]
    }
   ],
   "source": [
    "for fruit in fruits:\n",
    "    print(fruit)"
   ]
  },
  {
   "cell_type": "code",
   "execution_count": null,
   "id": "e6ae6e52",
   "metadata": {},
   "outputs": [],
   "source": [
    "## Indexing in Python"
   ]
  },
  {
   "cell_type": "code",
   "execution_count": 10,
   "id": "9dbc6777",
   "metadata": {},
   "outputs": [
    {
     "data": {
      "text/plain": [
       "'grapes'"
      ]
     },
     "execution_count": 10,
     "metadata": {},
     "output_type": "execute_result"
    }
   ],
   "source": [
    "fruits[2]"
   ]
  },
  {
   "cell_type": "code",
   "execution_count": 11,
   "id": "9fdb47ec",
   "metadata": {},
   "outputs": [
    {
     "data": {
      "text/plain": [
       "'imlii'"
      ]
     },
     "execution_count": 11,
     "metadata": {},
     "output_type": "execute_result"
    }
   ],
   "source": [
    "fruits[5]"
   ]
  },
  {
   "cell_type": "code",
   "execution_count": 12,
   "id": "25655bf3",
   "metadata": {},
   "outputs": [
    {
     "data": {
      "text/plain": [
       "'mka'"
      ]
     },
     "execution_count": 12,
     "metadata": {},
     "output_type": "execute_result"
    }
   ],
   "source": [
    "fruits[-1]"
   ]
  },
  {
   "cell_type": "code",
   "execution_count": 13,
   "id": "cd562baa",
   "metadata": {},
   "outputs": [
    {
     "data": {
      "text/plain": [
       "'mango'"
      ]
     },
     "execution_count": 13,
     "metadata": {},
     "output_type": "execute_result"
    }
   ],
   "source": [
    "fruits[3]"
   ]
  },
  {
   "cell_type": "code",
   "execution_count": 14,
   "id": "09bccb5e",
   "metadata": {},
   "outputs": [
    {
     "data": {
      "text/plain": [
       "'mango'"
      ]
     },
     "execution_count": 14,
     "metadata": {},
     "output_type": "execute_result"
    }
   ],
   "source": [
    "fruits[-4]"
   ]
  },
  {
   "cell_type": "code",
   "execution_count": 15,
   "id": "97ea28d9",
   "metadata": {},
   "outputs": [
    {
     "data": {
      "text/plain": [
       "'Sachin'"
      ]
     },
     "execution_count": 15,
     "metadata": {},
     "output_type": "execute_result"
    }
   ],
   "source": [
    "name"
   ]
  },
  {
   "cell_type": "code",
   "execution_count": 16,
   "id": "cb5dbd57",
   "metadata": {},
   "outputs": [
    {
     "data": {
      "text/plain": [
       "'h'"
      ]
     },
     "execution_count": 16,
     "metadata": {},
     "output_type": "execute_result"
    }
   ],
   "source": [
    "name[3]"
   ]
  },
  {
   "cell_type": "code",
   "execution_count": 17,
   "id": "9ff8dc55",
   "metadata": {},
   "outputs": [
    {
     "data": {
      "text/plain": [
       "'i'"
      ]
     },
     "execution_count": 17,
     "metadata": {},
     "output_type": "execute_result"
    }
   ],
   "source": [
    "name[-2]"
   ]
  },
  {
   "cell_type": "code",
   "execution_count": null,
   "id": "29cd3fe7",
   "metadata": {},
   "outputs": [],
   "source": [
    "In Python the indexing starts from 0 if taken as positive value - goes from left to right\n",
    "And, starts from -1 if taken as negative value - goes from right to left"
   ]
  },
  {
   "cell_type": "code",
   "execution_count": null,
   "id": "5627d66f",
   "metadata": {},
   "outputs": [],
   "source": []
  },
  {
   "cell_type": "code",
   "execution_count": null,
   "id": "8eb57701",
   "metadata": {},
   "outputs": [],
   "source": []
  },
  {
   "cell_type": "code",
   "execution_count": null,
   "id": "ecfad480",
   "metadata": {},
   "outputs": [],
   "source": [
    "Postion is actual rank/place and index is as defined"
   ]
  },
  {
   "cell_type": "code",
   "execution_count": 18,
   "id": "f4576255",
   "metadata": {},
   "outputs": [],
   "source": [
    "fruits=[\"apple\",\"banana\",\"grapes\",\"mango\",\"kivi\",\"imlii\",\"mka\"]"
   ]
  },
  {
   "cell_type": "code",
   "execution_count": 19,
   "id": "5fc7e99c",
   "metadata": {},
   "outputs": [
    {
     "data": {
      "text/plain": [
       "'mka'"
      ]
     },
     "execution_count": 19,
     "metadata": {},
     "output_type": "execute_result"
    }
   ],
   "source": [
    "fruits[6]"
   ]
  },
  {
   "cell_type": "code",
   "execution_count": 20,
   "id": "abe438c2",
   "metadata": {},
   "outputs": [],
   "source": [
    "fruits[6] = \"Corn\""
   ]
  },
  {
   "cell_type": "code",
   "execution_count": 21,
   "id": "23810286",
   "metadata": {},
   "outputs": [
    {
     "data": {
      "text/plain": [
       "'Corn'"
      ]
     },
     "execution_count": 21,
     "metadata": {},
     "output_type": "execute_result"
    }
   ],
   "source": [
    "fruits[6]"
   ]
  },
  {
   "cell_type": "code",
   "execution_count": 22,
   "id": "a133126d",
   "metadata": {},
   "outputs": [
    {
     "name": "stdout",
     "output_type": "stream",
     "text": [
      "['apple', 'banana', 'grapes', 'mango', 'kivi', 'imlii', 'Corn']\n"
     ]
    }
   ],
   "source": [
    "print(fruits)"
   ]
  },
  {
   "cell_type": "code",
   "execution_count": null,
   "id": "afd39e55",
   "metadata": {},
   "outputs": [],
   "source": [
    "mutability - able to modify it."
   ]
  },
  {
   "cell_type": "code",
   "execution_count": 23,
   "id": "d8bf65d1",
   "metadata": {},
   "outputs": [],
   "source": [
    "name = \"Sachin Shelke\""
   ]
  },
  {
   "cell_type": "code",
   "execution_count": 24,
   "id": "ab18f2a1",
   "metadata": {},
   "outputs": [
    {
     "name": "stdout",
     "output_type": "stream",
     "text": [
      "S\n",
      "a\n",
      "c\n",
      "h\n",
      "i\n",
      "n\n",
      " \n",
      "S\n",
      "h\n",
      "e\n",
      "l\n",
      "k\n",
      "e\n"
     ]
    }
   ],
   "source": [
    "for char in name:\n",
    "    print(char)"
   ]
  },
  {
   "cell_type": "code",
   "execution_count": 25,
   "id": "c81221a8",
   "metadata": {},
   "outputs": [],
   "source": [
    "name1 = \"Sachin\""
   ]
  },
  {
   "cell_type": "code",
   "execution_count": 26,
   "id": "ded26346",
   "metadata": {},
   "outputs": [
    {
     "data": {
      "text/plain": [
       "'n'"
      ]
     },
     "execution_count": 26,
     "metadata": {},
     "output_type": "execute_result"
    }
   ],
   "source": [
    "name1[5]"
   ]
  },
  {
   "cell_type": "code",
   "execution_count": 27,
   "id": "3703d0b9",
   "metadata": {},
   "outputs": [
    {
     "data": {
      "text/plain": [
       "'c'"
      ]
     },
     "execution_count": 27,
     "metadata": {},
     "output_type": "execute_result"
    }
   ],
   "source": [
    "name1[2]"
   ]
  },
  {
   "cell_type": "code",
   "execution_count": 28,
   "id": "3505db7e",
   "metadata": {},
   "outputs": [
    {
     "data": {
      "text/plain": [
       "'Sachin Shelke'"
      ]
     },
     "execution_count": 28,
     "metadata": {},
     "output_type": "execute_result"
    }
   ],
   "source": [
    "name"
   ]
  },
  {
   "cell_type": "code",
   "execution_count": 29,
   "id": "1d3750d9",
   "metadata": {},
   "outputs": [
    {
     "data": {
      "text/plain": [
       "'n'"
      ]
     },
     "execution_count": 29,
     "metadata": {},
     "output_type": "execute_result"
    }
   ],
   "source": [
    "name[5]"
   ]
  },
  {
   "cell_type": "code",
   "execution_count": 30,
   "id": "538e3036",
   "metadata": {},
   "outputs": [
    {
     "ename": "TypeError",
     "evalue": "'str' object does not support item assignment",
     "output_type": "error",
     "traceback": [
      "\u001b[1;31m---------------------------------------------------------------------------\u001b[0m",
      "\u001b[1;31mTypeError\u001b[0m                                 Traceback (most recent call last)",
      "Input \u001b[1;32mIn [30]\u001b[0m, in \u001b[0;36m<cell line: 1>\u001b[1;34m()\u001b[0m\n\u001b[1;32m----> 1\u001b[0m name[\u001b[38;5;241m5\u001b[39m] \u001b[38;5;241m=\u001b[39m \u001b[38;5;124m\"\u001b[39m\u001b[38;5;124mz\u001b[39m\u001b[38;5;124m\"\u001b[39m\n",
      "\u001b[1;31mTypeError\u001b[0m: 'str' object does not support item assignment"
     ]
    }
   ],
   "source": [
    "name[5] = \"z\""
   ]
  },
  {
   "cell_type": "markdown",
   "id": "65c407eb",
   "metadata": {},
   "source": [
    "String are immutable - we cannot modify it by using assigment operator"
   ]
  },
  {
   "cell_type": "code",
   "execution_count": 31,
   "id": "59cb579a",
   "metadata": {},
   "outputs": [
    {
     "data": {
      "text/plain": [
       "'Sachin Shelke'"
      ]
     },
     "execution_count": 31,
     "metadata": {},
     "output_type": "execute_result"
    }
   ],
   "source": [
    "name"
   ]
  },
  {
   "cell_type": "code",
   "execution_count": 32,
   "id": "0ed943ca",
   "metadata": {},
   "outputs": [
    {
     "data": {
      "text/plain": [
       "'n Shelke'"
      ]
     },
     "execution_count": 32,
     "metadata": {},
     "output_type": "execute_result"
    }
   ],
   "source": [
    "name[5:]"
   ]
  },
  {
   "cell_type": "code",
   "execution_count": 33,
   "id": "adc9d4a0",
   "metadata": {},
   "outputs": [
    {
     "data": {
      "text/plain": [
       "'n She'"
      ]
     },
     "execution_count": 33,
     "metadata": {},
     "output_type": "execute_result"
    }
   ],
   "source": [
    "name[5:10]"
   ]
  },
  {
   "cell_type": "code",
   "execution_count": 34,
   "id": "3093e0f3",
   "metadata": {},
   "outputs": [
    {
     "data": {
      "text/plain": [
       "'Sachi'"
      ]
     },
     "execution_count": 34,
     "metadata": {},
     "output_type": "execute_result"
    }
   ],
   "source": [
    "name[:5]"
   ]
  },
  {
   "cell_type": "code",
   "execution_count": 37,
   "id": "d663f2c4",
   "metadata": {},
   "outputs": [
    {
     "data": {
      "text/plain": [
       "'e'"
      ]
     },
     "execution_count": 37,
     "metadata": {},
     "output_type": "execute_result"
    }
   ],
   "source": [
    "name[-4]"
   ]
  },
  {
   "cell_type": "code",
   "execution_count": 38,
   "id": "f5347513",
   "metadata": {},
   "outputs": [
    {
     "data": {
      "text/plain": [
       "'Sachin Sh'"
      ]
     },
     "execution_count": 38,
     "metadata": {},
     "output_type": "execute_result"
    }
   ],
   "source": [
    "name[:-4]"
   ]
  },
  {
   "cell_type": "code",
   "execution_count": 39,
   "id": "90951904",
   "metadata": {},
   "outputs": [
    {
     "data": {
      "text/plain": [
       "'helke'"
      ]
     },
     "execution_count": 39,
     "metadata": {},
     "output_type": "execute_result"
    }
   ],
   "source": [
    "name[-5:]"
   ]
  },
  {
   "cell_type": "code",
   "execution_count": 40,
   "id": "e47bb063",
   "metadata": {},
   "outputs": [
    {
     "data": {
      "text/plain": [
       "'n'"
      ]
     },
     "execution_count": 40,
     "metadata": {},
     "output_type": "execute_result"
    }
   ],
   "source": [
    "name[-8]"
   ]
  },
  {
   "cell_type": "code",
   "execution_count": 41,
   "id": "b1fb1981",
   "metadata": {},
   "outputs": [
    {
     "data": {
      "text/plain": [
       "'n Shel'"
      ]
     },
     "execution_count": 41,
     "metadata": {},
     "output_type": "execute_result"
    }
   ],
   "source": [
    "name[-8:-2]"
   ]
  },
  {
   "cell_type": "code",
   "execution_count": 42,
   "id": "e3b1ed94",
   "metadata": {},
   "outputs": [
    {
     "ename": "IndexError",
     "evalue": "string index out of range",
     "output_type": "error",
     "traceback": [
      "\u001b[1;31m---------------------------------------------------------------------------\u001b[0m",
      "\u001b[1;31mIndexError\u001b[0m                                Traceback (most recent call last)",
      "Input \u001b[1;32mIn [42]\u001b[0m, in \u001b[0;36m<cell line: 1>\u001b[1;34m()\u001b[0m\n\u001b[1;32m----> 1\u001b[0m \u001b[43mname\u001b[49m\u001b[43m[\u001b[49m\u001b[38;5;241;43m15\u001b[39;49m\u001b[43m]\u001b[49m\n",
      "\u001b[1;31mIndexError\u001b[0m: string index out of range"
     ]
    }
   ],
   "source": [
    "name[15]"
   ]
  },
  {
   "cell_type": "code",
   "execution_count": 52,
   "id": "2688464f",
   "metadata": {},
   "outputs": [
    {
     "data": {
      "text/plain": [
       "13"
      ]
     },
     "execution_count": 52,
     "metadata": {},
     "output_type": "execute_result"
    }
   ],
   "source": [
    "len(name)"
   ]
  },
  {
   "cell_type": "code",
   "execution_count": 53,
   "id": "ca7a90d8",
   "metadata": {},
   "outputs": [
    {
     "data": {
      "text/plain": [
       "1"
      ]
     },
     "execution_count": 53,
     "metadata": {},
     "output_type": "execute_result"
    }
   ],
   "source": [
    "name.find(\"a\")"
   ]
  },
  {
   "cell_type": "code",
   "execution_count": 54,
   "id": "91a252f9",
   "metadata": {},
   "outputs": [
    {
     "data": {
      "text/plain": [
       "0"
      ]
     },
     "execution_count": 54,
     "metadata": {},
     "output_type": "execute_result"
    }
   ],
   "source": [
    "name.find(\"S\")"
   ]
  },
  {
   "cell_type": "code",
   "execution_count": 57,
   "id": "d555829b",
   "metadata": {},
   "outputs": [
    {
     "data": {
      "text/plain": [
       "1"
      ]
     },
     "execution_count": 57,
     "metadata": {},
     "output_type": "execute_result"
    }
   ],
   "source": [
    "name.count(\"a\")"
   ]
  },
  {
   "cell_type": "code",
   "execution_count": 58,
   "id": "ff2c9633",
   "metadata": {},
   "outputs": [
    {
     "data": {
      "text/plain": [
       "14"
      ]
     },
     "execution_count": 58,
     "metadata": {},
     "output_type": "execute_result"
    }
   ],
   "source": [
    "name.count(\"\")"
   ]
  },
  {
   "cell_type": "code",
   "execution_count": 59,
   "id": "0e1a5d1c",
   "metadata": {},
   "outputs": [],
   "source": [
    "fruits=[\"apple\",\"banana\",\"grapes\",\"mango\",\"kivi\",\"imlii\",\"mka\"]"
   ]
  },
  {
   "cell_type": "code",
   "execution_count": 60,
   "id": "305987a7",
   "metadata": {},
   "outputs": [
    {
     "data": {
      "text/plain": [
       "'mka'"
      ]
     },
     "execution_count": 60,
     "metadata": {},
     "output_type": "execute_result"
    }
   ],
   "source": [
    "fruits[6]"
   ]
  },
  {
   "cell_type": "code",
   "execution_count": 61,
   "id": "e02810f1",
   "metadata": {},
   "outputs": [],
   "source": [
    "fruits[6] = \"Corn\""
   ]
  },
  {
   "cell_type": "code",
   "execution_count": 62,
   "id": "be80e286",
   "metadata": {},
   "outputs": [
    {
     "data": {
      "text/plain": [
       "['apple', 'banana', 'grapes', 'mango', 'kivi', 'imlii', 'Corn']"
      ]
     },
     "execution_count": 62,
     "metadata": {},
     "output_type": "execute_result"
    }
   ],
   "source": [
    "fruits"
   ]
  },
  {
   "cell_type": "code",
   "execution_count": 63,
   "id": "e73a703e",
   "metadata": {},
   "outputs": [
    {
     "name": "stdout",
     "output_type": "stream",
     "text": [
      "['apple', 'banana', 'grapes', 'mango', 'kivi', 'imlii', 'Corn']\n"
     ]
    }
   ],
   "source": [
    "print(fruits)"
   ]
  },
  {
   "cell_type": "code",
   "execution_count": 64,
   "id": "437fc3f0",
   "metadata": {},
   "outputs": [
    {
     "name": "stdout",
     "output_type": "stream",
     "text": [
      "apple\n",
      "banana\n",
      "grapes\n",
      "mango\n",
      "kivi\n",
      "imlii\n",
      "mka\n"
     ]
    }
   ],
   "source": [
    "fruits=[\"apple\",\"banana\",\"grapes\",\"mango\",\"kivi\",\"imlii\",\"mka\"]\n",
    "\n",
    "for favfruit in fruits:\n",
    "    if favfruit==\"mango\":\n",
    "        continue\n",
    "print(favfruit)    "
   ]
  },
  {
   "cell_type": "code",
   "execution_count": 65,
   "id": "3c35c84f",
   "metadata": {},
   "outputs": [
    {
     "name": "stdout",
     "output_type": "stream",
     "text": [
      "apple\n",
      "banana\n",
      "grapes\n",
      "kivi\n",
      "imlii\n",
      "mka\n"
     ]
    }
   ],
   "source": [
    "for favfruit in fruits:\n",
    "    if favfruit==\"mango\":\n",
    "        continue\n",
    "    print(favfruit)\n",
    "    "
   ]
  },
  {
   "cell_type": "code",
   "execution_count": 1,
   "id": "2eec1710",
   "metadata": {},
   "outputs": [],
   "source": [
    "name = \"Sachin Shelke\""
   ]
  },
  {
   "cell_type": "code",
   "execution_count": 2,
   "id": "35f0aeb9",
   "metadata": {},
   "outputs": [
    {
     "data": {
      "text/plain": [
       "'Sachin Shelke'"
      ]
     },
     "execution_count": 2,
     "metadata": {},
     "output_type": "execute_result"
    }
   ],
   "source": [
    "name"
   ]
  },
  {
   "cell_type": "code",
   "execution_count": 3,
   "id": "09338092",
   "metadata": {},
   "outputs": [
    {
     "data": {
      "text/plain": [
       "'Sci hle'"
      ]
     },
     "execution_count": 3,
     "metadata": {},
     "output_type": "execute_result"
    }
   ],
   "source": [
    "name[::2]"
   ]
  },
  {
   "cell_type": "code",
   "execution_count": 4,
   "id": "3532aa77",
   "metadata": {},
   "outputs": [
    {
     "data": {
      "text/plain": [
       "'eklehS nihcaS'"
      ]
     },
     "execution_count": 4,
     "metadata": {},
     "output_type": "execute_result"
    }
   ],
   "source": [
    "name[::-1]"
   ]
  },
  {
   "cell_type": "code",
   "execution_count": 5,
   "id": "e7df44d9",
   "metadata": {},
   "outputs": [
    {
     "data": {
      "text/plain": [
       "'ihcaS'"
      ]
     },
     "execution_count": 5,
     "metadata": {},
     "output_type": "execute_result"
    }
   ],
   "source": [
    "name[4::-1]"
   ]
  },
  {
   "cell_type": "code",
   "execution_count": 7,
   "id": "a9962f1e",
   "metadata": {},
   "outputs": [
    {
     "data": {
      "text/plain": [
       "'nSe'"
      ]
     },
     "execution_count": 7,
     "metadata": {},
     "output_type": "execute_result"
    }
   ],
   "source": [
    "name[5:10:2]"
   ]
  },
  {
   "cell_type": "code",
   "execution_count": 8,
   "id": "ad7c226a",
   "metadata": {},
   "outputs": [
    {
     "data": {
      "text/plain": [
       "'SACHIN SHELKE'"
      ]
     },
     "execution_count": 8,
     "metadata": {},
     "output_type": "execute_result"
    }
   ],
   "source": [
    "name.upper()"
   ]
  },
  {
   "cell_type": "code",
   "execution_count": 9,
   "id": "20ef2005",
   "metadata": {},
   "outputs": [
    {
     "data": {
      "text/plain": [
       "'sachin shelke'"
      ]
     },
     "execution_count": 9,
     "metadata": {},
     "output_type": "execute_result"
    }
   ],
   "source": [
    "name.lower()"
   ]
  },
  {
   "cell_type": "code",
   "execution_count": 10,
   "id": "ce13f275",
   "metadata": {},
   "outputs": [
    {
     "data": {
      "text/plain": [
       "'sACHIN sHELKE'"
      ]
     },
     "execution_count": 10,
     "metadata": {},
     "output_type": "execute_result"
    }
   ],
   "source": [
    "name.swapcase()"
   ]
  },
  {
   "cell_type": "code",
   "execution_count": 11,
   "id": "a33a821b",
   "metadata": {},
   "outputs": [
    {
     "data": {
      "text/plain": [
       "'Sachin Shelke'"
      ]
     },
     "execution_count": 11,
     "metadata": {},
     "output_type": "execute_result"
    }
   ],
   "source": [
    "name"
   ]
  },
  {
   "cell_type": "code",
   "execution_count": 12,
   "id": "ac266284",
   "metadata": {},
   "outputs": [],
   "source": [
    "name = name.upper()"
   ]
  },
  {
   "cell_type": "code",
   "execution_count": 13,
   "id": "2a6cbd02",
   "metadata": {},
   "outputs": [
    {
     "data": {
      "text/plain": [
       "'SACHIN SHELKE'"
      ]
     },
     "execution_count": 13,
     "metadata": {},
     "output_type": "execute_result"
    }
   ],
   "source": [
    "name"
   ]
  },
  {
   "cell_type": "code",
   "execution_count": 14,
   "id": "3cd4752c",
   "metadata": {},
   "outputs": [
    {
     "data": {
      "text/plain": [
       "'SACHIN SHELKE Hello'"
      ]
     },
     "execution_count": 14,
     "metadata": {},
     "output_type": "execute_result"
    }
   ],
   "source": [
    "name + \" Hello\""
   ]
  },
  {
   "cell_type": "code",
   "execution_count": 15,
   "id": "d26b7396",
   "metadata": {},
   "outputs": [
    {
     "data": {
      "text/plain": [
       "'SACHIN SHELKE'"
      ]
     },
     "execution_count": 15,
     "metadata": {},
     "output_type": "execute_result"
    }
   ],
   "source": [
    "name"
   ]
  },
  {
   "cell_type": "code",
   "execution_count": 18,
   "id": "1648982d",
   "metadata": {},
   "outputs": [],
   "source": [
    "name = \"Hello \" + name.title()"
   ]
  },
  {
   "cell_type": "code",
   "execution_count": 19,
   "id": "9843c0bc",
   "metadata": {},
   "outputs": [
    {
     "data": {
      "text/plain": [
       "'Hello Hellosachin Shelke'"
      ]
     },
     "execution_count": 19,
     "metadata": {},
     "output_type": "execute_result"
    }
   ],
   "source": [
    "name"
   ]
  },
  {
   "cell_type": "code",
   "execution_count": 20,
   "id": "c213fc6d",
   "metadata": {},
   "outputs": [],
   "source": [
    "name = \"Sachin Shelke\""
   ]
  },
  {
   "cell_type": "code",
   "execution_count": 29,
   "id": "12b003b1",
   "metadata": {},
   "outputs": [],
   "source": [
    "name = \"Hello \" + name"
   ]
  },
  {
   "cell_type": "code",
   "execution_count": 30,
   "id": "22611bd3",
   "metadata": {},
   "outputs": [
    {
     "data": {
      "text/plain": [
       "'Hello Hello Hello Hello HelloSachin Shelke'"
      ]
     },
     "execution_count": 30,
     "metadata": {},
     "output_type": "execute_result"
    }
   ],
   "source": [
    "name"
   ]
  },
  {
   "cell_type": "code",
   "execution_count": 31,
   "id": "1ac12659",
   "metadata": {},
   "outputs": [],
   "source": [
    "name = \"Sachin Shelke\""
   ]
  },
  {
   "cell_type": "code",
   "execution_count": 32,
   "id": "e4382c9f",
   "metadata": {},
   "outputs": [
    {
     "data": {
      "text/plain": [
       "'Sachin ShelkeSachin ShelkeSachin ShelkeSachin ShelkeSachin Shelke'"
      ]
     },
     "execution_count": 32,
     "metadata": {},
     "output_type": "execute_result"
    }
   ],
   "source": [
    "name * 5"
   ]
  },
  {
   "cell_type": "code",
   "execution_count": 33,
   "id": "00878b82",
   "metadata": {},
   "outputs": [
    {
     "data": {
      "text/plain": [
       "'Sachin Shelke'"
      ]
     },
     "execution_count": 33,
     "metadata": {},
     "output_type": "execute_result"
    }
   ],
   "source": [
    "name"
   ]
  },
  {
   "cell_type": "code",
   "execution_count": 34,
   "id": "cc13d304",
   "metadata": {},
   "outputs": [],
   "source": [
    "sntence = \"My name is Sachin Shelke.\""
   ]
  },
  {
   "cell_type": "code",
   "execution_count": 35,
   "id": "5917de0c",
   "metadata": {},
   "outputs": [
    {
     "data": {
      "text/plain": [
       "['My', 'name', 'is', 'Sachin', 'Shelke.']"
      ]
     },
     "execution_count": 35,
     "metadata": {},
     "output_type": "execute_result"
    }
   ],
   "source": [
    "sntence.split(\" \")"
   ]
  },
  {
   "cell_type": "code",
   "execution_count": null,
   "id": "c92041c4",
   "metadata": {},
   "outputs": [],
   "source": [
    "Here String is getting converted into list"
   ]
  },
  {
   "cell_type": "code",
   "execution_count": 40,
   "id": "b28671d4",
   "metadata": {},
   "outputs": [
    {
     "data": {
      "text/plain": [
       "str"
      ]
     },
     "execution_count": 40,
     "metadata": {},
     "output_type": "execute_result"
    }
   ],
   "source": [
    "type(sntence)"
   ]
  },
  {
   "cell_type": "code",
   "execution_count": 41,
   "id": "4fc03ed3",
   "metadata": {},
   "outputs": [
    {
     "data": {
      "text/plain": [
       "list"
      ]
     },
     "execution_count": 41,
     "metadata": {},
     "output_type": "execute_result"
    }
   ],
   "source": [
    "type(sntence.split(\" \"))"
   ]
  },
  {
   "cell_type": "code",
   "execution_count": 42,
   "id": "dbfe41a8",
   "metadata": {},
   "outputs": [],
   "source": [
    "sentence1 = sntence.split(\" \")"
   ]
  },
  {
   "cell_type": "code",
   "execution_count": 43,
   "id": "34a23b25",
   "metadata": {},
   "outputs": [
    {
     "data": {
      "text/plain": [
       "['My', 'name', 'is', 'Sachin', 'Shelke.']"
      ]
     },
     "execution_count": 43,
     "metadata": {},
     "output_type": "execute_result"
    }
   ],
   "source": [
    "sentence1"
   ]
  },
  {
   "cell_type": "code",
   "execution_count": 44,
   "id": "08c6916a",
   "metadata": {},
   "outputs": [
    {
     "data": {
      "text/plain": [
       "'name'"
      ]
     },
     "execution_count": 44,
     "metadata": {},
     "output_type": "execute_result"
    }
   ],
   "source": [
    "sentence1[1]"
   ]
  },
  {
   "cell_type": "code",
   "execution_count": 45,
   "id": "33e7af57",
   "metadata": {},
   "outputs": [
    {
     "data": {
      "text/plain": [
       "'Sachin'"
      ]
     },
     "execution_count": 45,
     "metadata": {},
     "output_type": "execute_result"
    }
   ],
   "source": [
    "sentence1[3]"
   ]
  },
  {
   "cell_type": "code",
   "execution_count": 46,
   "id": "a78a5ddd",
   "metadata": {},
   "outputs": [],
   "source": [
    "sentence1[3] = 'Mr. Sachin'"
   ]
  },
  {
   "cell_type": "code",
   "execution_count": 47,
   "id": "c76c9c1d",
   "metadata": {},
   "outputs": [
    {
     "data": {
      "text/plain": [
       "['My', 'name', 'is', 'Mr. Sachin', 'Shelke.']"
      ]
     },
     "execution_count": 47,
     "metadata": {},
     "output_type": "execute_result"
    }
   ],
   "source": [
    "sentence1"
   ]
  },
  {
   "cell_type": "code",
   "execution_count": 49,
   "id": "7419b295",
   "metadata": {},
   "outputs": [],
   "source": [
    "sentence1 = sentence1[3].upper()"
   ]
  },
  {
   "cell_type": "code",
   "execution_count": 50,
   "id": "d1ff534b",
   "metadata": {},
   "outputs": [
    {
     "data": {
      "text/plain": [
       "'MR. SACHIN'"
      ]
     },
     "execution_count": 50,
     "metadata": {},
     "output_type": "execute_result"
    }
   ],
   "source": [
    "sentence1"
   ]
  },
  {
   "cell_type": "code",
   "execution_count": 48,
   "id": "e4eb1932",
   "metadata": {},
   "outputs": [
    {
     "data": {
      "text/plain": [
       "'My name is Sachin Shelke.'"
      ]
     },
     "execution_count": 48,
     "metadata": {},
     "output_type": "execute_result"
    }
   ],
   "source": [
    "sntence"
   ]
  },
  {
   "cell_type": "code",
   "execution_count": 36,
   "id": "f8c0db92",
   "metadata": {},
   "outputs": [
    {
     "ename": "ValueError",
     "evalue": "empty separator",
     "output_type": "error",
     "traceback": [
      "\u001b[1;31m---------------------------------------------------------------------------\u001b[0m",
      "\u001b[1;31mValueError\u001b[0m                                Traceback (most recent call last)",
      "Input \u001b[1;32mIn [36]\u001b[0m, in \u001b[0;36m<cell line: 1>\u001b[1;34m()\u001b[0m\n\u001b[1;32m----> 1\u001b[0m \u001b[43msntence\u001b[49m\u001b[38;5;241;43m.\u001b[39;49m\u001b[43msplit\u001b[49m\u001b[43m(\u001b[49m\u001b[38;5;124;43m\"\u001b[39;49m\u001b[38;5;124;43m\"\u001b[39;49m\u001b[43m)\u001b[49m\n",
      "\u001b[1;31mValueError\u001b[0m: empty separator"
     ]
    }
   ],
   "source": [
    "sntence.split(\"\")"
   ]
  },
  {
   "cell_type": "code",
   "execution_count": 51,
   "id": "6e66ddf9",
   "metadata": {},
   "outputs": [],
   "source": [
    "sentence1 = sntence.split(\" \")"
   ]
  },
  {
   "cell_type": "code",
   "execution_count": 52,
   "id": "b8d9beae",
   "metadata": {},
   "outputs": [
    {
     "data": {
      "text/plain": [
       "['My', 'name', 'is', 'Sachin', 'Shelke.']"
      ]
     },
     "execution_count": 52,
     "metadata": {},
     "output_type": "execute_result"
    }
   ],
   "source": [
    "sentence1"
   ]
  },
  {
   "cell_type": "code",
   "execution_count": 53,
   "id": "0eed30da",
   "metadata": {},
   "outputs": [],
   "source": [
    "sentence1[3] = \"Mr. Sachin\""
   ]
  },
  {
   "cell_type": "code",
   "execution_count": 54,
   "id": "28fa8893",
   "metadata": {},
   "outputs": [
    {
     "data": {
      "text/plain": [
       "['My', 'name', 'is', 'Mr. Sachin', 'Shelke.']"
      ]
     },
     "execution_count": 54,
     "metadata": {},
     "output_type": "execute_result"
    }
   ],
   "source": [
    "sentence1"
   ]
  },
  {
   "cell_type": "code",
   "execution_count": 56,
   "id": "d149c7c8",
   "metadata": {},
   "outputs": [],
   "source": [
    "sentence1[3] = sentence1[3].upper()"
   ]
  },
  {
   "cell_type": "code",
   "execution_count": 55,
   "id": "5a98e6de",
   "metadata": {},
   "outputs": [
    {
     "data": {
      "text/plain": [
       "['My', 'name', 'is', 'Mr. Sachin', 'Shelke.']"
      ]
     },
     "execution_count": 55,
     "metadata": {},
     "output_type": "execute_result"
    }
   ],
   "source": [
    "sentence1"
   ]
  },
  {
   "cell_type": "code",
   "execution_count": 57,
   "id": "7af725de",
   "metadata": {},
   "outputs": [
    {
     "data": {
      "text/plain": [
       "'MR. SACHIN'"
      ]
     },
     "execution_count": 57,
     "metadata": {},
     "output_type": "execute_result"
    }
   ],
   "source": [
    "sentence1[3]"
   ]
  },
  {
   "cell_type": "code",
   "execution_count": 58,
   "id": "d1e39a5b",
   "metadata": {},
   "outputs": [
    {
     "data": {
      "text/plain": [
       "['My', 'name', 'is', 'MR. SACHIN', 'Shelke.']"
      ]
     },
     "execution_count": 58,
     "metadata": {},
     "output_type": "execute_result"
    }
   ],
   "source": [
    "sentence1"
   ]
  },
  {
   "cell_type": "code",
   "execution_count": null,
   "id": "ebd3590f",
   "metadata": {},
   "outputs": [],
   "source": []
  },
  {
   "cell_type": "code",
   "execution_count": 63,
   "id": "e0c0b522",
   "metadata": {},
   "outputs": [],
   "source": [
    "sentance2 = \"Hello Students how are you all\""
   ]
  },
  {
   "cell_type": "code",
   "execution_count": 64,
   "id": "160cf122",
   "metadata": {},
   "outputs": [
    {
     "data": {
      "text/plain": [
       "'Hello Students how are you all'"
      ]
     },
     "execution_count": 64,
     "metadata": {},
     "output_type": "execute_result"
    }
   ],
   "source": [
    "sentance2"
   ]
  },
  {
   "cell_type": "code",
   "execution_count": 66,
   "id": "ede4bf19",
   "metadata": {},
   "outputs": [],
   "source": [
    "sentance3 = sentance2.split(\" \")"
   ]
  },
  {
   "cell_type": "code",
   "execution_count": 67,
   "id": "c1b6dd77",
   "metadata": {},
   "outputs": [
    {
     "data": {
      "text/plain": [
       "['Hello', 'Students', 'how', 'are', 'you', 'all']"
      ]
     },
     "execution_count": 67,
     "metadata": {},
     "output_type": "execute_result"
    }
   ],
   "source": [
    "sentance3"
   ]
  },
  {
   "cell_type": "code",
   "execution_count": 68,
   "id": "75f5a13d",
   "metadata": {},
   "outputs": [
    {
     "data": {
      "text/plain": [
       "list"
      ]
     },
     "execution_count": 68,
     "metadata": {},
     "output_type": "execute_result"
    }
   ],
   "source": [
    "type(sentance3)"
   ]
  },
  {
   "cell_type": "code",
   "execution_count": 69,
   "id": "66e77daa",
   "metadata": {},
   "outputs": [
    {
     "data": {
      "text/plain": [
       "str"
      ]
     },
     "execution_count": 69,
     "metadata": {},
     "output_type": "execute_result"
    }
   ],
   "source": [
    "type(sentance2)"
   ]
  },
  {
   "cell_type": "code",
   "execution_count": 70,
   "id": "22632f84",
   "metadata": {},
   "outputs": [
    {
     "data": {
      "text/plain": [
       "'are'"
      ]
     },
     "execution_count": 70,
     "metadata": {},
     "output_type": "execute_result"
    }
   ],
   "source": [
    "sentance3[3]"
   ]
  },
  {
   "cell_type": "code",
   "execution_count": 71,
   "id": "8028ff89",
   "metadata": {},
   "outputs": [
    {
     "data": {
      "text/plain": [
       "'all'"
      ]
     },
     "execution_count": 71,
     "metadata": {},
     "output_type": "execute_result"
    }
   ],
   "source": [
    "sentance3[5]"
   ]
  },
  {
   "cell_type": "code",
   "execution_count": 72,
   "id": "c3ac86d6",
   "metadata": {},
   "outputs": [],
   "source": [
    "sentance3[5] = \"ALL\""
   ]
  },
  {
   "cell_type": "code",
   "execution_count": 73,
   "id": "1b37bcb4",
   "metadata": {},
   "outputs": [
    {
     "data": {
      "text/plain": [
       "['Hello', 'Students', 'how', 'are', 'you', 'ALL']"
      ]
     },
     "execution_count": 73,
     "metadata": {},
     "output_type": "execute_result"
    }
   ],
   "source": [
    "sentance3"
   ]
  },
  {
   "cell_type": "code",
   "execution_count": 74,
   "id": "8c39bbf7",
   "metadata": {},
   "outputs": [
    {
     "data": {
      "text/plain": [
       "'how'"
      ]
     },
     "execution_count": 74,
     "metadata": {},
     "output_type": "execute_result"
    }
   ],
   "source": [
    "sentance3[2]"
   ]
  },
  {
   "cell_type": "code",
   "execution_count": 75,
   "id": "554e4900",
   "metadata": {},
   "outputs": [],
   "source": [
    "sentance3[2] = sentance3[2].upper()"
   ]
  },
  {
   "cell_type": "code",
   "execution_count": 76,
   "id": "a4c27599",
   "metadata": {},
   "outputs": [
    {
     "data": {
      "text/plain": [
       "'HOW'"
      ]
     },
     "execution_count": 76,
     "metadata": {},
     "output_type": "execute_result"
    }
   ],
   "source": [
    "sentance3[2]"
   ]
  },
  {
   "cell_type": "code",
   "execution_count": 77,
   "id": "1ae8d850",
   "metadata": {},
   "outputs": [
    {
     "data": {
      "text/plain": [
       "['Hello', 'Students', 'HOW', 'are', 'you', 'ALL']"
      ]
     },
     "execution_count": 77,
     "metadata": {},
     "output_type": "execute_result"
    }
   ],
   "source": [
    "sentance3"
   ]
  },
  {
   "cell_type": "code",
   "execution_count": 78,
   "id": "2dea29a7",
   "metadata": {},
   "outputs": [
    {
     "data": {
      "text/plain": [
       "'Hello'"
      ]
     },
     "execution_count": 78,
     "metadata": {},
     "output_type": "execute_result"
    }
   ],
   "source": [
    "sentance3[0]"
   ]
  },
  {
   "cell_type": "code",
   "execution_count": 79,
   "id": "574900c0",
   "metadata": {},
   "outputs": [],
   "source": [
    "sentence4 = \"Hello Sachin Shelke\""
   ]
  },
  {
   "cell_type": "code",
   "execution_count": 80,
   "id": "16e4d82f",
   "metadata": {},
   "outputs": [
    {
     "data": {
      "text/plain": [
       "'H'"
      ]
     },
     "execution_count": 80,
     "metadata": {},
     "output_type": "execute_result"
    }
   ],
   "source": [
    "sentence4[0]"
   ]
  },
  {
   "cell_type": "code",
   "execution_count": 84,
   "id": "e36eae81",
   "metadata": {},
   "outputs": [],
   "source": [
    "sentence4 = sentence4.split(\" \")"
   ]
  },
  {
   "cell_type": "code",
   "execution_count": 85,
   "id": "0dc45109",
   "metadata": {},
   "outputs": [
    {
     "data": {
      "text/plain": [
       "'Hello'"
      ]
     },
     "execution_count": 85,
     "metadata": {},
     "output_type": "execute_result"
    }
   ],
   "source": [
    "sentence4[0]"
   ]
  },
  {
   "cell_type": "code",
   "execution_count": null,
   "id": "62d2d947",
   "metadata": {},
   "outputs": [],
   "source": []
  },
  {
   "cell_type": "code",
   "execution_count": 37,
   "id": "30c669d5",
   "metadata": {},
   "outputs": [
    {
     "data": {
      "text/plain": [
       "['My n', 'me is S', 'chin Shelke.']"
      ]
     },
     "execution_count": 37,
     "metadata": {},
     "output_type": "execute_result"
    }
   ],
   "source": [
    "sntence.split(\"a\")"
   ]
  },
  {
   "cell_type": "code",
   "execution_count": 38,
   "id": "0701d2f0",
   "metadata": {},
   "outputs": [
    {
     "data": {
      "text/plain": [
       "['My name is Sachin Shelke', '']"
      ]
     },
     "execution_count": 38,
     "metadata": {},
     "output_type": "execute_result"
    }
   ],
   "source": [
    "sntence.split(\".\")"
   ]
  },
  {
   "cell_type": "code",
   "execution_count": 39,
   "id": "e8fe0d21",
   "metadata": {},
   "outputs": [
    {
     "data": {
      "text/plain": [
       "['My name is ', 'achin ', 'helke.']"
      ]
     },
     "execution_count": 39,
     "metadata": {},
     "output_type": "execute_result"
    }
   ],
   "source": [
    "sntence.split(\"S\")"
   ]
  },
  {
   "cell_type": "code",
   "execution_count": null,
   "id": "c9605996",
   "metadata": {},
   "outputs": [],
   "source": [
    "# Write a Python Program to Count the Number of Even and Odd Numbers from a Series of Numbers.\n",
    "number = (1, 2, 3, 4, 5, 6, 7, 8, 9) # Declaring the Tuple\n",
    "count_odd = 0\n",
    "count_even = 0\n",
    "for x in number:\n",
    "    if not x % 2:\n",
    "        count_even+=1\n",
    "    else:\n",
    "        count_odd+=1\n",
    "print(\"Number of Even Numbers: \", count_even)\n",
    "print(\"Number of Odd Numbers: \", count_odd)"
   ]
  },
  {
   "cell_type": "code",
   "execution_count": 86,
   "id": "739baa1e",
   "metadata": {},
   "outputs": [
    {
     "data": {
      "text/plain": [
       "0"
      ]
     },
     "execution_count": 86,
     "metadata": {},
     "output_type": "execute_result"
    }
   ],
   "source": [
    "0"
   ]
  },
  {
   "cell_type": "code",
   "execution_count": 87,
   "id": "f24a6ffe",
   "metadata": {},
   "outputs": [
    {
     "data": {
      "text/plain": [
       "False"
      ]
     },
     "execution_count": 87,
     "metadata": {},
     "output_type": "execute_result"
    }
   ],
   "source": [
    "bool(0)"
   ]
  },
  {
   "cell_type": "code",
   "execution_count": null,
   "id": "ddac1792",
   "metadata": {},
   "outputs": [],
   "source": [
    "## List \n",
    "syntax \n",
    "list_name = []    - inside bracket we put set of values separated by commas"
   ]
  },
  {
   "cell_type": "code",
   "execution_count": null,
   "id": "e1f29f47",
   "metadata": {},
   "outputs": [],
   "source": [
    "list_items = [1, \"Hello Sachin\" , 1.25 , 0.05, -10]   # since this is allowed List is called Hetrogenous"
   ]
  },
  {
   "cell_type": "code",
   "execution_count": null,
   "id": "efdfb456",
   "metadata": {},
   "outputs": [],
   "source": [
    "# indexing in list always starts with 0 if taken from left to right and -1 if it starts from right to left"
   ]
  },
  {
   "cell_type": "code",
   "execution_count": 1,
   "id": "49b59ade",
   "metadata": {},
   "outputs": [],
   "source": [
    "fruits=[\"apple\",\"banana\",\"grapes\",\"mango\",\"kivi\",\"imlii\",\"mka\"]"
   ]
  },
  {
   "cell_type": "code",
   "execution_count": 2,
   "id": "b5f84e4f",
   "metadata": {},
   "outputs": [
    {
     "data": {
      "text/plain": [
       "'mka'"
      ]
     },
     "execution_count": 2,
     "metadata": {},
     "output_type": "execute_result"
    }
   ],
   "source": [
    "fruits[6]"
   ]
  },
  {
   "cell_type": "code",
   "execution_count": 3,
   "id": "b918b329",
   "metadata": {},
   "outputs": [],
   "source": [
    "fruits[6] = \"Corn\""
   ]
  },
  {
   "cell_type": "code",
   "execution_count": 4,
   "id": "7b6618ed",
   "metadata": {},
   "outputs": [
    {
     "data": {
      "text/plain": [
       "['apple', 'banana', 'grapes', 'mango', 'kivi', 'imlii', 'Corn']"
      ]
     },
     "execution_count": 4,
     "metadata": {},
     "output_type": "execute_result"
    }
   ],
   "source": [
    "fruits"
   ]
  },
  {
   "cell_type": "code",
   "execution_count": 5,
   "id": "90c41f16",
   "metadata": {},
   "outputs": [],
   "source": [
    "fruits.append(\"Watermellon\") ## apend is used to add items in a list"
   ]
  },
  {
   "cell_type": "code",
   "execution_count": 6,
   "id": "469974f7",
   "metadata": {},
   "outputs": [
    {
     "data": {
      "text/plain": [
       "['apple', 'banana', 'grapes', 'mango', 'kivi', 'imlii', 'Corn', 'Watermellon']"
      ]
     },
     "execution_count": 6,
     "metadata": {},
     "output_type": "execute_result"
    }
   ],
   "source": [
    "fruits"
   ]
  },
  {
   "cell_type": "code",
   "execution_count": 7,
   "id": "620481ed",
   "metadata": {},
   "outputs": [],
   "source": [
    "fruits.append(\"JackFruit\")"
   ]
  },
  {
   "cell_type": "code",
   "execution_count": 8,
   "id": "9c07586e",
   "metadata": {},
   "outputs": [
    {
     "data": {
      "text/plain": [
       "['apple',\n",
       " 'banana',\n",
       " 'grapes',\n",
       " 'mango',\n",
       " 'kivi',\n",
       " 'imlii',\n",
       " 'Corn',\n",
       " 'Watermellon',\n",
       " 'JackFruit']"
      ]
     },
     "execution_count": 8,
     "metadata": {},
     "output_type": "execute_result"
    }
   ],
   "source": [
    "fruits"
   ]
  },
  {
   "cell_type": "code",
   "execution_count": 9,
   "id": "8bb87fce",
   "metadata": {},
   "outputs": [],
   "source": [
    "list_1 = [1, 2 , 3]\n",
    "list_2 = [4 , 5 , 6]\n"
   ]
  },
  {
   "cell_type": "code",
   "execution_count": 10,
   "id": "0374b440",
   "metadata": {},
   "outputs": [
    {
     "data": {
      "text/plain": [
       "[1, 2, 3]"
      ]
     },
     "execution_count": 10,
     "metadata": {},
     "output_type": "execute_result"
    }
   ],
   "source": [
    "list_1"
   ]
  },
  {
   "cell_type": "code",
   "execution_count": 11,
   "id": "0cad9ac7",
   "metadata": {},
   "outputs": [
    {
     "data": {
      "text/plain": [
       "[4, 5, 6]"
      ]
     },
     "execution_count": 11,
     "metadata": {},
     "output_type": "execute_result"
    }
   ],
   "source": [
    "list_2"
   ]
  },
  {
   "cell_type": "code",
   "execution_count": 12,
   "id": "7ca9b4d9",
   "metadata": {},
   "outputs": [],
   "source": [
    "list_1.extend(list_2)   ## extend is used to add items of one list into another"
   ]
  },
  {
   "cell_type": "code",
   "execution_count": 13,
   "id": "345d0dd6",
   "metadata": {},
   "outputs": [
    {
     "data": {
      "text/plain": [
       "[1, 2, 3, 4, 5, 6]"
      ]
     },
     "execution_count": 13,
     "metadata": {},
     "output_type": "execute_result"
    }
   ],
   "source": [
    "list_1"
   ]
  },
  {
   "cell_type": "code",
   "execution_count": 14,
   "id": "f566d1d2",
   "metadata": {},
   "outputs": [
    {
     "data": {
      "text/plain": [
       "[1, 2, 3, 4, 5, 6]"
      ]
     },
     "execution_count": 14,
     "metadata": {},
     "output_type": "execute_result"
    }
   ],
   "source": [
    "list_1"
   ]
  },
  {
   "cell_type": "code",
   "execution_count": 15,
   "id": "5502c8af",
   "metadata": {},
   "outputs": [
    {
     "data": {
      "text/plain": [
       "5"
      ]
     },
     "execution_count": 15,
     "metadata": {},
     "output_type": "execute_result"
    }
   ],
   "source": [
    "list_1[4]"
   ]
  },
  {
   "cell_type": "code",
   "execution_count": null,
   "id": "cbfd6773",
   "metadata": {},
   "outputs": [],
   "source": []
  },
  {
   "cell_type": "code",
   "execution_count": null,
   "id": "46a47354",
   "metadata": {},
   "outputs": [],
   "source": [
    "## deleting items in a list"
   ]
  },
  {
   "cell_type": "code",
   "execution_count": 16,
   "id": "5902f48b",
   "metadata": {},
   "outputs": [],
   "source": [
    "del list_1[4]"
   ]
  },
  {
   "cell_type": "code",
   "execution_count": 18,
   "id": "dbf0e666",
   "metadata": {},
   "outputs": [
    {
     "data": {
      "text/plain": [
       "[1, 2, 3, 4, 6]"
      ]
     },
     "execution_count": 18,
     "metadata": {},
     "output_type": "execute_result"
    }
   ],
   "source": [
    "list_1"
   ]
  },
  {
   "cell_type": "code",
   "execution_count": 19,
   "id": "ad439027",
   "metadata": {},
   "outputs": [],
   "source": [
    "del list_1[1]"
   ]
  },
  {
   "cell_type": "code",
   "execution_count": 20,
   "id": "00d48162",
   "metadata": {},
   "outputs": [
    {
     "data": {
      "text/plain": [
       "[1, 3, 4, 6]"
      ]
     },
     "execution_count": 20,
     "metadata": {},
     "output_type": "execute_result"
    }
   ],
   "source": [
    "list_1"
   ]
  },
  {
   "cell_type": "code",
   "execution_count": 21,
   "id": "a4007438",
   "metadata": {},
   "outputs": [
    {
     "data": {
      "text/plain": [
       "6"
      ]
     },
     "execution_count": 21,
     "metadata": {},
     "output_type": "execute_result"
    }
   ],
   "source": [
    "list_1[-1]"
   ]
  },
  {
   "cell_type": "code",
   "execution_count": 22,
   "id": "01ac15a2",
   "metadata": {},
   "outputs": [],
   "source": [
    "del list_1[-1]  ## deletes the last item of list"
   ]
  },
  {
   "cell_type": "code",
   "execution_count": 23,
   "id": "7e28d1bc",
   "metadata": {},
   "outputs": [
    {
     "data": {
      "text/plain": [
       "[1, 3, 4]"
      ]
     },
     "execution_count": 23,
     "metadata": {},
     "output_type": "execute_result"
    }
   ],
   "source": [
    "list_1"
   ]
  },
  {
   "cell_type": "code",
   "execution_count": 25,
   "id": "6250b537",
   "metadata": {},
   "outputs": [],
   "source": [
    "list_1.remove(4)  ## when using remove we put the actual value"
   ]
  },
  {
   "cell_type": "code",
   "execution_count": 26,
   "id": "70df7a93",
   "metadata": {},
   "outputs": [
    {
     "data": {
      "text/plain": [
       "[1, 3]"
      ]
     },
     "execution_count": 26,
     "metadata": {},
     "output_type": "execute_result"
    }
   ],
   "source": [
    "list_1"
   ]
  },
  {
   "cell_type": "code",
   "execution_count": null,
   "id": "8747bf11",
   "metadata": {},
   "outputs": [],
   "source": [
    "Assignment: inbuilt functions\n",
    "Make your own list of items, and try using below functions\n",
    "1. append()\n",
    "2. extend()\n",
    "3. insert()  // inserts an item at a specified index\n",
    "4. remove()\n",
    "5. pop()\n",
    "6. clear() // removes all items from the list\n",
    "7. index() // returns the index valur of first matched item\n",
    "8. count()\n",
    "9. sort()  //sorts the list in ascending/descending order\n",
    "10.reverse() // reverses items in a list\n",
    "11. copy() \n",
    "12. len() // to find numberof elements in list\n",
    "\n"
   ]
  },
  {
   "cell_type": "code",
   "execution_count": 27,
   "id": "1bbe641f",
   "metadata": {},
   "outputs": [],
   "source": [
    "# list comprehension  - it consists of an expresion and is followed by for"
   ]
  },
  {
   "cell_type": "code",
   "execution_count": 30,
   "id": "fb815278",
   "metadata": {},
   "outputs": [],
   "source": [
    "numbers = [ number*number for number in range(1,10)]"
   ]
  },
  {
   "cell_type": "code",
   "execution_count": 31,
   "id": "4188fd08",
   "metadata": {},
   "outputs": [
    {
     "data": {
      "text/plain": [
       "[1, 4, 9, 16, 25, 36, 49, 64, 81]"
      ]
     },
     "execution_count": 31,
     "metadata": {},
     "output_type": "execute_result"
    }
   ],
   "source": [
    "numbers"
   ]
  },
  {
   "cell_type": "code",
   "execution_count": 32,
   "id": "731992d4",
   "metadata": {},
   "outputs": [
    {
     "name": "stdout",
     "output_type": "stream",
     "text": [
      "range(1, 10)\n"
     ]
    }
   ],
   "source": [
    "print(range(1,10))"
   ]
  },
  {
   "cell_type": "code",
   "execution_count": 33,
   "id": "aa8cc05d",
   "metadata": {},
   "outputs": [
    {
     "data": {
      "text/plain": [
       "range(1, 10)"
      ]
     },
     "execution_count": 33,
     "metadata": {},
     "output_type": "execute_result"
    }
   ],
   "source": [
    "range(1,10)"
   ]
  },
  {
   "cell_type": "code",
   "execution_count": 34,
   "id": "6da7bae9",
   "metadata": {},
   "outputs": [
    {
     "name": "stdout",
     "output_type": "stream",
     "text": [
      "1\n",
      "2\n",
      "3\n",
      "4\n",
      "5\n",
      "6\n",
      "7\n",
      "8\n",
      "9\n"
     ]
    }
   ],
   "source": [
    "for num in range(1,10):\n",
    "    print(num)"
   ]
  },
  {
   "cell_type": "code",
   "execution_count": null,
   "id": "b7976a05",
   "metadata": {},
   "outputs": [],
   "source": [
    "numbers."
   ]
  }
 ],
 "metadata": {
  "kernelspec": {
   "display_name": "Python 3 (ipykernel)",
   "language": "python",
   "name": "python3"
  },
  "language_info": {
   "codemirror_mode": {
    "name": "ipython",
    "version": 3
   },
   "file_extension": ".py",
   "mimetype": "text/x-python",
   "name": "python",
   "nbconvert_exporter": "python",
   "pygments_lexer": "ipython3",
   "version": "3.9.12"
  }
 },
 "nbformat": 4,
 "nbformat_minor": 5
}
