{
 "cells": [
  {
   "cell_type": "markdown",
   "id": "b343a7db",
   "metadata": {},
   "source": [
    "## Function"
   ]
  },
  {
   "cell_type": "code",
   "execution_count": null,
   "id": "fa56af0b",
   "metadata": {},
   "outputs": [],
   "source": [
    "What is function?\n",
    "It is block of code written for some specific purpose/task."
   ]
  },
  {
   "cell_type": "code",
   "execution_count": null,
   "id": "2681b41a",
   "metadata": {},
   "outputs": [],
   "source": [
    "Functions already provided by python are called inbuilt fuctions. Example: count, find, type, len, etc."
   ]
  },
  {
   "cell_type": "code",
   "execution_count": null,
   "id": "4dac84eb",
   "metadata": {},
   "outputs": [],
   "source": [
    "Type of functions:\n",
    "    1. Inbuilt or Standard library functions - built-in functions of python already present\n",
    "    2. User-defined functions - User created own functions based on need/requirements"
   ]
  },
  {
   "cell_type": "markdown",
   "id": "58f0f341",
   "metadata": {},
   "source": [
    "#### Function declarations"
   ]
  },
  {
   "cell_type": "code",
   "execution_count": null,
   "id": "5f6201b6",
   "metadata": {},
   "outputs": [],
   "source": [
    "## Syntax\n",
    "\n",
    "def function_name(arguments):\n",
    "    # statements\n",
    "    #...\n",
    "    #..\n",
    "    # function body\n",
    "    \n",
    "    return"
   ]
  },
  {
   "cell_type": "code",
   "execution_count": null,
   "id": "3b432236",
   "metadata": {},
   "outputs": [],
   "source": [
    "def: this keyword declares function\n",
    "\n",
    "function_name: any name can be given\n",
    "    \n",
    "arguments:  any value required by function to process\n",
    "    \n",
    "return (optional): output of the function\n"
   ]
  },
  {
   "cell_type": "code",
   "execution_count": 2,
   "id": "45f543de",
   "metadata": {},
   "outputs": [
    {
     "data": {
      "text/plain": [
       "int"
      ]
     },
     "execution_count": 2,
     "metadata": {},
     "output_type": "execute_result"
    }
   ],
   "source": [
    "num1 = 50\n",
    "type(num1)  - num1 is argument"
   ]
  },
  {
   "cell_type": "code",
   "execution_count": 3,
   "id": "586a2a15",
   "metadata": {},
   "outputs": [
    {
     "data": {
      "text/plain": [
       "str"
      ]
     },
     "execution_count": 3,
     "metadata": {},
     "output_type": "execute_result"
    }
   ],
   "source": [
    "name = \"Sachin Shelke\"\n",
    "type(name)  // name - is argument"
   ]
  },
  {
   "cell_type": "code",
   "execution_count": 4,
   "id": "5e2540b4",
   "metadata": {},
   "outputs": [
    {
     "data": {
      "text/plain": [
       "13"
      ]
     },
     "execution_count": 4,
     "metadata": {},
     "output_type": "execute_result"
    }
   ],
   "source": [
    "len(name)"
   ]
  },
  {
   "cell_type": "code",
   "execution_count": 5,
   "id": "aa1b0681",
   "metadata": {},
   "outputs": [
    {
     "ename": "TypeError",
     "evalue": "len() takes exactly one argument (0 given)",
     "output_type": "error",
     "traceback": [
      "\u001b[1;31m---------------------------------------------------------------------------\u001b[0m",
      "\u001b[1;31mTypeError\u001b[0m                                 Traceback (most recent call last)",
      "Input \u001b[1;32mIn [5]\u001b[0m, in \u001b[0;36m<cell line: 1>\u001b[1;34m()\u001b[0m\n\u001b[1;32m----> 1\u001b[0m \u001b[38;5;28;43mlen\u001b[39;49m\u001b[43m(\u001b[49m\u001b[43m)\u001b[49m\n",
      "\u001b[1;31mTypeError\u001b[0m: len() takes exactly one argument (0 given)"
     ]
    }
   ],
   "source": [
    "len()"
   ]
  },
  {
   "cell_type": "code",
   "execution_count": null,
   "id": "cf0947ad",
   "metadata": {},
   "outputs": [],
   "source": [
    "## Assignment\n",
    "1. Temperature converter function - accepts tempt in celcius and return its Farh temperature"
   ]
  },
  {
   "cell_type": "code",
   "execution_count": 6,
   "id": "e5939441",
   "metadata": {},
   "outputs": [],
   "source": [
    "## Function example"
   ]
  },
  {
   "cell_type": "code",
   "execution_count": null,
   "id": "cbbf534d",
   "metadata": {},
   "outputs": [],
   "source": [
    "### Function without argument"
   ]
  },
  {
   "cell_type": "code",
   "execution_count": 7,
   "id": "d6a6b99d",
   "metadata": {},
   "outputs": [],
   "source": [
    "def show_my_name():\n",
    "    print(\"My name is Sachin Shelke\")"
   ]
  },
  {
   "cell_type": "code",
   "execution_count": 8,
   "id": "45f1522b",
   "metadata": {},
   "outputs": [
    {
     "name": "stdout",
     "output_type": "stream",
     "text": [
      "My name is Sachin Shelke\n"
     ]
    }
   ],
   "source": [
    "show_my_name()  ## way to call the function"
   ]
  },
  {
   "cell_type": "code",
   "execution_count": 9,
   "id": "0e66d5fb",
   "metadata": {},
   "outputs": [],
   "source": [
    "### Function with argument"
   ]
  },
  {
   "cell_type": "code",
   "execution_count": 10,
   "id": "c1553322",
   "metadata": {},
   "outputs": [],
   "source": [
    "def addition_function(num1, num2):\n",
    "    result = num1 + num2\n",
    "    print(\"Addition of provided numbers is :\" , result)"
   ]
  },
  {
   "cell_type": "code",
   "execution_count": 11,
   "id": "ea005925",
   "metadata": {},
   "outputs": [
    {
     "name": "stdout",
     "output_type": "stream",
     "text": [
      "Addition of provided numbers is : 30\n"
     ]
    }
   ],
   "source": [
    "addition_function(10, 20)  ## reusability"
   ]
  },
  {
   "cell_type": "code",
   "execution_count": null,
   "id": "72d2711c",
   "metadata": {},
   "outputs": [],
   "source": [
    "## Write a function that takes String and convert that String into capital"
   ]
  },
  {
   "cell_type": "code",
   "execution_count": 12,
   "id": "6e9b0b33",
   "metadata": {},
   "outputs": [],
   "source": [
    "def capital_string(text):\n",
    "    result = text.upper()\n",
    "    print(result)"
   ]
  },
  {
   "cell_type": "code",
   "execution_count": 13,
   "id": "58e33a25",
   "metadata": {},
   "outputs": [
    {
     "name": "stdout",
     "output_type": "stream",
     "text": [
      "SACHIN SHELKE\n"
     ]
    }
   ],
   "source": [
    "capital_string(\"Sachin Shelke\")"
   ]
  },
  {
   "cell_type": "code",
   "execution_count": 15,
   "id": "385e97a8",
   "metadata": {},
   "outputs": [],
   "source": [
    "def capital_string1(text):\n",
    "    result = text.capitalize()\n",
    "    print(result)"
   ]
  },
  {
   "cell_type": "code",
   "execution_count": 16,
   "id": "9a1e7100",
   "metadata": {},
   "outputs": [
    {
     "name": "stdout",
     "output_type": "stream",
     "text": [
      "Text\n"
     ]
    }
   ],
   "source": [
    "capital_string1(\"text\")"
   ]
  },
  {
   "cell_type": "code",
   "execution_count": 17,
   "id": "c3e92948",
   "metadata": {},
   "outputs": [],
   "source": [
    "## Return in function"
   ]
  },
  {
   "cell_type": "code",
   "execution_count": 18,
   "id": "bb76a042",
   "metadata": {},
   "outputs": [],
   "source": [
    "def square_number(num):\n",
    "    result = num * num\n",
    "    return result"
   ]
  },
  {
   "cell_type": "code",
   "execution_count": 19,
   "id": "2d6d819c",
   "metadata": {},
   "outputs": [
    {
     "data": {
      "text/plain": [
       "144"
      ]
     },
     "execution_count": 19,
     "metadata": {},
     "output_type": "execute_result"
    }
   ],
   "source": [
    "square_number(12)"
   ]
  },
  {
   "cell_type": "code",
   "execution_count": 20,
   "id": "61b306fe",
   "metadata": {},
   "outputs": [
    {
     "name": "stdout",
     "output_type": "stream",
     "text": [
      "Hello\n"
     ]
    },
    {
     "data": {
      "text/plain": [
       "NoneType"
      ]
     },
     "execution_count": 20,
     "metadata": {},
     "output_type": "execute_result"
    }
   ],
   "source": [
    "type(capital_string(\"Hello\"))"
   ]
  },
  {
   "cell_type": "code",
   "execution_count": 21,
   "id": "439fff07",
   "metadata": {},
   "outputs": [
    {
     "data": {
      "text/plain": [
       "int"
      ]
     },
     "execution_count": 21,
     "metadata": {},
     "output_type": "execute_result"
    }
   ],
   "source": [
    "type(square_number(10))"
   ]
  },
  {
   "cell_type": "code",
   "execution_count": 22,
   "id": "01c6cebe",
   "metadata": {},
   "outputs": [],
   "source": [
    "## Function arguments with default values"
   ]
  },
  {
   "cell_type": "code",
   "execution_count": 23,
   "id": "e20fa1b0",
   "metadata": {},
   "outputs": [],
   "source": [
    "def multiply_number(num1 = 6 , num2 = 10):\n",
    "    result = num1 * num2\n",
    "    return result"
   ]
  },
  {
   "cell_type": "code",
   "execution_count": 24,
   "id": "6470eb57",
   "metadata": {},
   "outputs": [
    {
     "data": {
      "text/plain": [
       "24"
      ]
     },
     "execution_count": 24,
     "metadata": {},
     "output_type": "execute_result"
    }
   ],
   "source": [
    "# With both argument\n",
    "multiply_number(4, 6)"
   ]
  },
  {
   "cell_type": "code",
   "execution_count": 25,
   "id": "58905933",
   "metadata": {},
   "outputs": [
    {
     "data": {
      "text/plain": [
       "40"
      ]
     },
     "execution_count": 25,
     "metadata": {},
     "output_type": "execute_result"
    }
   ],
   "source": [
    "# With one argument\n",
    "multiply_number(4)"
   ]
  },
  {
   "cell_type": "code",
   "execution_count": 26,
   "id": "7c62ae7f",
   "metadata": {},
   "outputs": [
    {
     "data": {
      "text/plain": [
       "60"
      ]
     },
     "execution_count": 26,
     "metadata": {},
     "output_type": "execute_result"
    }
   ],
   "source": [
    "# With no argument\n",
    "multiply_number()"
   ]
  },
  {
   "cell_type": "code",
   "execution_count": 27,
   "id": "21d67eee",
   "metadata": {},
   "outputs": [],
   "source": [
    "## Assign arguments based on its passed value"
   ]
  },
  {
   "cell_type": "code",
   "execution_count": 28,
   "id": "ea01dd19",
   "metadata": {},
   "outputs": [],
   "source": [
    "def full_name(first_name, second_name):\n",
    "    print(\"First name: \", first_name)\n",
    "    print(\"Second name: \", second_name)"
   ]
  },
  {
   "cell_type": "code",
   "execution_count": 29,
   "id": "fff024d1",
   "metadata": {},
   "outputs": [
    {
     "name": "stdout",
     "output_type": "stream",
     "text": [
      "First name:  Sachin\n",
      "Second name:  Shelke\n"
     ]
    }
   ],
   "source": [
    "full_name(\"Sachin\", \"Shelke\")"
   ]
  },
  {
   "cell_type": "code",
   "execution_count": 30,
   "id": "8a813fc4",
   "metadata": {},
   "outputs": [],
   "source": [
    "## Arbitary Arguments"
   ]
  },
  {
   "cell_type": "code",
   "execution_count": 33,
   "id": "31edcbc2",
   "metadata": {},
   "outputs": [],
   "source": [
    "def find_sum_of_numbers(*numbers):\n",
    "    sum = 0\n",
    "    for num in numbers:\n",
    "        sum = sum + num\n",
    "        \n",
    "    print(\"Sum of all passed numbers is = \" , sum)"
   ]
  },
  {
   "cell_type": "code",
   "execution_count": 34,
   "id": "c187e59f",
   "metadata": {},
   "outputs": [
    {
     "name": "stdout",
     "output_type": "stream",
     "text": [
      "Sum of all passed numbers is =  60\n"
     ]
    }
   ],
   "source": [
    "find_sum_of_numbers(10,20,30)"
   ]
  },
  {
   "cell_type": "code",
   "execution_count": 35,
   "id": "0a4fb095",
   "metadata": {},
   "outputs": [
    {
     "name": "stdout",
     "output_type": "stream",
     "text": [
      "Sum of all passed numbers is =  30\n"
     ]
    }
   ],
   "source": [
    "find_sum_of_numbers(2,4,6,8,10)"
   ]
  },
  {
   "cell_type": "code",
   "execution_count": 36,
   "id": "f152daf4",
   "metadata": {},
   "outputs": [
    {
     "name": "stdout",
     "output_type": "stream",
     "text": [
      "Sum of all passed numbers is =  181\n"
     ]
    }
   ],
   "source": [
    "find_sum_of_numbers(2,4,6,8,10, 10, 100, 40, 1, 0)"
   ]
  },
  {
   "cell_type": "code",
   "execution_count": 37,
   "id": "f0469f3b",
   "metadata": {},
   "outputs": [],
   "source": [
    "## Variable scopes in function"
   ]
  },
  {
   "cell_type": "code",
   "execution_count": 38,
   "id": "e6e3a6af",
   "metadata": {},
   "outputs": [],
   "source": [
    "name = \"Sachin Shelke\""
   ]
  },
  {
   "cell_type": "code",
   "execution_count": 39,
   "id": "46707a10",
   "metadata": {},
   "outputs": [],
   "source": [
    "## 3 types of variables"
   ]
  },
  {
   "cell_type": "code",
   "execution_count": null,
   "id": "a9e115fc",
   "metadata": {},
   "outputs": [],
   "source": [
    "1. Local variable\n",
    "2. Global Variable\n",
    "3. NonLocal Variable"
   ]
  },
  {
   "cell_type": "code",
   "execution_count": null,
   "id": "d262f6b1",
   "metadata": {},
   "outputs": [],
   "source": [
    "1. Local Variable - declared inside function and scope : can be used inside the function only"
   ]
  },
  {
   "cell_type": "markdown",
   "id": "8923849b",
   "metadata": {},
   "source": [
    "2. Global variable - declared outside of any scope and scope: can be used anywhere"
   ]
  },
  {
   "cell_type": "code",
   "execution_count": null,
   "id": "08deff10",
   "metadata": {},
   "outputs": [],
   "source": [
    "3. NonLocal variable - nested fucntions - scope is not defined it can be local or global "
   ]
  },
  {
   "cell_type": "code",
   "execution_count": 41,
   "id": "e72299d1",
   "metadata": {},
   "outputs": [
    {
     "name": "stdout",
     "output_type": "stream",
     "text": [
      "Inner function:  not of local scope\n",
      "Outside scope:  not of local scope\n"
     ]
    }
   ],
   "source": [
    "## nonlocal example\n",
    "def outside():\n",
    "    value1 = \"local\"\n",
    "    \n",
    "    def inner():\n",
    "        nonlocal value1\n",
    "        \n",
    "        value1= \"not of local scope\"\n",
    "        print(\"Inner function: \" , value1)\n",
    "    \n",
    "    inner()\n",
    "    \n",
    "    print(\"Outside scope: \" , value1)\n",
    "\n",
    "outside()"
   ]
  },
  {
   "cell_type": "code",
   "execution_count": null,
   "id": "ee152a56",
   "metadata": {},
   "outputs": [],
   "source": []
  }
 ],
 "metadata": {
  "kernelspec": {
   "display_name": "Python 3 (ipykernel)",
   "language": "python",
   "name": "python3"
  },
  "language_info": {
   "codemirror_mode": {
    "name": "ipython",
    "version": 3
   },
   "file_extension": ".py",
   "mimetype": "text/x-python",
   "name": "python",
   "nbconvert_exporter": "python",
   "pygments_lexer": "ipython3",
   "version": "3.9.12"
  }
 },
 "nbformat": 4,
 "nbformat_minor": 5
}
