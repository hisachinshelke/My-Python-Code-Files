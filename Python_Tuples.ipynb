{
 "cells": [
  {
   "cell_type": "markdown",
   "id": "ca7eb5ff",
   "metadata": {},
   "source": [
    "## Tuples"
   ]
  },
  {
   "cell_type": "code",
   "execution_count": null,
   "id": "dddd13c5",
   "metadata": {},
   "outputs": [],
   "source": [
    "syntax:\n",
    "\n",
    "tuple_name = ( element1, element2, element3, ..... )  ## round braket /parenthesis"
   ]
  },
  {
   "cell_type": "code",
   "execution_count": 1,
   "id": "49a14335",
   "metadata": {},
   "outputs": [],
   "source": [
    "tuple_1 = ()"
   ]
  },
  {
   "cell_type": "code",
   "execution_count": 2,
   "id": "07968301",
   "metadata": {},
   "outputs": [
    {
     "data": {
      "text/plain": [
       "tuple"
      ]
     },
     "execution_count": 2,
     "metadata": {},
     "output_type": "execute_result"
    }
   ],
   "source": [
    "type(tuple_1) "
   ]
  },
  {
   "cell_type": "code",
   "execution_count": null,
   "id": "b84f7328",
   "metadata": {},
   "outputs": [],
   "source": [
    "tuple_2 = (1 , 1.2 , \"Sachin Shelke\" , -10, .05, 1+5j)  ## tuple is hetrogenous"
   ]
  },
  {
   "cell_type": "code",
   "execution_count": null,
   "id": "30f36547",
   "metadata": {},
   "outputs": [],
   "source": [
    "## tuple is immutable"
   ]
  },
  {
   "cell_type": "code",
   "execution_count": 3,
   "id": "5e15ccf3",
   "metadata": {},
   "outputs": [],
   "source": [
    "tuple_2 = (1 , 1.2 , \"Sachin Shelke\" , -10, .05, 1+5j)"
   ]
  },
  {
   "cell_type": "code",
   "execution_count": 4,
   "id": "cfd8b66e",
   "metadata": {},
   "outputs": [
    {
     "data": {
      "text/plain": [
       "0.05"
      ]
     },
     "execution_count": 4,
     "metadata": {},
     "output_type": "execute_result"
    }
   ],
   "source": [
    "tuple_2[4]"
   ]
  },
  {
   "cell_type": "code",
   "execution_count": 5,
   "id": "801a83b9",
   "metadata": {},
   "outputs": [
    {
     "data": {
      "text/plain": [
       "'Sachin Shelke'"
      ]
     },
     "execution_count": 5,
     "metadata": {},
     "output_type": "execute_result"
    }
   ],
   "source": [
    "tuple_2[2]"
   ]
  },
  {
   "cell_type": "code",
   "execution_count": 6,
   "id": "d536f715",
   "metadata": {},
   "outputs": [
    {
     "data": {
      "text/plain": [
       "(1.2, 'Sachin Shelke', -10)"
      ]
     },
     "execution_count": 6,
     "metadata": {},
     "output_type": "execute_result"
    }
   ],
   "source": [
    "tuple_2[1:4]   #Slicing"
   ]
  },
  {
   "cell_type": "code",
   "execution_count": 7,
   "id": "936cd83a",
   "metadata": {},
   "outputs": [
    {
     "data": {
      "text/plain": [
       "(1, 1.2, 'Sachin Shelke', -10, 0.05, (1+5j))"
      ]
     },
     "execution_count": 7,
     "metadata": {},
     "output_type": "execute_result"
    }
   ],
   "source": [
    "tuple_2[::1]"
   ]
  },
  {
   "cell_type": "code",
   "execution_count": 8,
   "id": "3b16382f",
   "metadata": {},
   "outputs": [
    {
     "data": {
      "text/plain": [
       "((1+5j), 0.05, -10, 'Sachin Shelke', 1.2, 1)"
      ]
     },
     "execution_count": 8,
     "metadata": {},
     "output_type": "execute_result"
    }
   ],
   "source": [
    "tuple_2[::-1]"
   ]
  },
  {
   "cell_type": "code",
   "execution_count": 9,
   "id": "3a6d007a",
   "metadata": {},
   "outputs": [],
   "source": [
    "tuple_3 = (1, 1.2, 'Sachin Shelke', -10, 0.05, (1+5j) , 1, 2,3,1)"
   ]
  },
  {
   "cell_type": "code",
   "execution_count": 10,
   "id": "70488af9",
   "metadata": {},
   "outputs": [
    {
     "data": {
      "text/plain": [
       "(1, 1.2, 'Sachin Shelke', -10, 0.05, (1+5j), 1, 2, 3, 1)"
      ]
     },
     "execution_count": 10,
     "metadata": {},
     "output_type": "execute_result"
    }
   ],
   "source": [
    "tuple_3"
   ]
  },
  {
   "cell_type": "code",
   "execution_count": 11,
   "id": "ff3d8c6c",
   "metadata": {},
   "outputs": [
    {
     "data": {
      "text/plain": [
       "3"
      ]
     },
     "execution_count": 11,
     "metadata": {},
     "output_type": "execute_result"
    }
   ],
   "source": [
    "tuple_3.count(1)  ## returns number of occurances of item"
   ]
  },
  {
   "cell_type": "code",
   "execution_count": null,
   "id": "bf928ad2",
   "metadata": {},
   "outputs": [],
   "source": [
    "## in tuple there are 2 in-built functions - count and index"
   ]
  },
  {
   "cell_type": "code",
   "execution_count": 12,
   "id": "5078a895",
   "metadata": {},
   "outputs": [
    {
     "name": "stdout",
     "output_type": "stream",
     "text": [
      "1\n",
      "1.2\n",
      "Sachin Shelke\n",
      "-10\n",
      "0.05\n",
      "(1+5j)\n",
      "1\n",
      "2\n",
      "3\n",
      "1\n"
     ]
    }
   ],
   "source": [
    "for tup_1 in tuple_3:\n",
    "    print(tup_1)"
   ]
  },
  {
   "cell_type": "code",
   "execution_count": 13,
   "id": "cae51327",
   "metadata": {},
   "outputs": [
    {
     "name": "stdout",
     "output_type": "stream",
     "text": [
      "1 <class 'int'>\n",
      "1.2 <class 'float'>\n",
      "Sachin Shelke <class 'str'>\n",
      "-10 <class 'int'>\n",
      "0.05 <class 'float'>\n",
      "(1+5j) <class 'complex'>\n",
      "1 <class 'int'>\n",
      "2 <class 'int'>\n",
      "3 <class 'int'>\n",
      "1 <class 'int'>\n"
     ]
    }
   ],
   "source": [
    "for tup_1 in tuple_3:\n",
    "    print(tup_1 , type(tup_1))"
   ]
  },
  {
   "cell_type": "code",
   "execution_count": 14,
   "id": "e4e85988",
   "metadata": {},
   "outputs": [],
   "source": [
    "tuple_4 = (1 ,2,3,1,1,5,6,7,10)"
   ]
  },
  {
   "cell_type": "code",
   "execution_count": 15,
   "id": "5cf98b0e",
   "metadata": {},
   "outputs": [
    {
     "data": {
      "text/plain": [
       "(1, 2, 3, 1, 1, 5, 6, 7, 10)"
      ]
     },
     "execution_count": 15,
     "metadata": {},
     "output_type": "execute_result"
    }
   ],
   "source": [
    "tuple_4"
   ]
  },
  {
   "cell_type": "code",
   "execution_count": 16,
   "id": "9a616edd",
   "metadata": {},
   "outputs": [
    {
     "data": {
      "text/plain": [
       "(1, 2, 3, 1, 1, 5, 6, 7, 10, 1, 2, 3, 1, 1, 5, 6, 7, 10)"
      ]
     },
     "execution_count": 16,
     "metadata": {},
     "output_type": "execute_result"
    }
   ],
   "source": [
    "tuple_4 * 2"
   ]
  },
  {
   "cell_type": "code",
   "execution_count": 17,
   "id": "93e66224",
   "metadata": {},
   "outputs": [
    {
     "data": {
      "text/plain": [
       "(1, 2, 3, 1, 1, 5, 6, 7, 10)"
      ]
     },
     "execution_count": 17,
     "metadata": {},
     "output_type": "execute_result"
    }
   ],
   "source": [
    "tuple_4"
   ]
  },
  {
   "cell_type": "code",
   "execution_count": 18,
   "id": "ab940ff6",
   "metadata": {},
   "outputs": [
    {
     "data": {
      "text/plain": [
       "10"
      ]
     },
     "execution_count": 18,
     "metadata": {},
     "output_type": "execute_result"
    }
   ],
   "source": [
    "max(tuple_4)"
   ]
  },
  {
   "cell_type": "code",
   "execution_count": 19,
   "id": "c8528851",
   "metadata": {},
   "outputs": [
    {
     "data": {
      "text/plain": [
       "1"
      ]
     },
     "execution_count": 19,
     "metadata": {},
     "output_type": "execute_result"
    }
   ],
   "source": [
    "min(tuple_4)"
   ]
  },
  {
   "cell_type": "code",
   "execution_count": 20,
   "id": "65d59ec5",
   "metadata": {},
   "outputs": [
    {
     "data": {
      "text/plain": [
       "(1, 2, 3, 1, 1, 5, 6, 7, 10)"
      ]
     },
     "execution_count": 20,
     "metadata": {},
     "output_type": "execute_result"
    }
   ],
   "source": [
    "tuple_4"
   ]
  },
  {
   "cell_type": "code",
   "execution_count": 21,
   "id": "fc088f20",
   "metadata": {},
   "outputs": [
    {
     "data": {
      "text/plain": [
       "6"
      ]
     },
     "execution_count": 21,
     "metadata": {},
     "output_type": "execute_result"
    }
   ],
   "source": [
    "tuple_4[6]"
   ]
  },
  {
   "cell_type": "code",
   "execution_count": 22,
   "id": "8f0e8319",
   "metadata": {},
   "outputs": [
    {
     "ename": "TypeError",
     "evalue": "'tuple' object does not support item assignment",
     "output_type": "error",
     "traceback": [
      "\u001b[1;31m---------------------------------------------------------------------------\u001b[0m",
      "\u001b[1;31mTypeError\u001b[0m                                 Traceback (most recent call last)",
      "Input \u001b[1;32mIn [22]\u001b[0m, in \u001b[0;36m<cell line: 1>\u001b[1;34m()\u001b[0m\n\u001b[1;32m----> 1\u001b[0m tuple_4[\u001b[38;5;241m6\u001b[39m] \u001b[38;5;241m=\u001b[39m \u001b[38;5;241m11\u001b[39m\n",
      "\u001b[1;31mTypeError\u001b[0m: 'tuple' object does not support item assignment"
     ]
    }
   ],
   "source": [
    "tuple_4[6] = 11  ## not allowing to change - tuples are immutable"
   ]
  },
  {
   "cell_type": "code",
   "execution_count": 23,
   "id": "c542b737",
   "metadata": {},
   "outputs": [],
   "source": [
    "fruits=(\"apple\",\"banana\",\"grapes\",\"mango\",\"kivi\",\"imlii\",\"mka\")"
   ]
  },
  {
   "cell_type": "code",
   "execution_count": 24,
   "id": "62a7a7bc",
   "metadata": {},
   "outputs": [
    {
     "data": {
      "text/plain": [
       "tuple"
      ]
     },
     "execution_count": 24,
     "metadata": {},
     "output_type": "execute_result"
    }
   ],
   "source": [
    "type(fruits)"
   ]
  },
  {
   "cell_type": "code",
   "execution_count": 25,
   "id": "6447308e",
   "metadata": {},
   "outputs": [
    {
     "data": {
      "text/plain": [
       "('apple', 'banana', 'grapes', 'mango', 'kivi', 'imlii', 'mka')"
      ]
     },
     "execution_count": 25,
     "metadata": {},
     "output_type": "execute_result"
    }
   ],
   "source": [
    "fruits"
   ]
  },
  {
   "cell_type": "code",
   "execution_count": 26,
   "id": "c03ac198",
   "metadata": {},
   "outputs": [
    {
     "data": {
      "text/plain": [
       "'mka'"
      ]
     },
     "execution_count": 26,
     "metadata": {},
     "output_type": "execute_result"
    }
   ],
   "source": [
    "fruits[6]"
   ]
  },
  {
   "cell_type": "code",
   "execution_count": 27,
   "id": "e9f64421",
   "metadata": {},
   "outputs": [
    {
     "ename": "TypeError",
     "evalue": "'tuple' object does not support item assignment",
     "output_type": "error",
     "traceback": [
      "\u001b[1;31m---------------------------------------------------------------------------\u001b[0m",
      "\u001b[1;31mTypeError\u001b[0m                                 Traceback (most recent call last)",
      "Input \u001b[1;32mIn [27]\u001b[0m, in \u001b[0;36m<cell line: 1>\u001b[1;34m()\u001b[0m\n\u001b[1;32m----> 1\u001b[0m fruits[\u001b[38;5;241m6\u001b[39m] \u001b[38;5;241m=\u001b[39m \u001b[38;5;124m\"\u001b[39m\u001b[38;5;124mCorn\u001b[39m\u001b[38;5;124m\"\u001b[39m\n",
      "\u001b[1;31mTypeError\u001b[0m: 'tuple' object does not support item assignment"
     ]
    }
   ],
   "source": [
    "fruits[6] = \"Corn\""
   ]
  },
  {
   "cell_type": "code",
   "execution_count": null,
   "id": "a966298b",
   "metadata": {},
   "outputs": [],
   "source": []
  }
 ],
 "metadata": {
  "kernelspec": {
   "display_name": "Python 3 (ipykernel)",
   "language": "python",
   "name": "python3"
  },
  "language_info": {
   "codemirror_mode": {
    "name": "ipython",
    "version": 3
   },
   "file_extension": ".py",
   "mimetype": "text/x-python",
   "name": "python",
   "nbconvert_exporter": "python",
   "pygments_lexer": "ipython3",
   "version": "3.9.12"
  }
 },
 "nbformat": 4,
 "nbformat_minor": 5
}
