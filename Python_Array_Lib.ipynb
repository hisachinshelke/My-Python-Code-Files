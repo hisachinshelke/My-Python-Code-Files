{
 "cells": [
  {
   "cell_type": "markdown",
   "id": "3bde36fd",
   "metadata": {},
   "source": [
    "## Python Array"
   ]
  },
  {
   "cell_type": "markdown",
   "id": "5bfd4f33",
   "metadata": {},
   "source": [
    "#### Python does not have built-in support for Arrays, but we use built-in Python List"
   ]
  },
  {
   "cell_type": "code",
   "execution_count": 2,
   "id": "c36a5996",
   "metadata": {},
   "outputs": [],
   "source": [
    "my_List = [10,20,30,40,50]"
   ]
  },
  {
   "cell_type": "code",
   "execution_count": 3,
   "id": "f04e33dd",
   "metadata": {},
   "outputs": [
    {
     "data": {
      "text/plain": [
       "[10, 20, 30, 40, 50]"
      ]
     },
     "execution_count": 3,
     "metadata": {},
     "output_type": "execute_result"
    }
   ],
   "source": [
    "my_List"
   ]
  },
  {
   "cell_type": "code",
   "execution_count": 6,
   "id": "b01ea07b",
   "metadata": {},
   "outputs": [],
   "source": [
    "my_List[1] = 90"
   ]
  },
  {
   "cell_type": "code",
   "execution_count": 7,
   "id": "326959b2",
   "metadata": {},
   "outputs": [
    {
     "data": {
      "text/plain": [
       "[10, 90, 30, 40, 50]"
      ]
     },
     "execution_count": 7,
     "metadata": {},
     "output_type": "execute_result"
    }
   ],
   "source": [
    "my_List"
   ]
  },
  {
   "cell_type": "code",
   "execution_count": 8,
   "id": "c8d9c0cf",
   "metadata": {},
   "outputs": [],
   "source": [
    "## Arrays in all other programming language - or general Array term - HOMOGENOUS meaning it must contain data of same type"
   ]
  },
  {
   "cell_type": "markdown",
   "id": "0f08e5d5",
   "metadata": {},
   "source": [
    "But, in Python - there is no special function called Array as in other programming languages, but it has LIST that behaves exactly same as Array in other languages. And List in Python is Heterogenous."
   ]
  },
  {
   "cell_type": "markdown",
   "id": "54660edc",
   "metadata": {},
   "source": [
    "In Python - List is Heterogenous - meaning it can hold data of different datatypes as well."
   ]
  },
  {
   "cell_type": "markdown",
   "id": "6a0b3d35",
   "metadata": {},
   "source": [
    "Numpy Array in Python - Homogenous"
   ]
  },
  {
   "cell_type": "code",
   "execution_count": null,
   "id": "46745036",
   "metadata": {},
   "outputs": [],
   "source": [
    "from array import *"
   ]
  },
  {
   "cell_type": "code",
   "execution_count": null,
   "id": "b4100d7a",
   "metadata": {},
   "outputs": [],
   "source": [
    "Syntax:\n",
    "    \n",
    "arrayName = array(typecode, [initializers])"
   ]
  },
  {
   "cell_type": "code",
   "execution_count": 9,
   "id": "4889d542",
   "metadata": {},
   "outputs": [],
   "source": [
    "import array as ar"
   ]
  },
  {
   "cell_type": "code",
   "execution_count": 10,
   "id": "33a88da0",
   "metadata": {},
   "outputs": [],
   "source": [
    "arr_name = ar.array(\"i\" , [10,20 ,30 ,40 ,50])"
   ]
  },
  {
   "cell_type": "code",
   "execution_count": 11,
   "id": "075e44de",
   "metadata": {},
   "outputs": [
    {
     "data": {
      "text/plain": [
       "array('i', [10, 20, 30, 40, 50])"
      ]
     },
     "execution_count": 11,
     "metadata": {},
     "output_type": "execute_result"
    }
   ],
   "source": [
    "arr_name"
   ]
  },
  {
   "cell_type": "code",
   "execution_count": 12,
   "id": "8519b145",
   "metadata": {},
   "outputs": [
    {
     "data": {
      "text/plain": [
       "array.array"
      ]
     },
     "execution_count": 12,
     "metadata": {},
     "output_type": "execute_result"
    }
   ],
   "source": [
    "type(arr_name)"
   ]
  },
  {
   "cell_type": "code",
   "execution_count": 13,
   "id": "24e6ed9f",
   "metadata": {},
   "outputs": [
    {
     "data": {
      "text/plain": [
       "10"
      ]
     },
     "execution_count": 13,
     "metadata": {},
     "output_type": "execute_result"
    }
   ],
   "source": [
    "arr_name[0]"
   ]
  },
  {
   "cell_type": "code",
   "execution_count": 14,
   "id": "afd7889f",
   "metadata": {},
   "outputs": [
    {
     "data": {
      "text/plain": [
       "40"
      ]
     },
     "execution_count": 14,
     "metadata": {},
     "output_type": "execute_result"
    }
   ],
   "source": [
    "arr_name[3]"
   ]
  },
  {
   "cell_type": "code",
   "execution_count": null,
   "id": "624d8c46",
   "metadata": {},
   "outputs": [],
   "source": [
    "array('i', [10, \"Sachin Shelke\", 30, 40.0, 1+5j])  ## NOT Allowed"
   ]
  },
  {
   "cell_type": "markdown",
   "id": "d2a2b4d5",
   "metadata": {},
   "source": [
    "That's why we call Array as Homogenous"
   ]
  },
  {
   "cell_type": "code",
   "execution_count": null,
   "id": "0d48f757",
   "metadata": {},
   "outputs": [],
   "source": []
  }
 ],
 "metadata": {
  "kernelspec": {
   "display_name": "Python 3 (ipykernel)",
   "language": "python",
   "name": "python3"
  },
  "language_info": {
   "codemirror_mode": {
    "name": "ipython",
    "version": 3
   },
   "file_extension": ".py",
   "mimetype": "text/x-python",
   "name": "python",
   "nbconvert_exporter": "python",
   "pygments_lexer": "ipython3",
   "version": "3.9.12"
  }
 },
 "nbformat": 4,
 "nbformat_minor": 5
}
