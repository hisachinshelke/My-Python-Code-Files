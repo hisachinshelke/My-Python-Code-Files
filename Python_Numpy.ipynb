{
 "cells": [
  {
   "cell_type": "markdown",
   "id": "e4254466",
   "metadata": {},
   "source": [
    "NumPy"
   ]
  },
  {
   "cell_type": "markdown",
   "id": "d3166c4b",
   "metadata": {},
   "source": [
    "NumPy - Numerical Python"
   ]
  },
  {
   "cell_type": "markdown",
   "id": "a5f2a5b5",
   "metadata": {},
   "source": [
    "NumPy is used for scientific computing with python. This can work on N-Dimensional arrays more efficiently.\n"
   ]
  },
  {
   "cell_type": "markdown",
   "id": "63cda5a8",
   "metadata": {},
   "source": [
    "list_1 = [1,2,3,4,5....]"
   ]
  },
  {
   "cell_type": "markdown",
   "id": "c1ced1f0",
   "metadata": {},
   "source": [
    "Array - It is a collection of items stored in a specific memory locations."
   ]
  },
  {
   "cell_type": "markdown",
   "id": "8c23ddf7",
   "metadata": {},
   "source": [
    "Libraries in Python - Some extension added to python to make it more efficient."
   ]
  },
  {
   "cell_type": "markdown",
   "id": "57d306dd",
   "metadata": {},
   "source": [
    "How it install any library in Python?\n",
    "Synatx:\n",
    "\n",
    "!pip install <library name>"
   ]
  },
  {
   "cell_type": "code",
   "execution_count": null,
   "id": "3233c009",
   "metadata": {},
   "outputs": [],
   "source": [
    "!pip install numpy"
   ]
  },
  {
   "cell_type": "code",
   "execution_count": null,
   "id": "98033c72",
   "metadata": {},
   "outputs": [],
   "source": [
    "How to import library?\n",
    "\n",
    "import <library name> as \n",
    "\n",
    "also, use alias\n",
    "\n",
    "import numpy as np"
   ]
  },
  {
   "cell_type": "code",
   "execution_count": 10,
   "id": "a7c4ef98",
   "metadata": {},
   "outputs": [],
   "source": [
    "myList = [1,2,3]"
   ]
  },
  {
   "cell_type": "code",
   "execution_count": 11,
   "id": "a2ad3a3d",
   "metadata": {},
   "outputs": [
    {
     "data": {
      "text/plain": [
       "list"
      ]
     },
     "execution_count": 11,
     "metadata": {},
     "output_type": "execute_result"
    }
   ],
   "source": [
    "type(myList)"
   ]
  },
  {
   "cell_type": "code",
   "execution_count": 12,
   "id": "f25abc8d",
   "metadata": {},
   "outputs": [],
   "source": [
    "## converting list into numpy array"
   ]
  },
  {
   "cell_type": "code",
   "execution_count": 13,
   "id": "1d3c38df",
   "metadata": {},
   "outputs": [],
   "source": [
    "import numpy as np"
   ]
  },
  {
   "cell_type": "code",
   "execution_count": 14,
   "id": "bb80d282",
   "metadata": {},
   "outputs": [],
   "source": [
    "n = np.array(myList)"
   ]
  },
  {
   "cell_type": "code",
   "execution_count": null,
   "id": "0a64af9a",
   "metadata": {},
   "outputs": [],
   "source": [
    "n."
   ]
  },
  {
   "cell_type": "code",
   "execution_count": 15,
   "id": "384bd98c",
   "metadata": {},
   "outputs": [
    {
     "name": "stdout",
     "output_type": "stream",
     "text": [
      "[1 2 3]\n"
     ]
    }
   ],
   "source": [
    "print(n)"
   ]
  },
  {
   "cell_type": "code",
   "execution_count": 16,
   "id": "06e7a9eb",
   "metadata": {},
   "outputs": [
    {
     "data": {
      "text/plain": [
       "numpy.ndarray"
      ]
     },
     "execution_count": 16,
     "metadata": {},
     "output_type": "execute_result"
    }
   ],
   "source": [
    "type(n)"
   ]
  },
  {
   "cell_type": "code",
   "execution_count": 17,
   "id": "9817b0df",
   "metadata": {},
   "outputs": [],
   "source": [
    "myList2 = np.array(myList)"
   ]
  },
  {
   "cell_type": "code",
   "execution_count": 18,
   "id": "dd3f0537",
   "metadata": {},
   "outputs": [
    {
     "name": "stdout",
     "output_type": "stream",
     "text": [
      "[1 2 3]\n"
     ]
    }
   ],
   "source": [
    "print(myList2)"
   ]
  },
  {
   "cell_type": "code",
   "execution_count": 19,
   "id": "f8b244ad",
   "metadata": {},
   "outputs": [
    {
     "data": {
      "text/plain": [
       "numpy.ndarray"
      ]
     },
     "execution_count": 19,
     "metadata": {},
     "output_type": "execute_result"
    }
   ],
   "source": [
    "type(myList2)"
   ]
  },
  {
   "cell_type": "code",
   "execution_count": 20,
   "id": "b1e5740a",
   "metadata": {},
   "outputs": [
    {
     "data": {
      "text/plain": [
       "list"
      ]
     },
     "execution_count": 20,
     "metadata": {},
     "output_type": "execute_result"
    }
   ],
   "source": [
    "type(myList)"
   ]
  },
  {
   "cell_type": "code",
   "execution_count": 21,
   "id": "5032bb82",
   "metadata": {},
   "outputs": [],
   "source": [
    "myList = np.array(myList)"
   ]
  },
  {
   "cell_type": "code",
   "execution_count": 22,
   "id": "ddbbd448",
   "metadata": {},
   "outputs": [
    {
     "data": {
      "text/plain": [
       "numpy.ndarray"
      ]
     },
     "execution_count": 22,
     "metadata": {},
     "output_type": "execute_result"
    }
   ],
   "source": [
    "type(myList)"
   ]
  },
  {
   "cell_type": "code",
   "execution_count": 23,
   "id": "a50e3157",
   "metadata": {},
   "outputs": [],
   "source": [
    "## Creating multi-Dimensional Array"
   ]
  },
  {
   "cell_type": "code",
   "execution_count": 24,
   "id": "7167ff31",
   "metadata": {},
   "outputs": [],
   "source": [
    "list_of_lists = np.array([[1,2,3],[4,5,6],[7,8,9]])"
   ]
  },
  {
   "cell_type": "code",
   "execution_count": 25,
   "id": "85084ac1",
   "metadata": {},
   "outputs": [
    {
     "name": "stdout",
     "output_type": "stream",
     "text": [
      "[[1 2 3]\n",
      " [4 5 6]\n",
      " [7 8 9]]\n"
     ]
    }
   ],
   "source": [
    "print(list_of_lists)"
   ]
  },
  {
   "cell_type": "code",
   "execution_count": 26,
   "id": "b63860f9",
   "metadata": {},
   "outputs": [
    {
     "data": {
      "text/plain": [
       "numpy.ndarray"
      ]
     },
     "execution_count": 26,
     "metadata": {},
     "output_type": "execute_result"
    }
   ],
   "source": [
    "type(list_of_lists)"
   ]
  },
  {
   "cell_type": "code",
   "execution_count": 27,
   "id": "303fde3e",
   "metadata": {},
   "outputs": [],
   "source": [
    "## Numpy Functions"
   ]
  },
  {
   "cell_type": "code",
   "execution_count": 28,
   "id": "0523a72d",
   "metadata": {},
   "outputs": [],
   "source": [
    "# Arrange Function"
   ]
  },
  {
   "cell_type": "code",
   "execution_count": 29,
   "id": "37a77cce",
   "metadata": {},
   "outputs": [
    {
     "data": {
      "text/plain": [
       "range(1, 10)"
      ]
     },
     "execution_count": 29,
     "metadata": {},
     "output_type": "execute_result"
    }
   ],
   "source": [
    "range(1,10)"
   ]
  },
  {
   "cell_type": "code",
   "execution_count": 30,
   "id": "ba6355bd",
   "metadata": {},
   "outputs": [
    {
     "data": {
      "text/plain": [
       "array([0, 1, 2, 3, 4, 5, 6, 7, 8, 9])"
      ]
     },
     "execution_count": 30,
     "metadata": {},
     "output_type": "execute_result"
    }
   ],
   "source": [
    "np.arange(0,10)"
   ]
  },
  {
   "cell_type": "code",
   "execution_count": 31,
   "id": "b5710e4b",
   "metadata": {},
   "outputs": [
    {
     "name": "stdout",
     "output_type": "stream",
     "text": [
      "0\n",
      "1\n",
      "2\n",
      "3\n",
      "4\n",
      "5\n",
      "6\n",
      "7\n",
      "8\n",
      "9\n"
     ]
    }
   ],
   "source": [
    "for x in range(0,10):\n",
    "    print(x)"
   ]
  },
  {
   "cell_type": "code",
   "execution_count": 32,
   "id": "0ac10e06",
   "metadata": {},
   "outputs": [
    {
     "data": {
      "text/plain": [
       "array([0, 1, 2, 3, 4, 5, 6, 7, 8, 9])"
      ]
     },
     "execution_count": 32,
     "metadata": {},
     "output_type": "execute_result"
    }
   ],
   "source": [
    "np.arange(0,10)"
   ]
  },
  {
   "cell_type": "markdown",
   "id": "08c3785a",
   "metadata": {},
   "source": [
    "Numpy Arange is similar to Python range but is more efficient - faster"
   ]
  },
  {
   "cell_type": "code",
   "execution_count": 33,
   "id": "d2aa8521",
   "metadata": {},
   "outputs": [
    {
     "data": {
      "text/plain": [
       "array([0, 2, 4, 6, 8])"
      ]
     },
     "execution_count": 33,
     "metadata": {},
     "output_type": "execute_result"
    }
   ],
   "source": [
    "np.arange(0,10,2)"
   ]
  },
  {
   "cell_type": "code",
   "execution_count": 34,
   "id": "152189eb",
   "metadata": {},
   "outputs": [
    {
     "name": "stdout",
     "output_type": "stream",
     "text": [
      "0\n",
      "2\n",
      "4\n",
      "6\n",
      "8\n"
     ]
    }
   ],
   "source": [
    "for x in range(0,10,2):\n",
    "    print(x)"
   ]
  },
  {
   "cell_type": "code",
   "execution_count": 35,
   "id": "a6f4c52d",
   "metadata": {},
   "outputs": [],
   "source": [
    "## Numpy Zeros"
   ]
  },
  {
   "cell_type": "code",
   "execution_count": 36,
   "id": "dd6de6cf",
   "metadata": {},
   "outputs": [
    {
     "name": "stderr",
     "output_type": "stream",
     "text": [
      "C:\\Users\\SK\\AppData\\Local\\Temp\\ipykernel_17952\\636785961.py:1: VisibleDeprecationWarning: Creating an ndarray from ragged nested sequences (which is a list-or-tuple of lists-or-tuples-or ndarrays with different lengths or shapes) is deprecated. If you meant to do this, you must specify 'dtype=object' when creating the ndarray.\n",
      "  list_of_lists1 = np.array([[1,2,3],[4,5],[7,8,9]])\n"
     ]
    }
   ],
   "source": [
    "list_of_lists1 = np.array([[1,2,3],[4,5],[7,8,9]])"
   ]
  },
  {
   "cell_type": "code",
   "execution_count": 37,
   "id": "a2aa26a6",
   "metadata": {},
   "outputs": [],
   "source": [
    "zeros = np.zeros(100)  # 1 x 100 matrix or 1D array"
   ]
  },
  {
   "cell_type": "code",
   "execution_count": 38,
   "id": "ac0723a7",
   "metadata": {},
   "outputs": [
    {
     "name": "stdout",
     "output_type": "stream",
     "text": [
      "[0. 0. 0. 0. 0. 0. 0. 0. 0. 0. 0. 0. 0. 0. 0. 0. 0. 0. 0. 0. 0. 0. 0. 0.\n",
      " 0. 0. 0. 0. 0. 0. 0. 0. 0. 0. 0. 0. 0. 0. 0. 0. 0. 0. 0. 0. 0. 0. 0. 0.\n",
      " 0. 0. 0. 0. 0. 0. 0. 0. 0. 0. 0. 0. 0. 0. 0. 0. 0. 0. 0. 0. 0. 0. 0. 0.\n",
      " 0. 0. 0. 0. 0. 0. 0. 0. 0. 0. 0. 0. 0. 0. 0. 0. 0. 0. 0. 0. 0. 0. 0. 0.\n",
      " 0. 0. 0. 0.]\n"
     ]
    }
   ],
   "source": [
    "print(zeros)"
   ]
  },
  {
   "cell_type": "code",
   "execution_count": 39,
   "id": "2e7ffd95",
   "metadata": {},
   "outputs": [],
   "source": [
    "## Numpy Ones"
   ]
  },
  {
   "cell_type": "code",
   "execution_count": 40,
   "id": "ba79b6e5",
   "metadata": {},
   "outputs": [],
   "source": [
    "ones = np.ones(100)"
   ]
  },
  {
   "cell_type": "code",
   "execution_count": 41,
   "id": "98f35604",
   "metadata": {},
   "outputs": [
    {
     "name": "stdout",
     "output_type": "stream",
     "text": [
      "[1. 1. 1. 1. 1. 1. 1. 1. 1. 1. 1. 1. 1. 1. 1. 1. 1. 1. 1. 1. 1. 1. 1. 1.\n",
      " 1. 1. 1. 1. 1. 1. 1. 1. 1. 1. 1. 1. 1. 1. 1. 1. 1. 1. 1. 1. 1. 1. 1. 1.\n",
      " 1. 1. 1. 1. 1. 1. 1. 1. 1. 1. 1. 1. 1. 1. 1. 1. 1. 1. 1. 1. 1. 1. 1. 1.\n",
      " 1. 1. 1. 1. 1. 1. 1. 1. 1. 1. 1. 1. 1. 1. 1. 1. 1. 1. 1. 1. 1. 1. 1. 1.\n",
      " 1. 1. 1. 1.]\n"
     ]
    }
   ],
   "source": [
    "print(ones)"
   ]
  },
  {
   "cell_type": "code",
   "execution_count": 42,
   "id": "4965afb7",
   "metadata": {},
   "outputs": [],
   "source": [
    "onez = np.ones((3,3))  ## 3 x 3 matrix - 3D array"
   ]
  },
  {
   "cell_type": "code",
   "execution_count": 43,
   "id": "1d03da95",
   "metadata": {},
   "outputs": [
    {
     "name": "stdout",
     "output_type": "stream",
     "text": [
      "[[1. 1. 1.]\n",
      " [1. 1. 1.]\n",
      " [1. 1. 1.]]\n"
     ]
    }
   ],
   "source": [
    "print(onez)"
   ]
  },
  {
   "cell_type": "code",
   "execution_count": 44,
   "id": "a8b03367",
   "metadata": {},
   "outputs": [],
   "source": [
    "zeroz = np.zeros((5,5))"
   ]
  },
  {
   "cell_type": "code",
   "execution_count": 45,
   "id": "26ad10cc",
   "metadata": {},
   "outputs": [
    {
     "name": "stdout",
     "output_type": "stream",
     "text": [
      "[[0. 0. 0. 0. 0.]\n",
      " [0. 0. 0. 0. 0.]\n",
      " [0. 0. 0. 0. 0.]\n",
      " [0. 0. 0. 0. 0.]\n",
      " [0. 0. 0. 0. 0.]]\n"
     ]
    }
   ],
   "source": [
    "print(zeroz)  ## 5 x 5 matrix or 5D array"
   ]
  },
  {
   "cell_type": "code",
   "execution_count": 46,
   "id": "0fa19c13",
   "metadata": {},
   "outputs": [
    {
     "data": {
      "text/plain": [
       "numpy.ndarray"
      ]
     },
     "execution_count": 46,
     "metadata": {},
     "output_type": "execute_result"
    }
   ],
   "source": [
    "type(onez)"
   ]
  },
  {
   "cell_type": "code",
   "execution_count": 47,
   "id": "85d710f3",
   "metadata": {},
   "outputs": [],
   "source": [
    "## Numpy eye - Identity matrix"
   ]
  },
  {
   "cell_type": "code",
   "execution_count": 48,
   "id": "004a4642",
   "metadata": {},
   "outputs": [],
   "source": [
    "diag_ones = np.eye(5)"
   ]
  },
  {
   "cell_type": "code",
   "execution_count": 49,
   "id": "27fab0b4",
   "metadata": {},
   "outputs": [
    {
     "name": "stdout",
     "output_type": "stream",
     "text": [
      "[[1. 0. 0. 0. 0.]\n",
      " [0. 1. 0. 0. 0.]\n",
      " [0. 0. 1. 0. 0.]\n",
      " [0. 0. 0. 1. 0.]\n",
      " [0. 0. 0. 0. 1.]]\n"
     ]
    }
   ],
   "source": [
    "print(diag_ones)"
   ]
  },
  {
   "cell_type": "code",
   "execution_count": 50,
   "id": "8bb1f403",
   "metadata": {},
   "outputs": [],
   "source": [
    "## Length of numpy array - it returns no of columns in matrix"
   ]
  },
  {
   "cell_type": "code",
   "execution_count": 51,
   "id": "6011d1da",
   "metadata": {},
   "outputs": [
    {
     "data": {
      "text/plain": [
       "5"
      ]
     },
     "execution_count": 51,
     "metadata": {},
     "output_type": "execute_result"
    }
   ],
   "source": [
    "len(diag_ones)"
   ]
  },
  {
   "cell_type": "code",
   "execution_count": 52,
   "id": "6e107aac",
   "metadata": {},
   "outputs": [
    {
     "data": {
      "text/plain": [
       "3"
      ]
     },
     "execution_count": 52,
     "metadata": {},
     "output_type": "execute_result"
    }
   ],
   "source": [
    "len(onez)"
   ]
  },
  {
   "cell_type": "code",
   "execution_count": 53,
   "id": "160e9cfa",
   "metadata": {},
   "outputs": [
    {
     "data": {
      "text/plain": [
       "5"
      ]
     },
     "execution_count": 53,
     "metadata": {},
     "output_type": "execute_result"
    }
   ],
   "source": [
    "len(zeroz)"
   ]
  },
  {
   "cell_type": "code",
   "execution_count": 54,
   "id": "701e5ada",
   "metadata": {},
   "outputs": [],
   "source": [
    "a = np.arange(10)"
   ]
  },
  {
   "cell_type": "code",
   "execution_count": 55,
   "id": "bd044465",
   "metadata": {},
   "outputs": [
    {
     "name": "stdout",
     "output_type": "stream",
     "text": [
      "[0 1 2 3 4 5 6 7 8 9]\n"
     ]
    }
   ],
   "source": [
    "print(a)"
   ]
  },
  {
   "cell_type": "code",
   "execution_count": 56,
   "id": "76d8501a",
   "metadata": {},
   "outputs": [
    {
     "data": {
      "text/plain": [
       "10"
      ]
     },
     "execution_count": 56,
     "metadata": {},
     "output_type": "execute_result"
    }
   ],
   "source": [
    "len(a)  ## in 1-D array it return no of elements "
   ]
  },
  {
   "cell_type": "markdown",
   "id": "1570dd27",
   "metadata": {},
   "source": [
    "Numpy Array - Homogenous Type\n",
    "Python List,Tuple,Dictionary - Heterogenous Type"
   ]
  },
  {
   "cell_type": "code",
   "execution_count": 63,
   "id": "7ee2e79d",
   "metadata": {},
   "outputs": [],
   "source": [
    "## Numpy Reshape"
   ]
  },
  {
   "cell_type": "markdown",
   "id": "45d5a675",
   "metadata": {},
   "source": [
    "Reshape allows arrays tobe shaped into defnied rows and columns"
   ]
  },
  {
   "cell_type": "code",
   "execution_count": 64,
   "id": "31382d19",
   "metadata": {},
   "outputs": [],
   "source": [
    "nm = [1,2,3,4,5,6,7,8,9,10]"
   ]
  },
  {
   "cell_type": "code",
   "execution_count": 65,
   "id": "695a41f6",
   "metadata": {},
   "outputs": [],
   "source": [
    "nm = np.array(nm)"
   ]
  },
  {
   "cell_type": "code",
   "execution_count": 66,
   "id": "4860e0fe",
   "metadata": {},
   "outputs": [
    {
     "name": "stdout",
     "output_type": "stream",
     "text": [
      "[ 1  2  3  4  5  6  7  8  9 10]\n"
     ]
    }
   ],
   "source": [
    "print(nm)  ## 1x10 matrix"
   ]
  },
  {
   "cell_type": "code",
   "execution_count": 67,
   "id": "556de348",
   "metadata": {},
   "outputs": [
    {
     "data": {
      "text/plain": [
       "numpy.ndarray"
      ]
     },
     "execution_count": 67,
     "metadata": {},
     "output_type": "execute_result"
    }
   ],
   "source": [
    "type(nm)"
   ]
  },
  {
   "cell_type": "code",
   "execution_count": 68,
   "id": "08d02ac2",
   "metadata": {},
   "outputs": [
    {
     "data": {
      "text/plain": [
       "10"
      ]
     },
     "execution_count": 68,
     "metadata": {},
     "output_type": "execute_result"
    }
   ],
   "source": [
    "len(nm)"
   ]
  },
  {
   "cell_type": "code",
   "execution_count": 69,
   "id": "a8bf0660",
   "metadata": {},
   "outputs": [
    {
     "data": {
      "text/plain": [
       "array([[ 1,  2],\n",
       "       [ 3,  4],\n",
       "       [ 5,  6],\n",
       "       [ 7,  8],\n",
       "       [ 9, 10]])"
      ]
     },
     "execution_count": 69,
     "metadata": {},
     "output_type": "execute_result"
    }
   ],
   "source": [
    "nm.reshape(5,2)  ## converting 1D matrix into 5x2 matrix"
   ]
  },
  {
   "cell_type": "code",
   "execution_count": 70,
   "id": "60685e28",
   "metadata": {},
   "outputs": [
    {
     "data": {
      "text/plain": [
       "array([ 1,  2,  3,  4,  5,  6,  7,  8,  9, 10])"
      ]
     },
     "execution_count": 70,
     "metadata": {},
     "output_type": "execute_result"
    }
   ],
   "source": [
    "nm"
   ]
  },
  {
   "cell_type": "code",
   "execution_count": 71,
   "id": "09c85170",
   "metadata": {},
   "outputs": [],
   "source": [
    "## Reshape function never modifies the original Value"
   ]
  },
  {
   "cell_type": "code",
   "execution_count": 72,
   "id": "6a803404",
   "metadata": {},
   "outputs": [],
   "source": [
    "## rows x columns = size of array"
   ]
  },
  {
   "cell_type": "code",
   "execution_count": 73,
   "id": "d1b238b8",
   "metadata": {},
   "outputs": [
    {
     "ename": "ValueError",
     "evalue": "cannot reshape array of size 10 into shape (4,2)",
     "output_type": "error",
     "traceback": [
      "\u001b[1;31m---------------------------------------------------------------------------\u001b[0m",
      "\u001b[1;31mValueError\u001b[0m                                Traceback (most recent call last)",
      "Input \u001b[1;32mIn [73]\u001b[0m, in \u001b[0;36m<cell line: 1>\u001b[1;34m()\u001b[0m\n\u001b[1;32m----> 1\u001b[0m \u001b[43mnm\u001b[49m\u001b[38;5;241;43m.\u001b[39;49m\u001b[43mreshape\u001b[49m\u001b[43m(\u001b[49m\u001b[38;5;241;43m4\u001b[39;49m\u001b[43m,\u001b[49m\u001b[38;5;241;43m2\u001b[39;49m\u001b[43m)\u001b[49m\n",
      "\u001b[1;31mValueError\u001b[0m: cannot reshape array of size 10 into shape (4,2)"
     ]
    }
   ],
   "source": [
    "nm.reshape(4,2) "
   ]
  },
  {
   "cell_type": "code",
   "execution_count": null,
   "id": "ce31bf6b",
   "metadata": {},
   "outputs": [],
   "source": [
    "## Numpy Linespace"
   ]
  },
  {
   "cell_type": "markdown",
   "id": "637ab167",
   "metadata": {},
   "source": [
    "Numpy Linespace returns evenly spaced values in float format"
   ]
  },
  {
   "cell_type": "code",
   "execution_count": 74,
   "id": "748ca9ec",
   "metadata": {},
   "outputs": [],
   "source": [
    "val_1 = np.linspace(0,7,10)"
   ]
  },
  {
   "cell_type": "code",
   "execution_count": 75,
   "id": "4ae53202",
   "metadata": {},
   "outputs": [
    {
     "name": "stdout",
     "output_type": "stream",
     "text": [
      "[0.         0.77777778 1.55555556 2.33333333 3.11111111 3.88888889\n",
      " 4.66666667 5.44444444 6.22222222 7.        ]\n"
     ]
    }
   ],
   "source": [
    "print(val_1)"
   ]
  },
  {
   "cell_type": "code",
   "execution_count": 76,
   "id": "f3342759",
   "metadata": {},
   "outputs": [
    {
     "data": {
      "text/plain": [
       "array([0.        , 0.77777778, 1.55555556, 2.33333333, 3.11111111,\n",
       "       3.88888889, 4.66666667, 5.44444444, 6.22222222, 7.        ])"
      ]
     },
     "execution_count": 76,
     "metadata": {},
     "output_type": "execute_result"
    }
   ],
   "source": [
    "np.linspace(0,7,10)"
   ]
  },
  {
   "cell_type": "code",
   "execution_count": 77,
   "id": "4270547d",
   "metadata": {},
   "outputs": [],
   "source": [
    "## Numpy Resize"
   ]
  },
  {
   "cell_type": "code",
   "execution_count": 78,
   "id": "b56b5094",
   "metadata": {},
   "outputs": [
    {
     "data": {
      "text/plain": [
       "numpy.ndarray"
      ]
     },
     "execution_count": 78,
     "metadata": {},
     "output_type": "execute_result"
    }
   ],
   "source": [
    "type(nm)"
   ]
  },
  {
   "cell_type": "code",
   "execution_count": 79,
   "id": "f6a87e41",
   "metadata": {},
   "outputs": [
    {
     "data": {
      "text/plain": [
       "array([ 1,  2,  3,  4,  5,  6,  7,  8,  9, 10])"
      ]
     },
     "execution_count": 79,
     "metadata": {},
     "output_type": "execute_result"
    }
   ],
   "source": [
    "nm"
   ]
  },
  {
   "cell_type": "code",
   "execution_count": 80,
   "id": "82bcb066",
   "metadata": {},
   "outputs": [],
   "source": [
    "nm.resize(5,2)"
   ]
  },
  {
   "cell_type": "code",
   "execution_count": 81,
   "id": "1c94aac4",
   "metadata": {},
   "outputs": [
    {
     "data": {
      "text/plain": [
       "array([[ 1,  2],\n",
       "       [ 3,  4],\n",
       "       [ 5,  6],\n",
       "       [ 7,  8],\n",
       "       [ 9, 10]])"
      ]
     },
     "execution_count": 81,
     "metadata": {},
     "output_type": "execute_result"
    }
   ],
   "source": [
    "nm"
   ]
  },
  {
   "cell_type": "code",
   "execution_count": 82,
   "id": "0090fd3d",
   "metadata": {},
   "outputs": [],
   "source": [
    "## Numpy resize modifies the original value"
   ]
  },
  {
   "cell_type": "code",
   "execution_count": 83,
   "id": "5e60e53f",
   "metadata": {},
   "outputs": [],
   "source": [
    "num_1 = [10,20,30,40,50,60,70,80,90,100]"
   ]
  },
  {
   "cell_type": "code",
   "execution_count": 84,
   "id": "e26bb5c8",
   "metadata": {},
   "outputs": [],
   "source": [
    "num_1 = np.array(num_1)"
   ]
  },
  {
   "cell_type": "code",
   "execution_count": 85,
   "id": "3f0a039d",
   "metadata": {},
   "outputs": [
    {
     "data": {
      "text/plain": [
       "array([ 10,  20,  30,  40,  50,  60,  70,  80,  90, 100])"
      ]
     },
     "execution_count": 85,
     "metadata": {},
     "output_type": "execute_result"
    }
   ],
   "source": [
    "num_1"
   ]
  },
  {
   "cell_type": "code",
   "execution_count": 86,
   "id": "c15a523f",
   "metadata": {},
   "outputs": [
    {
     "data": {
      "text/plain": [
       "array([[ 10,  20],\n",
       "       [ 30,  40],\n",
       "       [ 50,  60],\n",
       "       [ 70,  80],\n",
       "       [ 90, 100]])"
      ]
     },
     "execution_count": 86,
     "metadata": {},
     "output_type": "execute_result"
    }
   ],
   "source": [
    "num_1.reshape(5,2)"
   ]
  },
  {
   "cell_type": "code",
   "execution_count": 87,
   "id": "b859e8ce",
   "metadata": {},
   "outputs": [
    {
     "data": {
      "text/plain": [
       "array([ 10,  20,  30,  40,  50,  60,  70,  80,  90, 100])"
      ]
     },
     "execution_count": 87,
     "metadata": {},
     "output_type": "execute_result"
    }
   ],
   "source": [
    "num_1"
   ]
  },
  {
   "cell_type": "code",
   "execution_count": 88,
   "id": "2ee7d919",
   "metadata": {},
   "outputs": [],
   "source": [
    "num_1.resize(5,2)"
   ]
  },
  {
   "cell_type": "code",
   "execution_count": 89,
   "id": "18914c84",
   "metadata": {},
   "outputs": [
    {
     "data": {
      "text/plain": [
       "array([[ 10,  20],\n",
       "       [ 30,  40],\n",
       "       [ 50,  60],\n",
       "       [ 70,  80],\n",
       "       [ 90, 100]])"
      ]
     },
     "execution_count": 89,
     "metadata": {},
     "output_type": "execute_result"
    }
   ],
   "source": [
    "num_1"
   ]
  },
  {
   "cell_type": "code",
   "execution_count": 90,
   "id": "fd66a8df",
   "metadata": {},
   "outputs": [],
   "source": [
    "## Generating Random number"
   ]
  },
  {
   "cell_type": "code",
   "execution_count": 91,
   "id": "ad2eca93",
   "metadata": {},
   "outputs": [
    {
     "data": {
      "text/plain": [
       "array([[0.35418441, 0.76748215],\n",
       "       [0.91375869, 0.18318184],\n",
       "       [0.60179087, 0.58790281]])"
      ]
     },
     "execution_count": 91,
     "metadata": {},
     "output_type": "execute_result"
    }
   ],
   "source": [
    "np.random.rand(3,2) ## creates an array of given size with random values between 0 and 1"
   ]
  },
  {
   "cell_type": "code",
   "execution_count": 92,
   "id": "1996f9e4",
   "metadata": {},
   "outputs": [
    {
     "data": {
      "text/plain": [
       "array([[0.23551022, 0.93647325],\n",
       "       [0.17296633, 0.6749028 ],\n",
       "       [0.64802756, 0.73857645]])"
      ]
     },
     "execution_count": 92,
     "metadata": {},
     "output_type": "execute_result"
    }
   ],
   "source": [
    "np.random.rand(3,2)"
   ]
  },
  {
   "cell_type": "code",
   "execution_count": 93,
   "id": "96a5dda7",
   "metadata": {},
   "outputs": [
    {
     "data": {
      "text/plain": [
       "array([[0.48519508, 0.05913519],\n",
       "       [0.10063624, 0.77768281],\n",
       "       [0.2710128 , 0.2911918 ]])"
      ]
     },
     "execution_count": 93,
     "metadata": {},
     "output_type": "execute_result"
    }
   ],
   "source": [
    "np.random.rand(3,2)"
   ]
  },
  {
   "cell_type": "code",
   "execution_count": 94,
   "id": "0039913c",
   "metadata": {},
   "outputs": [
    {
     "data": {
      "text/plain": [
       "array([[-1.39653279,  0.20701417,  0.46579228],\n",
       "       [-1.06799131,  1.08577216,  0.54873813],\n",
       "       [-1.54478739, -0.61342327, -1.65434701]])"
      ]
     },
     "execution_count": 94,
     "metadata": {},
     "output_type": "execute_result"
    }
   ],
   "source": [
    "np.random.randn(3,3)  ## used values from standard normal distribution graph"
   ]
  },
  {
   "cell_type": "code",
   "execution_count": 95,
   "id": "ae0307c3",
   "metadata": {},
   "outputs": [
    {
     "data": {
      "text/plain": [
       "array([12, 14, 11,  7, 11,  9,  7, 14, 10,  8])"
      ]
     },
     "execution_count": 95,
     "metadata": {},
     "output_type": "execute_result"
    }
   ],
   "source": [
    "np.random.randint(4,15,10)"
   ]
  },
  {
   "cell_type": "code",
   "execution_count": 96,
   "id": "d073e3b4",
   "metadata": {},
   "outputs": [
    {
     "data": {
      "text/plain": [
       "array([12,  4, 14, 10,  5,  9, 11,  9,  5, 11])"
      ]
     },
     "execution_count": 96,
     "metadata": {},
     "output_type": "execute_result"
    }
   ],
   "source": [
    "np.random.randint(4,15,10)"
   ]
  },
  {
   "cell_type": "code",
   "execution_count": 97,
   "id": "df6b62e1",
   "metadata": {},
   "outputs": [
    {
     "data": {
      "text/plain": [
       "array([11,  7, 11, 12, 10, 13,  5, 12,  9, 12])"
      ]
     },
     "execution_count": 97,
     "metadata": {},
     "output_type": "execute_result"
    }
   ],
   "source": [
    "np.random.randint(4,15,10) ## generate random integer values between 4 and 15 of 1 x 10 "
   ]
  },
  {
   "cell_type": "code",
   "execution_count": 98,
   "id": "b8773bd7",
   "metadata": {},
   "outputs": [
    {
     "data": {
      "text/plain": [
       "array([10,  4,  6,  9,  8,  9,  7, 11,  9, 10])"
      ]
     },
     "execution_count": 98,
     "metadata": {},
     "output_type": "execute_result"
    }
   ],
   "source": [
    "np.random.randint(4,15,10)"
   ]
  },
  {
   "cell_type": "code",
   "execution_count": 99,
   "id": "284e6cef",
   "metadata": {},
   "outputs": [
    {
     "data": {
      "text/plain": [
       "array([[10, 12, 14],\n",
       "       [14,  4,  7],\n",
       "       [10, 14,  4],\n",
       "       [11,  7,  4]])"
      ]
     },
     "execution_count": 99,
     "metadata": {},
     "output_type": "execute_result"
    }
   ],
   "source": [
    "np.random.randint(4,15,(4,3)) ## generate random integer values between 4 and 15 of shape 4 and 3"
   ]
  },
  {
   "cell_type": "code",
   "execution_count": 100,
   "id": "d7c32fdc",
   "metadata": {},
   "outputs": [],
   "source": [
    "num_2 = np.random.randint(4,15,10)"
   ]
  },
  {
   "cell_type": "code",
   "execution_count": 101,
   "id": "47dd0386",
   "metadata": {},
   "outputs": [],
   "source": [
    "## Slicing and Indexing in Numpy"
   ]
  },
  {
   "cell_type": "code",
   "execution_count": 102,
   "id": "3bd9aa9f",
   "metadata": {},
   "outputs": [],
   "source": [
    "## Indexing is same as that in Python"
   ]
  },
  {
   "cell_type": "code",
   "execution_count": 103,
   "id": "5d65395b",
   "metadata": {},
   "outputs": [
    {
     "data": {
      "text/plain": [
       "array([ 9,  6, 11,  7,  7, 14, 10, 11, 12, 10])"
      ]
     },
     "execution_count": 103,
     "metadata": {},
     "output_type": "execute_result"
    }
   ],
   "source": [
    "num_2"
   ]
  },
  {
   "cell_type": "code",
   "execution_count": 104,
   "id": "8aa0585d",
   "metadata": {},
   "outputs": [
    {
     "data": {
      "text/plain": [
       "7"
      ]
     },
     "execution_count": 104,
     "metadata": {},
     "output_type": "execute_result"
    }
   ],
   "source": [
    "num_2[4] ## accessing elements using indexing"
   ]
  },
  {
   "cell_type": "code",
   "execution_count": 105,
   "id": "a013e0c2",
   "metadata": {},
   "outputs": [
    {
     "data": {
      "text/plain": [
       "11"
      ]
     },
     "execution_count": 105,
     "metadata": {},
     "output_type": "execute_result"
    }
   ],
   "source": [
    "num_2[-3]"
   ]
  },
  {
   "cell_type": "code",
   "execution_count": 106,
   "id": "c0faf36d",
   "metadata": {},
   "outputs": [
    {
     "data": {
      "text/plain": [
       "array([11,  7,  7, 14])"
      ]
     },
     "execution_count": 106,
     "metadata": {},
     "output_type": "execute_result"
    }
   ],
   "source": [
    "num_2[2:6] ## slicing in Python"
   ]
  },
  {
   "cell_type": "code",
   "execution_count": 107,
   "id": "843d14c0",
   "metadata": {},
   "outputs": [
    {
     "data": {
      "text/plain": [
       "array([ 7,  7, 14, 10, 11, 12, 10])"
      ]
     },
     "execution_count": 107,
     "metadata": {},
     "output_type": "execute_result"
    }
   ],
   "source": [
    "num_2[3:]"
   ]
  },
  {
   "cell_type": "code",
   "execution_count": null,
   "id": "1ca9f05e",
   "metadata": {},
   "outputs": [],
   "source": [
    "## Indexing and slicing in Multi-Dimensional Arrays"
   ]
  },
  {
   "cell_type": "code",
   "execution_count": 108,
   "id": "3f714acf",
   "metadata": {},
   "outputs": [],
   "source": [
    "nm = np.random.randint(10, 100 , 20)"
   ]
  },
  {
   "cell_type": "code",
   "execution_count": 109,
   "id": "27dfe0c4",
   "metadata": {},
   "outputs": [
    {
     "data": {
      "text/plain": [
       "<module 'numpy' from 'C:\\\\Users\\\\SK\\\\anaconda3\\\\lib\\\\site-packages\\\\numpy\\\\__init__.py'>"
      ]
     },
     "execution_count": 109,
     "metadata": {},
     "output_type": "execute_result"
    }
   ],
   "source": [
    "np"
   ]
  },
  {
   "cell_type": "code",
   "execution_count": 110,
   "id": "f288bb8d",
   "metadata": {},
   "outputs": [
    {
     "data": {
      "text/plain": [
       "array([11, 75, 32, 48, 39, 54, 26, 98, 96, 39, 75, 34, 27, 21, 42, 99, 75,\n",
       "       25, 11, 24])"
      ]
     },
     "execution_count": 110,
     "metadata": {},
     "output_type": "execute_result"
    }
   ],
   "source": [
    "nm"
   ]
  },
  {
   "cell_type": "code",
   "execution_count": 111,
   "id": "69a58374",
   "metadata": {},
   "outputs": [],
   "source": [
    "nm.resize(5,4)"
   ]
  },
  {
   "cell_type": "code",
   "execution_count": 114,
   "id": "c51eda3d",
   "metadata": {},
   "outputs": [
    {
     "data": {
      "text/plain": [
       "array([[11, 75, 32, 48],\n",
       "       [39, 54, 26, 98],\n",
       "       [96, 39, 75, 34],\n",
       "       [27, 21, 42, 99],\n",
       "       [75, 25, 11, 24]])"
      ]
     },
     "execution_count": 114,
     "metadata": {},
     "output_type": "execute_result"
    }
   ],
   "source": [
    "nm"
   ]
  },
  {
   "cell_type": "code",
   "execution_count": 115,
   "id": "b35e5a35",
   "metadata": {},
   "outputs": [
    {
     "data": {
      "text/plain": [
       "34"
      ]
     },
     "execution_count": 115,
     "metadata": {},
     "output_type": "execute_result"
    }
   ],
   "source": [
    "nm[2,3]"
   ]
  },
  {
   "cell_type": "code",
   "execution_count": 116,
   "id": "3b2fbd8f",
   "metadata": {},
   "outputs": [
    {
     "data": {
      "text/plain": [
       "26"
      ]
     },
     "execution_count": 116,
     "metadata": {},
     "output_type": "execute_result"
    }
   ],
   "source": [
    "nm[1,2]"
   ]
  },
  {
   "cell_type": "code",
   "execution_count": 117,
   "id": "2dab5c7f",
   "metadata": {},
   "outputs": [
    {
     "data": {
      "text/plain": [
       "11"
      ]
     },
     "execution_count": 117,
     "metadata": {},
     "output_type": "execute_result"
    }
   ],
   "source": [
    "nm[4,2]"
   ]
  },
  {
   "cell_type": "code",
   "execution_count": 118,
   "id": "9723e7d2",
   "metadata": {},
   "outputs": [
    {
     "data": {
      "text/plain": [
       "array([54, 26, 98])"
      ]
     },
     "execution_count": 118,
     "metadata": {},
     "output_type": "execute_result"
    }
   ],
   "source": [
    "nm[1,1:] "
   ]
  },
  {
   "cell_type": "code",
   "execution_count": 120,
   "id": "42cb0ca3",
   "metadata": {},
   "outputs": [
    {
     "data": {
      "text/plain": [
       "array([54, 39, 21, 25])"
      ]
     },
     "execution_count": 120,
     "metadata": {},
     "output_type": "execute_result"
    }
   ],
   "source": [
    "nm[1:,1]"
   ]
  },
  {
   "cell_type": "code",
   "execution_count": 119,
   "id": "25aaa1ae",
   "metadata": {},
   "outputs": [
    {
     "data": {
      "text/plain": [
       "array([[54, 26, 98],\n",
       "       [39, 75, 34],\n",
       "       [21, 42, 99],\n",
       "       [25, 11, 24]])"
      ]
     },
     "execution_count": 119,
     "metadata": {},
     "output_type": "execute_result"
    }
   ],
   "source": [
    "nm[1:,1:]  ## slice the numpy-array"
   ]
  },
  {
   "cell_type": "code",
   "execution_count": null,
   "id": "9b888ed6",
   "metadata": {},
   "outputs": [],
   "source": [
    "## Numpy Braodcsting - never modifies the original numpy array"
   ]
  },
  {
   "cell_type": "code",
   "execution_count": 122,
   "id": "84f8a358",
   "metadata": {},
   "outputs": [
    {
     "data": {
      "text/plain": [
       "array([[11, 75, 32, 48],\n",
       "       [39, 54, 26, 98],\n",
       "       [96, 39, 75, 34],\n",
       "       [27, 21, 42, 99],\n",
       "       [75, 25, 11, 24]])"
      ]
     },
     "execution_count": 122,
     "metadata": {},
     "output_type": "execute_result"
    }
   ],
   "source": [
    "nm"
   ]
  },
  {
   "cell_type": "code",
   "execution_count": 123,
   "id": "d4026bb3",
   "metadata": {},
   "outputs": [
    {
     "data": {
      "text/plain": [
       "array([75, 98, 96, 75, 99, 75])"
      ]
     },
     "execution_count": 123,
     "metadata": {},
     "output_type": "execute_result"
    }
   ],
   "source": [
    "nm[nm>60]"
   ]
  },
  {
   "cell_type": "code",
   "execution_count": 124,
   "id": "7ac3a3d8",
   "metadata": {},
   "outputs": [
    {
     "data": {
      "text/plain": [
       "array([75, 32, 48, 39, 54, 26, 98, 96, 39, 75, 34, 27, 21, 42, 99, 75, 25,\n",
       "       24])"
      ]
     },
     "execution_count": 124,
     "metadata": {},
     "output_type": "execute_result"
    }
   ],
   "source": [
    "nm[nm>20]"
   ]
  },
  {
   "cell_type": "code",
   "execution_count": 125,
   "id": "415fcf9a",
   "metadata": {},
   "outputs": [
    {
     "data": {
      "text/plain": [
       "18"
      ]
     },
     "execution_count": 125,
     "metadata": {},
     "output_type": "execute_result"
    }
   ],
   "source": [
    "len(nm[nm>20])"
   ]
  },
  {
   "cell_type": "code",
   "execution_count": 126,
   "id": "57a02dde",
   "metadata": {},
   "outputs": [
    {
     "data": {
      "text/plain": [
       "7"
      ]
     },
     "execution_count": 126,
     "metadata": {},
     "output_type": "execute_result"
    }
   ],
   "source": [
    "len(nm[nm>50])"
   ]
  },
  {
   "cell_type": "code",
   "execution_count": 129,
   "id": "9932d4c3",
   "metadata": {},
   "outputs": [],
   "source": [
    "nm1 = nm[nm>50]"
   ]
  },
  {
   "cell_type": "code",
   "execution_count": 130,
   "id": "3dd625ef",
   "metadata": {},
   "outputs": [
    {
     "data": {
      "text/plain": [
       "array([75, 54, 98, 96, 75, 99, 75])"
      ]
     },
     "execution_count": 130,
     "metadata": {},
     "output_type": "execute_result"
    }
   ],
   "source": [
    "nm1"
   ]
  },
  {
   "cell_type": "code",
   "execution_count": 131,
   "id": "8f3bc92e",
   "metadata": {},
   "outputs": [
    {
     "data": {
      "text/plain": [
       "7"
      ]
     },
     "execution_count": 131,
     "metadata": {},
     "output_type": "execute_result"
    }
   ],
   "source": [
    "len(nm1)"
   ]
  },
  {
   "cell_type": "code",
   "execution_count": 127,
   "id": "1f1e5262",
   "metadata": {},
   "outputs": [
    {
     "data": {
      "text/plain": [
       "array([[75, 32],\n",
       "       [48, 39],\n",
       "       [54, 26],\n",
       "       [98, 96],\n",
       "       [39, 75],\n",
       "       [34, 27],\n",
       "       [21, 42],\n",
       "       [99, 75],\n",
       "       [25, 24]])"
      ]
     },
     "execution_count": 127,
     "metadata": {},
     "output_type": "execute_result"
    }
   ],
   "source": [
    "nm[nm>20].reshape(9,2)"
   ]
  },
  {
   "cell_type": "code",
   "execution_count": 128,
   "id": "1a68f661",
   "metadata": {},
   "outputs": [
    {
     "data": {
      "text/plain": [
       "array([[11, 75, 32, 48],\n",
       "       [39, 54, 26, 98],\n",
       "       [96, 39, 75, 34],\n",
       "       [27, 21, 42, 99],\n",
       "       [75, 25, 11, 24]])"
      ]
     },
     "execution_count": 128,
     "metadata": {},
     "output_type": "execute_result"
    }
   ],
   "source": [
    "nm"
   ]
  },
  {
   "cell_type": "code",
   "execution_count": 132,
   "id": "d8276392",
   "metadata": {},
   "outputs": [],
   "source": [
    "list_in_python = [10, 20.0 , \"Sachin Shelke\" , 5+4j]"
   ]
  },
  {
   "cell_type": "code",
   "execution_count": 135,
   "id": "936ae52b",
   "metadata": {},
   "outputs": [
    {
     "data": {
      "text/plain": [
       "list"
      ]
     },
     "execution_count": 135,
     "metadata": {},
     "output_type": "execute_result"
    }
   ],
   "source": [
    "type(list_in_python)"
   ]
  },
  {
   "cell_type": "code",
   "execution_count": 136,
   "id": "36c87bd6",
   "metadata": {},
   "outputs": [],
   "source": [
    "numpy_arrayy = np.array(list_in_python)"
   ]
  },
  {
   "cell_type": "code",
   "execution_count": 137,
   "id": "0b35ab2f",
   "metadata": {},
   "outputs": [
    {
     "data": {
      "text/plain": [
       "array(['10', '20.0', 'Sachin Shelke', '(5+4j)'], dtype='<U64')"
      ]
     },
     "execution_count": 137,
     "metadata": {},
     "output_type": "execute_result"
    }
   ],
   "source": [
    "numpy_arrayy"
   ]
  },
  {
   "cell_type": "code",
   "execution_count": 138,
   "id": "a76de101",
   "metadata": {},
   "outputs": [
    {
     "data": {
      "text/plain": [
       "numpy.ndarray"
      ]
     },
     "execution_count": 138,
     "metadata": {},
     "output_type": "execute_result"
    }
   ],
   "source": [
    "type(numpy_arrayy)"
   ]
  },
  {
   "cell_type": "code",
   "execution_count": 141,
   "id": "32e220a8",
   "metadata": {},
   "outputs": [],
   "source": [
    "numpy_arrayy1 = np.array(1)"
   ]
  },
  {
   "cell_type": "code",
   "execution_count": 140,
   "id": "1da0e3c2",
   "metadata": {},
   "outputs": [
    {
     "data": {
      "text/plain": [
       "list"
      ]
     },
     "execution_count": 140,
     "metadata": {},
     "output_type": "execute_result"
    }
   ],
   "source": [
    "type([1, \"Sachin Shelke\" , 10.5])"
   ]
  },
  {
   "cell_type": "code",
   "execution_count": 146,
   "id": "65db99c5",
   "metadata": {},
   "outputs": [],
   "source": [
    "numpy_arrayy1 = np.array(1)"
   ]
  },
  {
   "cell_type": "code",
   "execution_count": 143,
   "id": "e984d6c1",
   "metadata": {},
   "outputs": [
    {
     "data": {
      "text/plain": [
       "array(1)"
      ]
     },
     "execution_count": 143,
     "metadata": {},
     "output_type": "execute_result"
    }
   ],
   "source": [
    "numpy_arrayy1"
   ]
  },
  {
   "cell_type": "code",
   "execution_count": 144,
   "id": "89ce4792",
   "metadata": {},
   "outputs": [
    {
     "data": {
      "text/plain": [
       "int"
      ]
     },
     "execution_count": 144,
     "metadata": {},
     "output_type": "execute_result"
    }
   ],
   "source": [
    "type(1)"
   ]
  },
  {
   "cell_type": "code",
   "execution_count": null,
   "id": "8a862962",
   "metadata": {},
   "outputs": [],
   "source": []
  },
  {
   "cell_type": "code",
   "execution_count": 147,
   "id": "9f8c37f2",
   "metadata": {},
   "outputs": [],
   "source": [
    "from array import *"
   ]
  },
  {
   "cell_type": "code",
   "execution_count": null,
   "id": "f9b84a23",
   "metadata": {},
   "outputs": [],
   "source": [
    "Syntax:\n",
    "    \n",
    "arrayName = array(typecode, [initializers])\n",
    "\n"
   ]
  },
  {
   "cell_type": "code",
   "execution_count": 148,
   "id": "7609a74f",
   "metadata": {},
   "outputs": [],
   "source": [
    "import array as ar"
   ]
  },
  {
   "cell_type": "code",
   "execution_count": 149,
   "id": "ab7cdcd0",
   "metadata": {},
   "outputs": [],
   "source": [
    "arr_name = ar.array(\"i\" , [10,20 ,30 ,40 ,50])"
   ]
  },
  {
   "cell_type": "code",
   "execution_count": 150,
   "id": "5ab2e8ed",
   "metadata": {},
   "outputs": [
    {
     "data": {
      "text/plain": [
       "array('i', [10, 20, 30, 40, 50])"
      ]
     },
     "execution_count": 150,
     "metadata": {},
     "output_type": "execute_result"
    }
   ],
   "source": [
    "arr_name"
   ]
  },
  {
   "cell_type": "code",
   "execution_count": 151,
   "id": "b8609c50",
   "metadata": {},
   "outputs": [
    {
     "data": {
      "text/plain": [
       "array.array"
      ]
     },
     "execution_count": 151,
     "metadata": {},
     "output_type": "execute_result"
    }
   ],
   "source": [
    "type(arr_name)"
   ]
  },
  {
   "cell_type": "code",
   "execution_count": 152,
   "id": "7d539533",
   "metadata": {},
   "outputs": [
    {
     "data": {
      "text/plain": [
       "10"
      ]
     },
     "execution_count": 152,
     "metadata": {},
     "output_type": "execute_result"
    }
   ],
   "source": [
    "arr_name[0]"
   ]
  },
  {
   "cell_type": "code",
   "execution_count": 153,
   "id": "a1ea559b",
   "metadata": {},
   "outputs": [
    {
     "data": {
      "text/plain": [
       "40"
      ]
     },
     "execution_count": 153,
     "metadata": {},
     "output_type": "execute_result"
    }
   ],
   "source": [
    "arr_name[3]"
   ]
  },
  {
   "cell_type": "code",
   "execution_count": 154,
   "id": "95f140be",
   "metadata": {},
   "outputs": [
    {
     "ename": "TypeError",
     "evalue": "an integer is required (got type str)",
     "output_type": "error",
     "traceback": [
      "\u001b[1;31m---------------------------------------------------------------------------\u001b[0m",
      "\u001b[1;31mTypeError\u001b[0m                                 Traceback (most recent call last)",
      "Input \u001b[1;32mIn [154]\u001b[0m, in \u001b[0;36m<cell line: 1>\u001b[1;34m()\u001b[0m\n\u001b[1;32m----> 1\u001b[0m \u001b[43marray\u001b[49m\u001b[43m(\u001b[49m\u001b[38;5;124;43m'\u001b[39;49m\u001b[38;5;124;43mi\u001b[39;49m\u001b[38;5;124;43m'\u001b[39;49m\u001b[43m,\u001b[49m\u001b[43m \u001b[49m\u001b[43m[\u001b[49m\u001b[38;5;241;43m10\u001b[39;49m\u001b[43m,\u001b[49m\u001b[43m \u001b[49m\u001b[38;5;124;43m\"\u001b[39;49m\u001b[38;5;124;43mSachin Shelke\u001b[39;49m\u001b[38;5;124;43m\"\u001b[39;49m\u001b[43m,\u001b[49m\u001b[43m \u001b[49m\u001b[38;5;241;43m30\u001b[39;49m\u001b[43m,\u001b[49m\u001b[43m \u001b[49m\u001b[38;5;241;43m40.0\u001b[39;49m\u001b[43m,\u001b[49m\u001b[43m \u001b[49m\u001b[38;5;241;43m1\u001b[39;49m\u001b[38;5;241;43m+\u001b[39;49m\u001b[38;5;241;43m5\u001b[39;49m\u001b[43mj\u001b[49m\u001b[43m]\u001b[49m\u001b[43m)\u001b[49m\n",
      "\u001b[1;31mTypeError\u001b[0m: an integer is required (got type str)"
     ]
    }
   ],
   "source": [
    "array('i', [10, \"Sachin Shelke\", 30, 40.0, 1+5j])"
   ]
  },
  {
   "cell_type": "markdown",
   "id": "9cc35547",
   "metadata": {},
   "source": [
    "That's why we call Array as Homogenous"
   ]
  },
  {
   "cell_type": "code",
   "execution_count": null,
   "id": "42ad57d6",
   "metadata": {},
   "outputs": [],
   "source": [
    "Pandas - On Sunday"
   ]
  }
 ],
 "metadata": {
  "kernelspec": {
   "display_name": "Python 3 (ipykernel)",
   "language": "python",
   "name": "python3"
  },
  "language_info": {
   "codemirror_mode": {
    "name": "ipython",
    "version": 3
   },
   "file_extension": ".py",
   "mimetype": "text/x-python",
   "name": "python",
   "nbconvert_exporter": "python",
   "pygments_lexer": "ipython3",
   "version": "3.9.12"
  }
 },
 "nbformat": 4,
 "nbformat_minor": 5
}
