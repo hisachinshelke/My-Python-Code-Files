{
 "cells": [
  {
   "cell_type": "markdown",
   "id": "e4254466",
   "metadata": {},
   "source": [
    "NumPy"
   ]
  },
  {
   "cell_type": "markdown",
   "id": "d3166c4b",
   "metadata": {},
   "source": [
    "NumPy - Numerical Python"
   ]
  },
  {
   "cell_type": "markdown",
   "id": "a5f2a5b5",
   "metadata": {},
   "source": [
    "NumPy is used for scientific computing with python. This can work on N-Dimensional arrays more efficiently.\n"
   ]
  },
  {
   "cell_type": "markdown",
   "id": "63cda5a8",
   "metadata": {},
   "source": [
    "list_1 = [1,2,3,4,5....]"
   ]
  },
  {
   "cell_type": "markdown",
   "id": "c1ced1f0",
   "metadata": {},
   "source": [
    "Array - It is a collection of items stored in a specific memory locations."
   ]
  },
  {
   "cell_type": "markdown",
   "id": "8c23ddf7",
   "metadata": {},
   "source": [
    "Libraries in Python - Some extension added to python to make it more efficient."
   ]
  },
  {
   "cell_type": "code",
   "execution_count": null,
   "id": "a7921f13",
   "metadata": {},
   "outputs": [],
   "source": [
    "How it install any library in Python?\n",
    "Synatx:\n",
    "\n",
    "!pip install <library name>"
   ]
  },
  {
   "cell_type": "code",
   "execution_count": null,
   "id": "3233c009",
   "metadata": {},
   "outputs": [],
   "source": [
    "!pip install numpy"
   ]
  },
  {
   "cell_type": "code",
   "execution_count": null,
   "id": "98033c72",
   "metadata": {
    "collapsed": true
   },
   "outputs": [],
   "source": [
    "How to import library?\n",
    "\n",
    "import <library name> as \n",
    "\n",
    "also, use alias\n",
    "\n",
    "import numpy as np"
   ]
  },
  {
   "cell_type": "code",
   "execution_count": 1,
   "id": "a7c4ef98",
   "metadata": {},
   "outputs": [],
   "source": [
    "myList = [1,2,3]"
   ]
  },
  {
   "cell_type": "code",
   "execution_count": 4,
   "id": "a2ad3a3d",
   "metadata": {},
   "outputs": [
    {
     "data": {
      "text/plain": [
       "list"
      ]
     },
     "execution_count": 4,
     "metadata": {},
     "output_type": "execute_result"
    }
   ],
   "source": [
    "type(myList)"
   ]
  },
  {
   "cell_type": "code",
   "execution_count": null,
   "id": "f25abc8d",
   "metadata": {},
   "outputs": [],
   "source": [
    "## converting list into numpy array"
   ]
  },
  {
   "cell_type": "code",
   "execution_count": 3,
   "id": "1d3c38df",
   "metadata": {},
   "outputs": [],
   "source": [
    "import numpy as np"
   ]
  },
  {
   "cell_type": "code",
   "execution_count": 4,
   "id": "bb80d282",
   "metadata": {},
   "outputs": [],
   "source": [
    "n = np.array(myList)"
   ]
  },
  {
   "cell_type": "code",
   "execution_count": null,
   "id": "0a64af9a",
   "metadata": {},
   "outputs": [],
   "source": [
    "n."
   ]
  },
  {
   "cell_type": "code",
   "execution_count": 7,
   "id": "384bd98c",
   "metadata": {},
   "outputs": [
    {
     "name": "stdout",
     "output_type": "stream",
     "text": [
      "[1 2 3]\n"
     ]
    }
   ],
   "source": [
    "print(n)"
   ]
  },
  {
   "cell_type": "code",
   "execution_count": 9,
   "id": "06e7a9eb",
   "metadata": {},
   "outputs": [
    {
     "data": {
      "text/plain": [
       "numpy.ndarray"
      ]
     },
     "execution_count": 9,
     "metadata": {},
     "output_type": "execute_result"
    }
   ],
   "source": [
    "type(n)"
   ]
  },
  {
   "cell_type": "code",
   "execution_count": 10,
   "id": "9817b0df",
   "metadata": {},
   "outputs": [],
   "source": [
    "myList2 = np.array(myList)"
   ]
  },
  {
   "cell_type": "code",
   "execution_count": 11,
   "id": "dd3f0537",
   "metadata": {},
   "outputs": [
    {
     "name": "stdout",
     "output_type": "stream",
     "text": [
      "[1 2 3]\n"
     ]
    }
   ],
   "source": [
    "print(myList2)"
   ]
  },
  {
   "cell_type": "code",
   "execution_count": 12,
   "id": "f8b244ad",
   "metadata": {},
   "outputs": [
    {
     "data": {
      "text/plain": [
       "numpy.ndarray"
      ]
     },
     "execution_count": 12,
     "metadata": {},
     "output_type": "execute_result"
    }
   ],
   "source": [
    "type(myList2)"
   ]
  },
  {
   "cell_type": "code",
   "execution_count": 13,
   "id": "b1e5740a",
   "metadata": {},
   "outputs": [
    {
     "data": {
      "text/plain": [
       "list"
      ]
     },
     "execution_count": 13,
     "metadata": {},
     "output_type": "execute_result"
    }
   ],
   "source": [
    "type(myList)"
   ]
  },
  {
   "cell_type": "code",
   "execution_count": 14,
   "id": "5032bb82",
   "metadata": {},
   "outputs": [],
   "source": [
    "myList = np.array(myList)"
   ]
  },
  {
   "cell_type": "code",
   "execution_count": 15,
   "id": "ddbbd448",
   "metadata": {},
   "outputs": [
    {
     "data": {
      "text/plain": [
       "numpy.ndarray"
      ]
     },
     "execution_count": 15,
     "metadata": {},
     "output_type": "execute_result"
    }
   ],
   "source": [
    "type(myList)"
   ]
  },
  {
   "cell_type": "code",
   "execution_count": 16,
   "id": "a50e3157",
   "metadata": {},
   "outputs": [],
   "source": [
    "## Creating multi-Dimensional Array"
   ]
  },
  {
   "cell_type": "code",
   "execution_count": 17,
   "id": "7167ff31",
   "metadata": {},
   "outputs": [],
   "source": [
    "list_of_lists = np.array([[1,2,3],[4,5,6],[7,8,9]])"
   ]
  },
  {
   "cell_type": "code",
   "execution_count": 18,
   "id": "85084ac1",
   "metadata": {},
   "outputs": [
    {
     "name": "stdout",
     "output_type": "stream",
     "text": [
      "[[1 2 3]\n",
      " [4 5 6]\n",
      " [7 8 9]]\n"
     ]
    }
   ],
   "source": [
    "print(list_of_lists)"
   ]
  },
  {
   "cell_type": "code",
   "execution_count": 19,
   "id": "b63860f9",
   "metadata": {},
   "outputs": [
    {
     "data": {
      "text/plain": [
       "numpy.ndarray"
      ]
     },
     "execution_count": 19,
     "metadata": {},
     "output_type": "execute_result"
    }
   ],
   "source": [
    "type(list_of_lists)"
   ]
  },
  {
   "cell_type": "code",
   "execution_count": 20,
   "id": "303fde3e",
   "metadata": {},
   "outputs": [],
   "source": [
    "## Numpy Functions"
   ]
  },
  {
   "cell_type": "code",
   "execution_count": 21,
   "id": "0523a72d",
   "metadata": {},
   "outputs": [],
   "source": [
    "# Arrange Function"
   ]
  },
  {
   "cell_type": "code",
   "execution_count": 24,
   "id": "37a77cce",
   "metadata": {},
   "outputs": [
    {
     "data": {
      "text/plain": [
       "range(1, 10)"
      ]
     },
     "execution_count": 24,
     "metadata": {},
     "output_type": "execute_result"
    }
   ],
   "source": [
    "range(1,10)"
   ]
  },
  {
   "cell_type": "code",
   "execution_count": 22,
   "id": "ba6355bd",
   "metadata": {},
   "outputs": [
    {
     "data": {
      "text/plain": [
       "array([0, 1, 2, 3, 4, 5, 6, 7, 8, 9])"
      ]
     },
     "execution_count": 22,
     "metadata": {},
     "output_type": "execute_result"
    }
   ],
   "source": [
    "np.arange(0,10)"
   ]
  },
  {
   "cell_type": "code",
   "execution_count": 26,
   "id": "b5710e4b",
   "metadata": {},
   "outputs": [
    {
     "name": "stdout",
     "output_type": "stream",
     "text": [
      "0\n",
      "1\n",
      "2\n",
      "3\n",
      "4\n",
      "5\n",
      "6\n",
      "7\n",
      "8\n",
      "9\n"
     ]
    }
   ],
   "source": [
    "for x in range(0,10):\n",
    "    print(x)"
   ]
  },
  {
   "cell_type": "code",
   "execution_count": 27,
   "id": "0ac10e06",
   "metadata": {},
   "outputs": [
    {
     "data": {
      "text/plain": [
       "array([0, 1, 2, 3, 4, 5, 6, 7, 8, 9])"
      ]
     },
     "execution_count": 27,
     "metadata": {},
     "output_type": "execute_result"
    }
   ],
   "source": [
    "np.arange(0,10)"
   ]
  },
  {
   "cell_type": "markdown",
   "id": "08c3785a",
   "metadata": {},
   "source": [
    "Numpy Arange is similar to Python range but is more efficient - faster"
   ]
  },
  {
   "cell_type": "code",
   "execution_count": 28,
   "id": "d2aa8521",
   "metadata": {},
   "outputs": [
    {
     "data": {
      "text/plain": [
       "array([0, 2, 4, 6, 8])"
      ]
     },
     "execution_count": 28,
     "metadata": {},
     "output_type": "execute_result"
    }
   ],
   "source": [
    "np.arange(0,10,2)"
   ]
  },
  {
   "cell_type": "code",
   "execution_count": 29,
   "id": "152189eb",
   "metadata": {},
   "outputs": [
    {
     "name": "stdout",
     "output_type": "stream",
     "text": [
      "0\n",
      "2\n",
      "4\n",
      "6\n",
      "8\n"
     ]
    }
   ],
   "source": [
    "for x in range(0,10,2):\n",
    "    print(x)"
   ]
  },
  {
   "cell_type": "code",
   "execution_count": 32,
   "id": "a6f4c52d",
   "metadata": {},
   "outputs": [],
   "source": [
    "## Numpy Zeros"
   ]
  },
  {
   "cell_type": "code",
   "execution_count": null,
   "id": "dd6de6cf",
   "metadata": {},
   "outputs": [],
   "source": [
    "list_of_lists1 = np.array([[1,2,3],[4,5],[7,8,9]])"
   ]
  },
  {
   "cell_type": "code",
   "execution_count": 36,
   "id": "a2aa26a6",
   "metadata": {},
   "outputs": [],
   "source": [
    "zeros = np.zeros(100)  # 1 x 100 matrix or 1D array"
   ]
  },
  {
   "cell_type": "code",
   "execution_count": 37,
   "id": "ac0723a7",
   "metadata": {},
   "outputs": [
    {
     "name": "stdout",
     "output_type": "stream",
     "text": [
      "[0. 0. 0. 0. 0. 0. 0. 0. 0. 0. 0. 0. 0. 0. 0. 0. 0. 0. 0. 0. 0. 0. 0. 0.\n",
      " 0. 0. 0. 0. 0. 0. 0. 0. 0. 0. 0. 0. 0. 0. 0. 0. 0. 0. 0. 0. 0. 0. 0. 0.\n",
      " 0. 0. 0. 0. 0. 0. 0. 0. 0. 0. 0. 0. 0. 0. 0. 0. 0. 0. 0. 0. 0. 0. 0. 0.\n",
      " 0. 0. 0. 0. 0. 0. 0. 0. 0. 0. 0. 0. 0. 0. 0. 0. 0. 0. 0. 0. 0. 0. 0. 0.\n",
      " 0. 0. 0. 0.]\n"
     ]
    }
   ],
   "source": [
    "print(zeros)"
   ]
  },
  {
   "cell_type": "code",
   "execution_count": 38,
   "id": "2e7ffd95",
   "metadata": {},
   "outputs": [],
   "source": [
    "## Numpy Ones"
   ]
  },
  {
   "cell_type": "code",
   "execution_count": 39,
   "id": "ba79b6e5",
   "metadata": {},
   "outputs": [],
   "source": [
    "ones = np.ones(100)"
   ]
  },
  {
   "cell_type": "code",
   "execution_count": 40,
   "id": "98f35604",
   "metadata": {},
   "outputs": [
    {
     "name": "stdout",
     "output_type": "stream",
     "text": [
      "[1. 1. 1. 1. 1. 1. 1. 1. 1. 1. 1. 1. 1. 1. 1. 1. 1. 1. 1. 1. 1. 1. 1. 1.\n",
      " 1. 1. 1. 1. 1. 1. 1. 1. 1. 1. 1. 1. 1. 1. 1. 1. 1. 1. 1. 1. 1. 1. 1. 1.\n",
      " 1. 1. 1. 1. 1. 1. 1. 1. 1. 1. 1. 1. 1. 1. 1. 1. 1. 1. 1. 1. 1. 1. 1. 1.\n",
      " 1. 1. 1. 1. 1. 1. 1. 1. 1. 1. 1. 1. 1. 1. 1. 1. 1. 1. 1. 1. 1. 1. 1. 1.\n",
      " 1. 1. 1. 1.]\n"
     ]
    }
   ],
   "source": [
    "print(ones)"
   ]
  },
  {
   "cell_type": "code",
   "execution_count": 3,
   "id": "4965afb7",
   "metadata": {},
   "outputs": [],
   "source": [
    "onez = np.ones((3,3))  ## 3 x 3 matrix - 3D array"
   ]
  },
  {
   "cell_type": "code",
   "execution_count": 4,
   "id": "1d03da95",
   "metadata": {},
   "outputs": [
    {
     "name": "stdout",
     "output_type": "stream",
     "text": [
      "[[1. 1. 1.]\n",
      " [1. 1. 1.]\n",
      " [1. 1. 1.]]\n"
     ]
    }
   ],
   "source": [
    "print(onez)"
   ]
  },
  {
   "cell_type": "code",
   "execution_count": 5,
   "id": "a8b03367",
   "metadata": {},
   "outputs": [],
   "source": [
    "zeroz = np.zeros((5,5))"
   ]
  },
  {
   "cell_type": "code",
   "execution_count": 6,
   "id": "26ad10cc",
   "metadata": {},
   "outputs": [
    {
     "name": "stdout",
     "output_type": "stream",
     "text": [
      "[[0. 0. 0. 0. 0.]\n",
      " [0. 0. 0. 0. 0.]\n",
      " [0. 0. 0. 0. 0.]\n",
      " [0. 0. 0. 0. 0.]\n",
      " [0. 0. 0. 0. 0.]]\n"
     ]
    }
   ],
   "source": [
    "print(zeroz)  ## 5 x 5 matrix or 5D array"
   ]
  },
  {
   "cell_type": "code",
   "execution_count": 7,
   "id": "0fa19c13",
   "metadata": {},
   "outputs": [
    {
     "data": {
      "text/plain": [
       "numpy.ndarray"
      ]
     },
     "execution_count": 7,
     "metadata": {},
     "output_type": "execute_result"
    }
   ],
   "source": [
    "type(onez)"
   ]
  },
  {
   "cell_type": "code",
   "execution_count": 9,
   "id": "85d710f3",
   "metadata": {},
   "outputs": [],
   "source": [
    "## Numpy eye - Identity matrix"
   ]
  },
  {
   "cell_type": "code",
   "execution_count": 13,
   "id": "004a4642",
   "metadata": {},
   "outputs": [],
   "source": [
    "diag_ones = np.eye(5)"
   ]
  },
  {
   "cell_type": "code",
   "execution_count": 14,
   "id": "27fab0b4",
   "metadata": {},
   "outputs": [
    {
     "name": "stdout",
     "output_type": "stream",
     "text": [
      "[[1. 0. 0. 0. 0.]\n",
      " [0. 1. 0. 0. 0.]\n",
      " [0. 0. 1. 0. 0.]\n",
      " [0. 0. 0. 1. 0.]\n",
      " [0. 0. 0. 0. 1.]]\n"
     ]
    }
   ],
   "source": [
    "print(diag_ones)"
   ]
  },
  {
   "cell_type": "code",
   "execution_count": 15,
   "id": "8bb1f403",
   "metadata": {},
   "outputs": [],
   "source": [
    "## Length of numpy array - it returns no of columns in matrix"
   ]
  },
  {
   "cell_type": "code",
   "execution_count": 16,
   "id": "6011d1da",
   "metadata": {},
   "outputs": [
    {
     "data": {
      "text/plain": [
       "5"
      ]
     },
     "execution_count": 16,
     "metadata": {},
     "output_type": "execute_result"
    }
   ],
   "source": [
    "len(diag_ones)"
   ]
  },
  {
   "cell_type": "code",
   "execution_count": 17,
   "id": "6e107aac",
   "metadata": {},
   "outputs": [
    {
     "data": {
      "text/plain": [
       "3"
      ]
     },
     "execution_count": 17,
     "metadata": {},
     "output_type": "execute_result"
    }
   ],
   "source": [
    "len(onez)"
   ]
  },
  {
   "cell_type": "code",
   "execution_count": 18,
   "id": "160e9cfa",
   "metadata": {},
   "outputs": [
    {
     "data": {
      "text/plain": [
       "5"
      ]
     },
     "execution_count": 18,
     "metadata": {},
     "output_type": "execute_result"
    }
   ],
   "source": [
    "len(zeroz)"
   ]
  },
  {
   "cell_type": "code",
   "execution_count": 19,
   "id": "701e5ada",
   "metadata": {},
   "outputs": [],
   "source": [
    "a = np.arange(10)"
   ]
  },
  {
   "cell_type": "code",
   "execution_count": 20,
   "id": "bd044465",
   "metadata": {},
   "outputs": [
    {
     "name": "stdout",
     "output_type": "stream",
     "text": [
      "[0 1 2 3 4 5 6 7 8 9]\n"
     ]
    }
   ],
   "source": [
    "print(a)"
   ]
  },
  {
   "cell_type": "code",
   "execution_count": 21,
   "id": "76d8501a",
   "metadata": {},
   "outputs": [
    {
     "data": {
      "text/plain": [
       "10"
      ]
     },
     "execution_count": 21,
     "metadata": {},
     "output_type": "execute_result"
    }
   ],
   "source": [
    "len(a)  ## in 1-D array it return no of elements "
   ]
  },
  {
   "cell_type": "code",
   "execution_count": null,
   "id": "2217d0e6",
   "metadata": {},
   "outputs": [],
   "source": [
    "Numpy Array - Homogenous Type\n",
    "Python List,Tuple,Dictionary - Heterogenous Type"
   ]
  },
  {
   "cell_type": "code",
   "execution_count": 5,
   "id": "7ee2e79d",
   "metadata": {},
   "outputs": [],
   "source": [
    "## Numpy Reshape"
   ]
  },
  {
   "cell_type": "code",
   "execution_count": null,
   "id": "cf769cf3",
   "metadata": {},
   "outputs": [],
   "source": [
    "Reshape allows arrays tobe shaped into defnied rows and columns"
   ]
  },
  {
   "cell_type": "code",
   "execution_count": 6,
   "id": "31382d19",
   "metadata": {},
   "outputs": [],
   "source": [
    "nm = [1,2,3,4,5,6,7,8,9,10]"
   ]
  },
  {
   "cell_type": "code",
   "execution_count": 7,
   "id": "695a41f6",
   "metadata": {},
   "outputs": [],
   "source": [
    "nm = np.array(nm)"
   ]
  },
  {
   "cell_type": "code",
   "execution_count": 8,
   "id": "4860e0fe",
   "metadata": {},
   "outputs": [
    {
     "name": "stdout",
     "output_type": "stream",
     "text": [
      "[ 1  2  3  4  5  6  7  8  9 10]\n"
     ]
    }
   ],
   "source": [
    "print(nm)  ## 1x10 matrix"
   ]
  },
  {
   "cell_type": "code",
   "execution_count": 9,
   "id": "556de348",
   "metadata": {},
   "outputs": [
    {
     "data": {
      "text/plain": [
       "numpy.ndarray"
      ]
     },
     "execution_count": 9,
     "metadata": {},
     "output_type": "execute_result"
    }
   ],
   "source": [
    "type(nm)"
   ]
  },
  {
   "cell_type": "code",
   "execution_count": 10,
   "id": "08d02ac2",
   "metadata": {},
   "outputs": [
    {
     "data": {
      "text/plain": [
       "10"
      ]
     },
     "execution_count": 10,
     "metadata": {},
     "output_type": "execute_result"
    }
   ],
   "source": [
    "len(nm)"
   ]
  },
  {
   "cell_type": "code",
   "execution_count": 11,
   "id": "a8bf0660",
   "metadata": {},
   "outputs": [
    {
     "data": {
      "text/plain": [
       "array([[ 1,  2],\n",
       "       [ 3,  4],\n",
       "       [ 5,  6],\n",
       "       [ 7,  8],\n",
       "       [ 9, 10]])"
      ]
     },
     "execution_count": 11,
     "metadata": {},
     "output_type": "execute_result"
    }
   ],
   "source": [
    "nm.reshape(5,2)  ## converting 1D matrix into 5x2 matrix"
   ]
  },
  {
   "cell_type": "code",
   "execution_count": 12,
   "id": "60685e28",
   "metadata": {},
   "outputs": [
    {
     "data": {
      "text/plain": [
       "array([ 1,  2,  3,  4,  5,  6,  7,  8,  9, 10])"
      ]
     },
     "execution_count": 12,
     "metadata": {},
     "output_type": "execute_result"
    }
   ],
   "source": [
    "nm"
   ]
  },
  {
   "cell_type": "code",
   "execution_count": null,
   "id": "09c85170",
   "metadata": {},
   "outputs": [],
   "source": [
    "## Reshape function never modifies the original Value"
   ]
  },
  {
   "cell_type": "code",
   "execution_count": null,
   "id": "6a803404",
   "metadata": {},
   "outputs": [],
   "source": [
    "## rows x columns = size of array"
   ]
  },
  {
   "cell_type": "code",
   "execution_count": 13,
   "id": "d1b238b8",
   "metadata": {},
   "outputs": [
    {
     "ename": "ValueError",
     "evalue": "cannot reshape array of size 10 into shape (4,2)",
     "output_type": "error",
     "traceback": [
      "\u001b[1;31m---------------------------------------------------------------------------\u001b[0m",
      "\u001b[1;31mValueError\u001b[0m                                Traceback (most recent call last)",
      "Input \u001b[1;32mIn [13]\u001b[0m, in \u001b[0;36m<cell line: 1>\u001b[1;34m()\u001b[0m\n\u001b[1;32m----> 1\u001b[0m \u001b[43mnm\u001b[49m\u001b[38;5;241;43m.\u001b[39;49m\u001b[43mreshape\u001b[49m\u001b[43m(\u001b[49m\u001b[38;5;241;43m4\u001b[39;49m\u001b[43m,\u001b[49m\u001b[38;5;241;43m2\u001b[39;49m\u001b[43m)\u001b[49m\n",
      "\u001b[1;31mValueError\u001b[0m: cannot reshape array of size 10 into shape (4,2)"
     ]
    }
   ],
   "source": [
    "nm.reshape(4,2) "
   ]
  },
  {
   "cell_type": "code",
   "execution_count": 14,
   "id": "ce31bf6b",
   "metadata": {},
   "outputs": [],
   "source": [
    "## Numpy Linespace"
   ]
  },
  {
   "cell_type": "markdown",
   "id": "637ab167",
   "metadata": {},
   "source": [
    "Numpy Linespace returns evenly spaced values in float format"
   ]
  },
  {
   "cell_type": "code",
   "execution_count": 20,
   "id": "748ca9ec",
   "metadata": {},
   "outputs": [],
   "source": [
    "val_1 = np.linspace(0,7,10)"
   ]
  },
  {
   "cell_type": "code",
   "execution_count": 21,
   "id": "4ae53202",
   "metadata": {},
   "outputs": [
    {
     "name": "stdout",
     "output_type": "stream",
     "text": [
      "[0.         0.77777778 1.55555556 2.33333333 3.11111111 3.88888889\n",
      " 4.66666667 5.44444444 6.22222222 7.        ]\n"
     ]
    }
   ],
   "source": [
    "print(val_1)"
   ]
  },
  {
   "cell_type": "code",
   "execution_count": 22,
   "id": "f3342759",
   "metadata": {},
   "outputs": [
    {
     "data": {
      "text/plain": [
       "array([0.        , 0.77777778, 1.55555556, 2.33333333, 3.11111111,\n",
       "       3.88888889, 4.66666667, 5.44444444, 6.22222222, 7.        ])"
      ]
     },
     "execution_count": 22,
     "metadata": {},
     "output_type": "execute_result"
    }
   ],
   "source": [
    "np.linspace(0,7,10)"
   ]
  },
  {
   "cell_type": "code",
   "execution_count": 23,
   "id": "4270547d",
   "metadata": {},
   "outputs": [],
   "source": [
    "## Numpy Resize"
   ]
  },
  {
   "cell_type": "code",
   "execution_count": 24,
   "id": "b56b5094",
   "metadata": {},
   "outputs": [
    {
     "data": {
      "text/plain": [
       "numpy.ndarray"
      ]
     },
     "execution_count": 24,
     "metadata": {},
     "output_type": "execute_result"
    }
   ],
   "source": [
    "type(nm)"
   ]
  },
  {
   "cell_type": "code",
   "execution_count": 25,
   "id": "f6a87e41",
   "metadata": {},
   "outputs": [
    {
     "data": {
      "text/plain": [
       "array([ 1,  2,  3,  4,  5,  6,  7,  8,  9, 10])"
      ]
     },
     "execution_count": 25,
     "metadata": {},
     "output_type": "execute_result"
    }
   ],
   "source": [
    "nm"
   ]
  },
  {
   "cell_type": "code",
   "execution_count": 26,
   "id": "82bcb066",
   "metadata": {},
   "outputs": [],
   "source": [
    "nm.resize(5,2)"
   ]
  },
  {
   "cell_type": "code",
   "execution_count": 27,
   "id": "1c94aac4",
   "metadata": {},
   "outputs": [
    {
     "data": {
      "text/plain": [
       "array([[ 1,  2],\n",
       "       [ 3,  4],\n",
       "       [ 5,  6],\n",
       "       [ 7,  8],\n",
       "       [ 9, 10]])"
      ]
     },
     "execution_count": 27,
     "metadata": {},
     "output_type": "execute_result"
    }
   ],
   "source": [
    "nm"
   ]
  },
  {
   "cell_type": "code",
   "execution_count": null,
   "id": "0090fd3d",
   "metadata": {},
   "outputs": [],
   "source": [
    "## Numpy resize modifies the original value"
   ]
  },
  {
   "cell_type": "code",
   "execution_count": 32,
   "id": "5e60e53f",
   "metadata": {},
   "outputs": [],
   "source": [
    "num_1 = [10,20,30,40,50,60,70,80,90,100]"
   ]
  },
  {
   "cell_type": "code",
   "execution_count": 33,
   "id": "e26bb5c8",
   "metadata": {},
   "outputs": [],
   "source": [
    "num_1 = np.array(num_1)"
   ]
  },
  {
   "cell_type": "code",
   "execution_count": 34,
   "id": "3f0a039d",
   "metadata": {},
   "outputs": [
    {
     "data": {
      "text/plain": [
       "array([ 10,  20,  30,  40,  50,  60,  70,  80,  90, 100])"
      ]
     },
     "execution_count": 34,
     "metadata": {},
     "output_type": "execute_result"
    }
   ],
   "source": [
    "num_1"
   ]
  },
  {
   "cell_type": "code",
   "execution_count": 35,
   "id": "c15a523f",
   "metadata": {},
   "outputs": [
    {
     "data": {
      "text/plain": [
       "array([[ 10,  20],\n",
       "       [ 30,  40],\n",
       "       [ 50,  60],\n",
       "       [ 70,  80],\n",
       "       [ 90, 100]])"
      ]
     },
     "execution_count": 35,
     "metadata": {},
     "output_type": "execute_result"
    }
   ],
   "source": [
    "num_1.reshape(5,2)"
   ]
  },
  {
   "cell_type": "code",
   "execution_count": 36,
   "id": "b859e8ce",
   "metadata": {},
   "outputs": [
    {
     "data": {
      "text/plain": [
       "array([ 10,  20,  30,  40,  50,  60,  70,  80,  90, 100])"
      ]
     },
     "execution_count": 36,
     "metadata": {},
     "output_type": "execute_result"
    }
   ],
   "source": [
    "num_1"
   ]
  },
  {
   "cell_type": "code",
   "execution_count": 37,
   "id": "2ee7d919",
   "metadata": {},
   "outputs": [],
   "source": [
    "num_1.resize(5,2)"
   ]
  },
  {
   "cell_type": "code",
   "execution_count": 38,
   "id": "18914c84",
   "metadata": {},
   "outputs": [
    {
     "data": {
      "text/plain": [
       "array([[ 10,  20],\n",
       "       [ 30,  40],\n",
       "       [ 50,  60],\n",
       "       [ 70,  80],\n",
       "       [ 90, 100]])"
      ]
     },
     "execution_count": 38,
     "metadata": {},
     "output_type": "execute_result"
    }
   ],
   "source": [
    "num_1"
   ]
  },
  {
   "cell_type": "code",
   "execution_count": 39,
   "id": "fd66a8df",
   "metadata": {},
   "outputs": [],
   "source": [
    "## Generating Random number"
   ]
  },
  {
   "cell_type": "code",
   "execution_count": 42,
   "id": "ad2eca93",
   "metadata": {},
   "outputs": [
    {
     "data": {
      "text/plain": [
       "array([[0.7882784 , 0.72405422],\n",
       "       [0.95376094, 0.64424186],\n",
       "       [0.6139861 , 0.69559912]])"
      ]
     },
     "execution_count": 42,
     "metadata": {},
     "output_type": "execute_result"
    }
   ],
   "source": [
    "np.random.rand(3,2) ## creates an array of given size with random values between 0 and 1"
   ]
  },
  {
   "cell_type": "code",
   "execution_count": 43,
   "id": "1996f9e4",
   "metadata": {},
   "outputs": [
    {
     "data": {
      "text/plain": [
       "array([[0.96219364, 0.83293863],\n",
       "       [0.35484907, 0.27780158],\n",
       "       [0.95236621, 0.50083236]])"
      ]
     },
     "execution_count": 43,
     "metadata": {},
     "output_type": "execute_result"
    }
   ],
   "source": [
    "np.random.rand(3,2)"
   ]
  },
  {
   "cell_type": "code",
   "execution_count": 44,
   "id": "96a5dda7",
   "metadata": {},
   "outputs": [
    {
     "data": {
      "text/plain": [
       "array([[0.58565598, 0.8354342 ],\n",
       "       [0.55622054, 0.48415047],\n",
       "       [0.87541032, 0.26041206]])"
      ]
     },
     "execution_count": 44,
     "metadata": {},
     "output_type": "execute_result"
    }
   ],
   "source": [
    "np.random.rand(3,2)"
   ]
  },
  {
   "cell_type": "code",
   "execution_count": 46,
   "id": "0039913c",
   "metadata": {},
   "outputs": [
    {
     "data": {
      "text/plain": [
       "array([[ 0.71702228, -0.18038252,  1.01235101],\n",
       "       [-0.23076578,  0.64117327, -0.9164987 ],\n",
       "       [-0.6332299 , -1.14967772, -0.08239956]])"
      ]
     },
     "execution_count": 46,
     "metadata": {},
     "output_type": "execute_result"
    }
   ],
   "source": [
    "np.random.randn(3,3)  ## used values from standard normal distribution graph"
   ]
  },
  {
   "cell_type": "code",
   "execution_count": 47,
   "id": "ae0307c3",
   "metadata": {},
   "outputs": [
    {
     "data": {
      "text/plain": [
       "array([ 6,  5,  9,  7,  6, 10,  4,  4,  9,  4])"
      ]
     },
     "execution_count": 47,
     "metadata": {},
     "output_type": "execute_result"
    }
   ],
   "source": [
    "np.random.randint(4,15,10)"
   ]
  },
  {
   "cell_type": "code",
   "execution_count": 48,
   "id": "d073e3b4",
   "metadata": {},
   "outputs": [
    {
     "data": {
      "text/plain": [
       "array([ 7, 11,  5,  8, 10, 14, 11,  7, 10,  9])"
      ]
     },
     "execution_count": 48,
     "metadata": {},
     "output_type": "execute_result"
    }
   ],
   "source": [
    "np.random.randint(4,15,10)"
   ]
  },
  {
   "cell_type": "code",
   "execution_count": 49,
   "id": "df6b62e1",
   "metadata": {},
   "outputs": [
    {
     "data": {
      "text/plain": [
       "array([ 8,  5, 10, 13,  6, 14, 13,  4,  8,  7])"
      ]
     },
     "execution_count": 49,
     "metadata": {},
     "output_type": "execute_result"
    }
   ],
   "source": [
    "np.random.randint(4,15,10) ## generate random integer values between 4 and 15 of 1 x 10 "
   ]
  },
  {
   "cell_type": "code",
   "execution_count": 50,
   "id": "b8773bd7",
   "metadata": {},
   "outputs": [
    {
     "data": {
      "text/plain": [
       "array([14,  9,  4, 12, 12, 11, 13,  6, 13,  9])"
      ]
     },
     "execution_count": 50,
     "metadata": {},
     "output_type": "execute_result"
    }
   ],
   "source": [
    "np.random.randint(4,15,10)"
   ]
  },
  {
   "cell_type": "code",
   "execution_count": 55,
   "id": "284e6cef",
   "metadata": {},
   "outputs": [
    {
     "data": {
      "text/plain": [
       "array([[14,  8,  7],\n",
       "       [ 9, 10, 13],\n",
       "       [14,  9, 11],\n",
       "       [ 9,  9,  6]])"
      ]
     },
     "execution_count": 55,
     "metadata": {},
     "output_type": "execute_result"
    }
   ],
   "source": [
    "np.random.randint(4,15,(4,3)) ## generate random integer values between 4 and 15 of shape 4 and 3"
   ]
  },
  {
   "cell_type": "code",
   "execution_count": 56,
   "id": "d7c32fdc",
   "metadata": {},
   "outputs": [],
   "source": [
    "num_2 = np.random.randint(4,15,10)"
   ]
  },
  {
   "cell_type": "code",
   "execution_count": null,
   "id": "47dd0386",
   "metadata": {},
   "outputs": [],
   "source": [
    "## Slicing and Indexing in Numpy"
   ]
  },
  {
   "cell_type": "code",
   "execution_count": null,
   "id": "3bd9aa9f",
   "metadata": {},
   "outputs": [],
   "source": [
    "## Indexing is same as that in Python"
   ]
  },
  {
   "cell_type": "code",
   "execution_count": 57,
   "id": "5d65395b",
   "metadata": {},
   "outputs": [
    {
     "data": {
      "text/plain": [
       "array([ 9,  9,  6,  7, 10,  5, 14,  9, 12, 14])"
      ]
     },
     "execution_count": 57,
     "metadata": {},
     "output_type": "execute_result"
    }
   ],
   "source": [
    "num_2"
   ]
  },
  {
   "cell_type": "code",
   "execution_count": 58,
   "id": "8aa0585d",
   "metadata": {},
   "outputs": [
    {
     "data": {
      "text/plain": [
       "10"
      ]
     },
     "execution_count": 58,
     "metadata": {},
     "output_type": "execute_result"
    }
   ],
   "source": [
    "num_2[4] ## accessing elements using indexing"
   ]
  },
  {
   "cell_type": "code",
   "execution_count": 59,
   "id": "a013e0c2",
   "metadata": {},
   "outputs": [
    {
     "data": {
      "text/plain": [
       "9"
      ]
     },
     "execution_count": 59,
     "metadata": {},
     "output_type": "execute_result"
    }
   ],
   "source": [
    "num_2[-3]"
   ]
  },
  {
   "cell_type": "code",
   "execution_count": 60,
   "id": "c0faf36d",
   "metadata": {},
   "outputs": [
    {
     "data": {
      "text/plain": [
       "array([ 6,  7, 10,  5])"
      ]
     },
     "execution_count": 60,
     "metadata": {},
     "output_type": "execute_result"
    }
   ],
   "source": [
    "num_2[2:6] ## slicing in Python"
   ]
  },
  {
   "cell_type": "code",
   "execution_count": 61,
   "id": "843d14c0",
   "metadata": {},
   "outputs": [
    {
     "data": {
      "text/plain": [
       "array([ 7, 10,  5, 14,  9, 12, 14])"
      ]
     },
     "execution_count": 61,
     "metadata": {},
     "output_type": "execute_result"
    }
   ],
   "source": [
    "num_2[3:]"
   ]
  },
  {
   "cell_type": "code",
   "execution_count": null,
   "id": "3f714acf",
   "metadata": {},
   "outputs": [],
   "source": [
    "## Finish Numpy remaining part and Python Array"
   ]
  }
 ],
 "metadata": {
  "kernelspec": {
   "display_name": "Python 3 (ipykernel)",
   "language": "python",
   "name": "python3"
  },
  "language_info": {
   "codemirror_mode": {
    "name": "ipython",
    "version": 3
   },
   "file_extension": ".py",
   "mimetype": "text/x-python",
   "name": "python",
   "nbconvert_exporter": "python",
   "pygments_lexer": "ipython3",
   "version": "3.9.12"
  }
 },
 "nbformat": 4,
 "nbformat_minor": 5
}
