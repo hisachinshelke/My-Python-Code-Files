{
 "cells": [
  {
   "cell_type": "code",
   "execution_count": 1,
   "id": "cf6f0d1e",
   "metadata": {},
   "outputs": [
    {
     "name": "stdout",
     "output_type": "stream",
     "text": [
      "1 5\n",
      "1 6\n",
      "1 7\n",
      "1 8\n",
      "2 5\n",
      "2 6\n",
      "2 7\n",
      "2 8\n",
      "3 5\n",
      "3 6\n",
      "3 7\n",
      "3 8\n",
      "4 5\n",
      "4 6\n",
      "4 7\n",
      "4 8\n"
     ]
    }
   ],
   "source": [
    "x = [1,2,3,4]\n",
    "y = [5,6,7,8]\n",
    "\n",
    "for i in x:\n",
    "    for j in y:\n",
    "        print(i, j)"
   ]
  },
  {
   "cell_type": "code",
   "execution_count": 2,
   "id": "f5c21cc7",
   "metadata": {},
   "outputs": [],
   "source": [
    "## Logical Operators"
   ]
  },
  {
   "cell_type": "markdown",
   "id": "2e8f6339",
   "metadata": {},
   "source": [
    "1. AND\n",
    "2. NOT\n",
    "3. OR"
   ]
  },
  {
   "cell_type": "markdown",
   "id": "08059d73",
   "metadata": {},
   "source": [
    "1. AND\n",
    "1 - True\n",
    "0 - False\n",
    "\n",
    "Input-1  Input-2  Output\n",
    "1         1        1\n",
    "1         0        0\n",
    "0         1        0\n",
    "0         0        0"
   ]
  },
  {
   "cell_type": "code",
   "execution_count": 3,
   "id": "1c900964",
   "metadata": {},
   "outputs": [
    {
     "name": "stdout",
     "output_type": "stream",
     "text": [
      "True\n"
     ]
    }
   ],
   "source": [
    "input1 = 5\n",
    "input2 = 10\n",
    "\n",
    "if input1==5 and input2==10:\n",
    "    print(\"True\")\n",
    "else:\n",
    "    print(\"False\")"
   ]
  },
  {
   "cell_type": "code",
   "execution_count": 4,
   "id": "6fbea9ea",
   "metadata": {},
   "outputs": [
    {
     "name": "stdout",
     "output_type": "stream",
     "text": [
      "False\n"
     ]
    }
   ],
   "source": [
    "input1 = 5\n",
    "input2 = 10\n",
    "\n",
    "if input1==5 and input2==11:\n",
    "    print(\"True\")\n",
    "else:\n",
    "    print(\"False\")"
   ]
  },
  {
   "cell_type": "code",
   "execution_count": 5,
   "id": "19d5450d",
   "metadata": {},
   "outputs": [
    {
     "name": "stdout",
     "output_type": "stream",
     "text": [
      "False\n"
     ]
    }
   ],
   "source": [
    "input1 = 5\n",
    "input2 = 10\n",
    "\n",
    "if input1==6 and input2==10:\n",
    "    print(\"True\")\n",
    "else:\n",
    "    print(\"False\")"
   ]
  },
  {
   "cell_type": "code",
   "execution_count": 6,
   "id": "ef218a6c",
   "metadata": {},
   "outputs": [
    {
     "name": "stdout",
     "output_type": "stream",
     "text": [
      "False\n"
     ]
    }
   ],
   "source": [
    "input1 = 5\n",
    "input2 = 10\n",
    "\n",
    "if input1==6 and input2==11:\n",
    "    print(\"True\")\n",
    "else:\n",
    "    print(\"False\")"
   ]
  },
  {
   "cell_type": "markdown",
   "id": "d650ea8d",
   "metadata": {},
   "source": [
    "2. NOT"
   ]
  },
  {
   "cell_type": "code",
   "execution_count": null,
   "id": "d6666718",
   "metadata": {},
   "outputs": [],
   "source": [
    "input output\n",
    "1     0\n",
    "0     1"
   ]
  },
  {
   "cell_type": "code",
   "execution_count": 7,
   "id": "dc5bd4f0",
   "metadata": {},
   "outputs": [
    {
     "data": {
      "text/plain": [
       "True"
      ]
     },
     "execution_count": 7,
     "metadata": {},
     "output_type": "execute_result"
    }
   ],
   "source": [
    "True"
   ]
  },
  {
   "cell_type": "code",
   "execution_count": 8,
   "id": "3be9b112",
   "metadata": {},
   "outputs": [
    {
     "data": {
      "text/plain": [
       "False"
      ]
     },
     "execution_count": 8,
     "metadata": {},
     "output_type": "execute_result"
    }
   ],
   "source": [
    "not True"
   ]
  },
  {
   "cell_type": "code",
   "execution_count": 9,
   "id": "bae75eb9",
   "metadata": {},
   "outputs": [
    {
     "data": {
      "text/plain": [
       "False"
      ]
     },
     "execution_count": 9,
     "metadata": {},
     "output_type": "execute_result"
    }
   ],
   "source": [
    "False"
   ]
  },
  {
   "cell_type": "code",
   "execution_count": 10,
   "id": "1b246db1",
   "metadata": {},
   "outputs": [
    {
     "data": {
      "text/plain": [
       "True"
      ]
     },
     "execution_count": 10,
     "metadata": {},
     "output_type": "execute_result"
    }
   ],
   "source": [
    "not False"
   ]
  },
  {
   "cell_type": "code",
   "execution_count": null,
   "id": "b3c10b4c",
   "metadata": {},
   "outputs": [],
   "source": [
    "bool - True/ False"
   ]
  },
  {
   "cell_type": "code",
   "execution_count": 11,
   "id": "443a3ecc",
   "metadata": {},
   "outputs": [
    {
     "data": {
      "text/plain": [
       "True"
      ]
     },
     "execution_count": 11,
     "metadata": {},
     "output_type": "execute_result"
    }
   ],
   "source": [
    "True"
   ]
  },
  {
   "cell_type": "code",
   "execution_count": 12,
   "id": "aa943678",
   "metadata": {},
   "outputs": [
    {
     "data": {
      "text/plain": [
       "False"
      ]
     },
     "execution_count": 12,
     "metadata": {},
     "output_type": "execute_result"
    }
   ],
   "source": [
    "bool(0)"
   ]
  },
  {
   "cell_type": "code",
   "execution_count": 13,
   "id": "dc1d3a4c",
   "metadata": {},
   "outputs": [
    {
     "data": {
      "text/plain": [
       "True"
      ]
     },
     "execution_count": 13,
     "metadata": {},
     "output_type": "execute_result"
    }
   ],
   "source": [
    "bool(1)"
   ]
  },
  {
   "cell_type": "code",
   "execution_count": 14,
   "id": "5a5264be",
   "metadata": {},
   "outputs": [
    {
     "data": {
      "text/plain": [
       "True"
      ]
     },
     "execution_count": 14,
     "metadata": {},
     "output_type": "execute_result"
    }
   ],
   "source": [
    "bool(-1)"
   ]
  },
  {
   "cell_type": "code",
   "execution_count": 15,
   "id": "89e7c6f9",
   "metadata": {},
   "outputs": [
    {
     "data": {
      "text/plain": [
       "False"
      ]
     },
     "execution_count": 15,
     "metadata": {},
     "output_type": "execute_result"
    }
   ],
   "source": [
    "not bool(1)"
   ]
  },
  {
   "cell_type": "code",
   "execution_count": 16,
   "id": "8f8fba83",
   "metadata": {},
   "outputs": [
    {
     "data": {
      "text/plain": [
       "False"
      ]
     },
     "execution_count": 16,
     "metadata": {},
     "output_type": "execute_result"
    }
   ],
   "source": [
    "bool(0)"
   ]
  },
  {
   "cell_type": "code",
   "execution_count": 17,
   "id": "3d6d26bf",
   "metadata": {},
   "outputs": [
    {
     "data": {
      "text/plain": [
       "True"
      ]
     },
     "execution_count": 17,
     "metadata": {},
     "output_type": "execute_result"
    }
   ],
   "source": [
    "not bool(0)"
   ]
  },
  {
   "cell_type": "code",
   "execution_count": 18,
   "id": "c645cb65",
   "metadata": {},
   "outputs": [
    {
     "data": {
      "text/plain": [
       "True"
      ]
     },
     "execution_count": 18,
     "metadata": {},
     "output_type": "execute_result"
    }
   ],
   "source": [
    "bool(-10)  #non zero value - True"
   ]
  },
  {
   "cell_type": "code",
   "execution_count": 19,
   "id": "5f072f90",
   "metadata": {},
   "outputs": [
    {
     "data": {
      "text/plain": [
       "False"
      ]
     },
     "execution_count": 19,
     "metadata": {},
     "output_type": "execute_result"
    }
   ],
   "source": [
    "not -1"
   ]
  },
  {
   "cell_type": "code",
   "execution_count": 20,
   "id": "789e4374",
   "metadata": {},
   "outputs": [
    {
     "data": {
      "text/plain": [
       "True"
      ]
     },
     "execution_count": 20,
     "metadata": {},
     "output_type": "execute_result"
    }
   ],
   "source": [
    "not 0"
   ]
  },
  {
   "cell_type": "code",
   "execution_count": 21,
   "id": "94dbb32c",
   "metadata": {},
   "outputs": [
    {
     "data": {
      "text/plain": [
       "False"
      ]
     },
     "execution_count": 21,
     "metadata": {},
     "output_type": "execute_result"
    }
   ],
   "source": [
    "not 1"
   ]
  },
  {
   "cell_type": "code",
   "execution_count": null,
   "id": "9be8b67c",
   "metadata": {},
   "outputs": [],
   "source": [
    "not - True/False"
   ]
  },
  {
   "cell_type": "code",
   "execution_count": null,
   "id": "7835e403",
   "metadata": {},
   "outputs": [],
   "source": [
    "1 * 0 = 0"
   ]
  },
  {
   "cell_type": "code",
   "execution_count": 22,
   "id": "a3906ebd",
   "metadata": {},
   "outputs": [
    {
     "data": {
      "text/plain": [
       "0"
      ]
     },
     "execution_count": 22,
     "metadata": {},
     "output_type": "execute_result"
    }
   ],
   "source": [
    "True * False"
   ]
  },
  {
   "cell_type": "code",
   "execution_count": 23,
   "id": "3fe63fdb",
   "metadata": {},
   "outputs": [
    {
     "data": {
      "text/plain": [
       "1"
      ]
     },
     "execution_count": 23,
     "metadata": {},
     "output_type": "execute_result"
    }
   ],
   "source": [
    "True * True"
   ]
  },
  {
   "cell_type": "code",
   "execution_count": 24,
   "id": "ea536cec",
   "metadata": {},
   "outputs": [
    {
     "data": {
      "text/plain": [
       "0"
      ]
     },
     "execution_count": 24,
     "metadata": {},
     "output_type": "execute_result"
    }
   ],
   "source": [
    "False * True"
   ]
  },
  {
   "cell_type": "code",
   "execution_count": 25,
   "id": "b7920e25",
   "metadata": {},
   "outputs": [
    {
     "data": {
      "text/plain": [
       "0"
      ]
     },
     "execution_count": 25,
     "metadata": {},
     "output_type": "execute_result"
    }
   ],
   "source": [
    "False * False"
   ]
  },
  {
   "cell_type": "markdown",
   "id": "ab71f38f",
   "metadata": {},
   "source": [
    "3. OR operator"
   ]
  },
  {
   "cell_type": "code",
   "execution_count": null,
   "id": "96bc3e7c",
   "metadata": {},
   "outputs": [],
   "source": [
    "1 - True\n",
    "0 - False\n",
    "\n",
    "Input-1  Input-2  Output\n",
    "1         1        1\n",
    "1         0        1\n",
    "0         1        1\n",
    "0         0        0"
   ]
  },
  {
   "cell_type": "code",
   "execution_count": 26,
   "id": "25c4181d",
   "metadata": {},
   "outputs": [
    {
     "name": "stdout",
     "output_type": "stream",
     "text": [
      "True\n"
     ]
    }
   ],
   "source": [
    "input1 = 5\n",
    "input2 = 10\n",
    "\n",
    "if input1==5 or input2==10:\n",
    "    print(\"True\")\n",
    "else:\n",
    "    print(\"False\")"
   ]
  },
  {
   "cell_type": "code",
   "execution_count": 27,
   "id": "b8b38135",
   "metadata": {},
   "outputs": [
    {
     "name": "stdout",
     "output_type": "stream",
     "text": [
      "True\n"
     ]
    }
   ],
   "source": [
    "input1 = 5\n",
    "input2 = 10\n",
    "\n",
    "if input1==5 or input2==12:\n",
    "    print(\"True\")\n",
    "else:\n",
    "    print(\"False\")"
   ]
  },
  {
   "cell_type": "code",
   "execution_count": 28,
   "id": "eacc4056",
   "metadata": {},
   "outputs": [
    {
     "name": "stdout",
     "output_type": "stream",
     "text": [
      "True\n"
     ]
    }
   ],
   "source": [
    "input1 = 5\n",
    "input2 = 10\n",
    "\n",
    "if input1==6 or input2==10:\n",
    "    print(\"True\")\n",
    "else:\n",
    "    print(\"False\")"
   ]
  },
  {
   "cell_type": "code",
   "execution_count": 29,
   "id": "dc076b2a",
   "metadata": {},
   "outputs": [
    {
     "name": "stdout",
     "output_type": "stream",
     "text": [
      "False\n"
     ]
    }
   ],
   "source": [
    "input1 = 5\n",
    "input2 = 10\n",
    "\n",
    "if input1==6 or input2==12:\n",
    "    print(\"True\")\n",
    "else:\n",
    "    print(\"False\")"
   ]
  },
  {
   "cell_type": "code",
   "execution_count": null,
   "id": "35fa5af1",
   "metadata": {},
   "outputs": [],
   "source": [
    "Assignment -\n",
    "4. Bitwise operator <<  >> ~"
   ]
  },
  {
   "cell_type": "code",
   "execution_count": 30,
   "id": "235011a2",
   "metadata": {},
   "outputs": [],
   "source": [
    "var = 10"
   ]
  },
  {
   "cell_type": "code",
   "execution_count": 31,
   "id": "bca93ac2",
   "metadata": {},
   "outputs": [
    {
     "data": {
      "text/plain": [
       "'0b1010'"
      ]
     },
     "execution_count": 31,
     "metadata": {},
     "output_type": "execute_result"
    }
   ],
   "source": [
    "bin(var)"
   ]
  },
  {
   "cell_type": "code",
   "execution_count": 32,
   "id": "7c5db267",
   "metadata": {},
   "outputs": [
    {
     "data": {
      "text/plain": [
       "20"
      ]
     },
     "execution_count": 32,
     "metadata": {},
     "output_type": "execute_result"
    }
   ],
   "source": [
    "var << 1"
   ]
  },
  {
   "cell_type": "code",
   "execution_count": 33,
   "id": "4b6309d0",
   "metadata": {},
   "outputs": [
    {
     "data": {
      "text/plain": [
       "'0b10100'"
      ]
     },
     "execution_count": 33,
     "metadata": {},
     "output_type": "execute_result"
    }
   ],
   "source": [
    "bin(var << 1)"
   ]
  },
  {
   "cell_type": "code",
   "execution_count": null,
   "id": "0849a707",
   "metadata": {},
   "outputs": [],
   "source": [
    "<< >>  ~"
   ]
  },
  {
   "cell_type": "code",
   "execution_count": 34,
   "id": "0dbfd116",
   "metadata": {},
   "outputs": [
    {
     "data": {
      "text/plain": [
       "-11"
      ]
     },
     "execution_count": 34,
     "metadata": {},
     "output_type": "execute_result"
    }
   ],
   "source": [
    "~var"
   ]
  },
  {
   "cell_type": "code",
   "execution_count": 35,
   "id": "40a433ba",
   "metadata": {},
   "outputs": [
    {
     "data": {
      "text/plain": [
       "'-0b1011'"
      ]
     },
     "execution_count": 35,
     "metadata": {},
     "output_type": "execute_result"
    }
   ],
   "source": [
    "bin(~var)"
   ]
  },
  {
   "cell_type": "code",
   "execution_count": 36,
   "id": "bfdf709d",
   "metadata": {},
   "outputs": [
    {
     "data": {
      "text/plain": [
       "5"
      ]
     },
     "execution_count": 36,
     "metadata": {},
     "output_type": "execute_result"
    }
   ],
   "source": [
    "var >> 1"
   ]
  },
  {
   "cell_type": "code",
   "execution_count": 37,
   "id": "3da700ec",
   "metadata": {},
   "outputs": [
    {
     "data": {
      "text/plain": [
       "'0b101'"
      ]
     },
     "execution_count": 37,
     "metadata": {},
     "output_type": "execute_result"
    }
   ],
   "source": [
    "bin(var >> 1)"
   ]
  },
  {
   "cell_type": "code",
   "execution_count": 38,
   "id": "3089509d",
   "metadata": {},
   "outputs": [],
   "source": [
    "## Equality operator"
   ]
  },
  {
   "cell_type": "code",
   "execution_count": null,
   "id": "3facf79e",
   "metadata": {},
   "outputs": [],
   "source": [
    "Address\n",
    "1. is -> a is b will be true if they both memory address are same\n",
    "2. is not -> a is not b will be true if if both memory address different\n",
    "\n",
    "Value\n",
    "3. == -> checks for value\n",
    "4. != -> not equal checks for value"
   ]
  },
  {
   "cell_type": "code",
   "execution_count": 41,
   "id": "38590939",
   "metadata": {},
   "outputs": [],
   "source": [
    "list_1 = [1,2,3]\n",
    "list_2 = [1,2,3]"
   ]
  },
  {
   "cell_type": "code",
   "execution_count": 42,
   "id": "32f9ea8b",
   "metadata": {},
   "outputs": [
    {
     "data": {
      "text/plain": [
       "1823018304384"
      ]
     },
     "execution_count": 42,
     "metadata": {},
     "output_type": "execute_result"
    }
   ],
   "source": [
    "id(list_1)"
   ]
  },
  {
   "cell_type": "code",
   "execution_count": 43,
   "id": "a1231a34",
   "metadata": {},
   "outputs": [
    {
     "data": {
      "text/plain": [
       "1823018294784"
      ]
     },
     "execution_count": 43,
     "metadata": {},
     "output_type": "execute_result"
    }
   ],
   "source": [
    "id(list_2)"
   ]
  },
  {
   "cell_type": "code",
   "execution_count": 44,
   "id": "26581418",
   "metadata": {},
   "outputs": [],
   "source": [
    "name1 = \"Sachin\"\n",
    "name2 = \"Sachin\""
   ]
  },
  {
   "cell_type": "code",
   "execution_count": 45,
   "id": "62e909f4",
   "metadata": {},
   "outputs": [
    {
     "data": {
      "text/plain": [
       "1822982430960"
      ]
     },
     "execution_count": 45,
     "metadata": {},
     "output_type": "execute_result"
    }
   ],
   "source": [
    "id(name1)"
   ]
  },
  {
   "cell_type": "code",
   "execution_count": 46,
   "id": "01f64bf5",
   "metadata": {},
   "outputs": [
    {
     "data": {
      "text/plain": [
       "1822982430960"
      ]
     },
     "execution_count": 46,
     "metadata": {},
     "output_type": "execute_result"
    }
   ],
   "source": [
    "id(name2)"
   ]
  },
  {
   "cell_type": "code",
   "execution_count": 50,
   "id": "f061f7d9",
   "metadata": {},
   "outputs": [],
   "source": [
    "num1 = 5\n",
    "num2 = 5"
   ]
  },
  {
   "cell_type": "code",
   "execution_count": 51,
   "id": "995faecc",
   "metadata": {},
   "outputs": [
    {
     "data": {
      "text/plain": [
       "1822895925680"
      ]
     },
     "execution_count": 51,
     "metadata": {},
     "output_type": "execute_result"
    }
   ],
   "source": [
    "id(num1)"
   ]
  },
  {
   "cell_type": "code",
   "execution_count": 52,
   "id": "ac4dcabe",
   "metadata": {},
   "outputs": [
    {
     "data": {
      "text/plain": [
       "1822895925680"
      ]
     },
     "execution_count": 52,
     "metadata": {},
     "output_type": "execute_result"
    }
   ],
   "source": [
    "id(num2)"
   ]
  },
  {
   "cell_type": "code",
   "execution_count": 53,
   "id": "3b612d48",
   "metadata": {},
   "outputs": [
    {
     "data": {
      "text/plain": [
       "False"
      ]
     },
     "execution_count": 53,
     "metadata": {},
     "output_type": "execute_result"
    }
   ],
   "source": [
    "list_1 is list_2"
   ]
  },
  {
   "cell_type": "code",
   "execution_count": 54,
   "id": "5430c55a",
   "metadata": {},
   "outputs": [
    {
     "data": {
      "text/plain": [
       "True"
      ]
     },
     "execution_count": 54,
     "metadata": {},
     "output_type": "execute_result"
    }
   ],
   "source": [
    "name1 is name2"
   ]
  },
  {
   "cell_type": "code",
   "execution_count": 55,
   "id": "d51e960a",
   "metadata": {},
   "outputs": [
    {
     "data": {
      "text/plain": [
       "True"
      ]
     },
     "execution_count": 55,
     "metadata": {},
     "output_type": "execute_result"
    }
   ],
   "source": [
    "num1 is num2"
   ]
  },
  {
   "cell_type": "code",
   "execution_count": 56,
   "id": "cf7551fc",
   "metadata": {},
   "outputs": [
    {
     "data": {
      "text/plain": [
       "True"
      ]
     },
     "execution_count": 56,
     "metadata": {},
     "output_type": "execute_result"
    }
   ],
   "source": [
    "list_1 is not list_2"
   ]
  },
  {
   "cell_type": "code",
   "execution_count": 57,
   "id": "489baee6",
   "metadata": {},
   "outputs": [
    {
     "data": {
      "text/plain": [
       "False"
      ]
     },
     "execution_count": 57,
     "metadata": {},
     "output_type": "execute_result"
    }
   ],
   "source": [
    "name1 is not name2"
   ]
  },
  {
   "cell_type": "code",
   "execution_count": 58,
   "id": "bd15f97b",
   "metadata": {},
   "outputs": [
    {
     "data": {
      "text/plain": [
       "False"
      ]
     },
     "execution_count": 58,
     "metadata": {},
     "output_type": "execute_result"
    }
   ],
   "source": [
    "num1 is not num2"
   ]
  },
  {
   "cell_type": "code",
   "execution_count": 59,
   "id": "e437a65d",
   "metadata": {},
   "outputs": [
    {
     "data": {
      "text/plain": [
       "True"
      ]
     },
     "execution_count": 59,
     "metadata": {},
     "output_type": "execute_result"
    }
   ],
   "source": [
    "name1 == name2"
   ]
  },
  {
   "cell_type": "code",
   "execution_count": 60,
   "id": "0e8b6403",
   "metadata": {},
   "outputs": [
    {
     "data": {
      "text/plain": [
       "True"
      ]
     },
     "execution_count": 60,
     "metadata": {},
     "output_type": "execute_result"
    }
   ],
   "source": [
    "num1 == num2"
   ]
  },
  {
   "cell_type": "code",
   "execution_count": 61,
   "id": "5e0b6b90",
   "metadata": {},
   "outputs": [
    {
     "data": {
      "text/plain": [
       "True"
      ]
     },
     "execution_count": 61,
     "metadata": {},
     "output_type": "execute_result"
    }
   ],
   "source": [
    "list_1 == list_2"
   ]
  },
  {
   "cell_type": "code",
   "execution_count": 62,
   "id": "960a4ef9",
   "metadata": {},
   "outputs": [],
   "source": [
    "name3 =  \"Ram\"\n",
    "name4 = \"Shyam\""
   ]
  },
  {
   "cell_type": "code",
   "execution_count": 63,
   "id": "1130024b",
   "metadata": {},
   "outputs": [
    {
     "data": {
      "text/plain": [
       "False"
      ]
     },
     "execution_count": 63,
     "metadata": {},
     "output_type": "execute_result"
    }
   ],
   "source": [
    "name3 == name4"
   ]
  },
  {
   "cell_type": "code",
   "execution_count": 64,
   "id": "f7211b90",
   "metadata": {},
   "outputs": [
    {
     "data": {
      "text/plain": [
       "True"
      ]
     },
     "execution_count": 64,
     "metadata": {},
     "output_type": "execute_result"
    }
   ],
   "source": [
    "name3 != name4"
   ]
  },
  {
   "cell_type": "code",
   "execution_count": null,
   "id": "dd821e3f",
   "metadata": {},
   "outputs": [],
   "source": [
    "if name1 == name2 and name3 is name4:\n",
    "    print(\"true\")\n",
    "else:\n",
    "    print(\"False\")"
   ]
  },
  {
   "cell_type": "code",
   "execution_count": 65,
   "id": "675369f0",
   "metadata": {},
   "outputs": [],
   "source": [
    "## Arithmatic Operator"
   ]
  },
  {
   "cell_type": "code",
   "execution_count": null,
   "id": "24fb8091",
   "metadata": {},
   "outputs": [],
   "source": [
    "+ -  /  % //"
   ]
  },
  {
   "cell_type": "code",
   "execution_count": 66,
   "id": "f49c0c31",
   "metadata": {},
   "outputs": [
    {
     "data": {
      "text/plain": [
       "3"
      ]
     },
     "execution_count": 66,
     "metadata": {},
     "output_type": "execute_result"
    }
   ],
   "source": [
    "1+2"
   ]
  },
  {
   "cell_type": "code",
   "execution_count": 67,
   "id": "4c73906a",
   "metadata": {},
   "outputs": [
    {
     "data": {
      "text/plain": [
       "1"
      ]
     },
     "execution_count": 67,
     "metadata": {},
     "output_type": "execute_result"
    }
   ],
   "source": [
    "5-4"
   ]
  },
  {
   "cell_type": "code",
   "execution_count": 68,
   "id": "3113125c",
   "metadata": {},
   "outputs": [
    {
     "data": {
      "text/plain": [
       "5.0"
      ]
     },
     "execution_count": 68,
     "metadata": {},
     "output_type": "execute_result"
    }
   ],
   "source": [
    "10/2"
   ]
  },
  {
   "cell_type": "code",
   "execution_count": 69,
   "id": "0f6aeaa8",
   "metadata": {},
   "outputs": [
    {
     "data": {
      "text/plain": [
       "5.5"
      ]
     },
     "execution_count": 69,
     "metadata": {},
     "output_type": "execute_result"
    }
   ],
   "source": [
    "11/2"
   ]
  },
  {
   "cell_type": "code",
   "execution_count": 70,
   "id": "871dfab1",
   "metadata": {},
   "outputs": [
    {
     "data": {
      "text/plain": [
       "1"
      ]
     },
     "execution_count": 70,
     "metadata": {},
     "output_type": "execute_result"
    }
   ],
   "source": [
    "11%2"
   ]
  },
  {
   "cell_type": "code",
   "execution_count": 71,
   "id": "c628587b",
   "metadata": {},
   "outputs": [
    {
     "data": {
      "text/plain": [
       "5"
      ]
     },
     "execution_count": 71,
     "metadata": {},
     "output_type": "execute_result"
    }
   ],
   "source": [
    "10 // 2"
   ]
  },
  {
   "cell_type": "code",
   "execution_count": 72,
   "id": "d10b340a",
   "metadata": {},
   "outputs": [
    {
     "data": {
      "text/plain": [
       "5"
      ]
     },
     "execution_count": 72,
     "metadata": {},
     "output_type": "execute_result"
    }
   ],
   "source": [
    "11//2"
   ]
  },
  {
   "cell_type": "code",
   "execution_count": 73,
   "id": "aae97354",
   "metadata": {},
   "outputs": [
    {
     "data": {
      "text/plain": [
       "110.0"
      ]
     },
     "execution_count": 73,
     "metadata": {},
     "output_type": "execute_result"
    }
   ],
   "source": [
    "550 / 5"
   ]
  },
  {
   "cell_type": "code",
   "execution_count": 74,
   "id": "deb8c25b",
   "metadata": {},
   "outputs": [
    {
     "data": {
      "text/plain": [
       "110"
      ]
     },
     "execution_count": 74,
     "metadata": {},
     "output_type": "execute_result"
    }
   ],
   "source": [
    "551 // 5"
   ]
  },
  {
   "cell_type": "code",
   "execution_count": 75,
   "id": "bf719f6f",
   "metadata": {},
   "outputs": [],
   "source": [
    "## Assignment Operator  \"=\""
   ]
  },
  {
   "cell_type": "code",
   "execution_count": 76,
   "id": "5cdc3fe4",
   "metadata": {},
   "outputs": [],
   "source": [
    "a = 5"
   ]
  },
  {
   "cell_type": "code",
   "execution_count": 77,
   "id": "e48da5c0",
   "metadata": {},
   "outputs": [
    {
     "data": {
      "text/plain": [
       "5"
      ]
     },
     "execution_count": 77,
     "metadata": {},
     "output_type": "execute_result"
    }
   ],
   "source": [
    "a"
   ]
  },
  {
   "cell_type": "code",
   "execution_count": 78,
   "id": "f6ad68a6",
   "metadata": {},
   "outputs": [],
   "source": [
    "name1 = \"Sachin Shelke\""
   ]
  },
  {
   "cell_type": "code",
   "execution_count": 79,
   "id": "5b32358f",
   "metadata": {},
   "outputs": [
    {
     "name": "stdout",
     "output_type": "stream",
     "text": [
      "Sachin Shelke\n"
     ]
    }
   ],
   "source": [
    "print(name1)"
   ]
  },
  {
   "cell_type": "code",
   "execution_count": null,
   "id": "407ad2aa",
   "metadata": {},
   "outputs": [],
   "source": [
    "= means assignment operator\n",
    "== compares the value"
   ]
  },
  {
   "cell_type": "code",
   "execution_count": null,
   "id": "f045b7f0",
   "metadata": {},
   "outputs": [],
   "source": [
    "*\n",
    "**\n",
    "***\n",
    "****\n",
    "***** "
   ]
  }
 ],
 "metadata": {
  "kernelspec": {
   "display_name": "Python 3 (ipykernel)",
   "language": "python",
   "name": "python3"
  },
  "language_info": {
   "codemirror_mode": {
    "name": "ipython",
    "version": 3
   },
   "file_extension": ".py",
   "mimetype": "text/x-python",
   "name": "python",
   "nbconvert_exporter": "python",
   "pygments_lexer": "ipython3",
   "version": "3.9.12"
  }
 },
 "nbformat": 4,
 "nbformat_minor": 5
}
