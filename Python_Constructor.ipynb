{
 "cells": [
  {
   "cell_type": "code",
   "execution_count": null,
   "id": "7803104b",
   "metadata": {},
   "outputs": [],
   "source": [
    "## Constructor"
   ]
  },
  {
   "cell_type": "code",
   "execution_count": null,
   "id": "3e647ee6",
   "metadata": {},
   "outputs": [],
   "source": [
    "Constructor is used for initialtisation at the time of object creation."
   ]
  },
  {
   "cell_type": "code",
   "execution_count": null,
   "id": "a0a2b279",
   "metadata": {},
   "outputs": [],
   "source": [
    "Syntax:\n",
    "    \n",
    "    def __init__(self, attribute1, attribute2,...):\n",
    "        "
   ]
  },
  {
   "cell_type": "code",
   "execution_count": 18,
   "id": "94e2220f",
   "metadata": {},
   "outputs": [],
   "source": [
    "class Bike:\n",
    "   \n",
    "    def __init__(self, make, colour, mileage):\n",
    "        self.make = make\n",
    "        self.colour = colour\n",
    "        self.mileage = mileage\n",
    "    \n",
    "    def bike_details(self):\n",
    "        print(\"The Manufacturer of Bike is: \" + self.make + \" . The colour of bike is: \" \n",
    "              + self.colour + \" . The mileage of bike is: \",  self.mileage)\n",
    "        \n",
    "        ## + is for concatination of strings"
   ]
  },
  {
   "cell_type": "code",
   "execution_count": 19,
   "id": "48c7e66c",
   "metadata": {},
   "outputs": [],
   "source": [
    "bike1 = Bike(\"Honda\", \"Black\" , 45)\n"
   ]
  },
  {
   "cell_type": "code",
   "execution_count": 20,
   "id": "90b8ec7d",
   "metadata": {},
   "outputs": [
    {
     "name": "stdout",
     "output_type": "stream",
     "text": [
      "The Manufacturer of Bike is: Honda . The colour of bike is: Black . The mileage of bike is:  45\n"
     ]
    }
   ],
   "source": [
    "bike1.bike_details()"
   ]
  },
  {
   "cell_type": "code",
   "execution_count": 21,
   "id": "e65f9ab3",
   "metadata": {},
   "outputs": [],
   "source": [
    "bike2 = Bike(\"Hero\" , \"Red\" , 50)\n",
    "bike3 = Bike(\"Bajaj\", \"Blue\", 60)"
   ]
  },
  {
   "cell_type": "code",
   "execution_count": 22,
   "id": "5100723d",
   "metadata": {},
   "outputs": [
    {
     "name": "stdout",
     "output_type": "stream",
     "text": [
      "The Manufacturer of Bike is: Hero . The colour of bike is: Red . The mileage of bike is:  50\n"
     ]
    }
   ],
   "source": [
    "bike2.bike_details()"
   ]
  },
  {
   "cell_type": "code",
   "execution_count": 23,
   "id": "d81eee07",
   "metadata": {},
   "outputs": [
    {
     "name": "stdout",
     "output_type": "stream",
     "text": [
      "The Manufacturer of Bike is: Bajaj . The colour of bike is: Blue . The mileage of bike is:  60\n"
     ]
    }
   ],
   "source": [
    "bike3.bike_details()"
   ]
  },
  {
   "cell_type": "code",
   "execution_count": 24,
   "id": "9aa8839b",
   "metadata": {},
   "outputs": [
    {
     "data": {
      "text/plain": [
       "'Honda'"
      ]
     },
     "execution_count": 24,
     "metadata": {},
     "output_type": "execute_result"
    }
   ],
   "source": [
    "bike1.make"
   ]
  },
  {
   "cell_type": "code",
   "execution_count": 25,
   "id": "612edd6f",
   "metadata": {},
   "outputs": [
    {
     "data": {
      "text/plain": [
       "'Black'"
      ]
     },
     "execution_count": 25,
     "metadata": {},
     "output_type": "execute_result"
    }
   ],
   "source": [
    "bike1.colour"
   ]
  },
  {
   "cell_type": "code",
   "execution_count": 26,
   "id": "3ec54c6d",
   "metadata": {},
   "outputs": [
    {
     "data": {
      "text/plain": [
       "'Hero'"
      ]
     },
     "execution_count": 26,
     "metadata": {},
     "output_type": "execute_result"
    }
   ],
   "source": [
    "bike2.make"
   ]
  },
  {
   "cell_type": "code",
   "execution_count": 27,
   "id": "64243db4",
   "metadata": {},
   "outputs": [
    {
     "data": {
      "text/plain": [
       "'Red'"
      ]
     },
     "execution_count": 27,
     "metadata": {},
     "output_type": "execute_result"
    }
   ],
   "source": [
    "bike2.colour"
   ]
  },
  {
   "cell_type": "code",
   "execution_count": 28,
   "id": "21dfec1b",
   "metadata": {},
   "outputs": [
    {
     "data": {
      "text/plain": [
       "'Bajaj'"
      ]
     },
     "execution_count": 28,
     "metadata": {},
     "output_type": "execute_result"
    }
   ],
   "source": [
    "bike3.make"
   ]
  },
  {
   "cell_type": "code",
   "execution_count": 29,
   "id": "0032eab3",
   "metadata": {},
   "outputs": [
    {
     "name": "stdout",
     "output_type": "stream",
     "text": [
      "The Manufacturer of Bike is: Bajaj . The colour of bike is: Blue . The mileage of bike is:  60\n"
     ]
    }
   ],
   "source": [
    "bike3.bike_details()"
   ]
  },
  {
   "cell_type": "code",
   "execution_count": null,
   "id": "595b7cb9",
   "metadata": {},
   "outputs": [],
   "source": []
  }
 ],
 "metadata": {
  "kernelspec": {
   "display_name": "Python 3 (ipykernel)",
   "language": "python",
   "name": "python3"
  },
  "language_info": {
   "codemirror_mode": {
    "name": "ipython",
    "version": 3
   },
   "file_extension": ".py",
   "mimetype": "text/x-python",
   "name": "python",
   "nbconvert_exporter": "python",
   "pygments_lexer": "ipython3",
   "version": "3.9.12"
  }
 },
 "nbformat": 4,
 "nbformat_minor": 5
}
