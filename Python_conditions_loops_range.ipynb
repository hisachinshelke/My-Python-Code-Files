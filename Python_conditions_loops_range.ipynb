{
 "cells": [
  {
   "cell_type": "code",
   "execution_count": 1,
   "id": "7154bcab",
   "metadata": {},
   "outputs": [],
   "source": [
    "## Loop"
   ]
  },
  {
   "cell_type": "markdown",
   "id": "d0ad44f2",
   "metadata": {},
   "source": [
    "1. While\n",
    "2. for\n",
    "3. nested\n",
    "4. loop controls - break, continue and pass\n",
    "    "
   ]
  },
  {
   "cell_type": "code",
   "execution_count": null,
   "id": "22344199",
   "metadata": {},
   "outputs": [],
   "source": [
    "if condition:  // gets executed only once\n",
    "    statement"
   ]
  },
  {
   "cell_type": "code",
   "execution_count": 2,
   "id": "77b9d3ff",
   "metadata": {},
   "outputs": [],
   "source": []
  },
  {
   "cell_type": "code",
   "execution_count": 3,
   "id": "813cc1aa",
   "metadata": {},
   "outputs": [],
   "source": [
    "abc = \"Sachin\""
   ]
  },
  {
   "cell_type": "code",
   "execution_count": 5,
   "id": "5f4d1a99",
   "metadata": {},
   "outputs": [
    {
     "data": {
      "text/plain": [
       "str"
      ]
     },
     "execution_count": 5,
     "metadata": {},
     "output_type": "execute_result"
    }
   ],
   "source": [
    "type(abc)"
   ]
  },
  {
   "cell_type": "code",
   "execution_count": 6,
   "id": "a6208502",
   "metadata": {},
   "outputs": [],
   "source": [
    "abc = 123"
   ]
  },
  {
   "cell_type": "code",
   "execution_count": 7,
   "id": "954ecd9f",
   "metadata": {},
   "outputs": [
    {
     "data": {
      "text/plain": [
       "int"
      ]
     },
     "execution_count": 7,
     "metadata": {},
     "output_type": "execute_result"
    }
   ],
   "source": [
    "type(abc)"
   ]
  },
  {
   "cell_type": "code",
   "execution_count": 8,
   "id": "ea32d7c4",
   "metadata": {},
   "outputs": [],
   "source": [
    "abc = 0.2"
   ]
  },
  {
   "cell_type": "code",
   "execution_count": 9,
   "id": "ff3fe486",
   "metadata": {},
   "outputs": [
    {
     "data": {
      "text/plain": [
       "float"
      ]
     },
     "execution_count": 9,
     "metadata": {},
     "output_type": "execute_result"
    }
   ],
   "source": [
    "type(abc)"
   ]
  },
  {
   "cell_type": "code",
   "execution_count": 10,
   "id": "a8ae8748",
   "metadata": {},
   "outputs": [],
   "source": [
    "# While loop - keeps running untill condition is true"
   ]
  },
  {
   "cell_type": "code",
   "execution_count": 11,
   "id": "98890ef0",
   "metadata": {},
   "outputs": [],
   "source": [
    "## if we need to check for condition repeatedly we can use loop"
   ]
  },
  {
   "cell_type": "code",
   "execution_count": 12,
   "id": "5accb806",
   "metadata": {},
   "outputs": [],
   "source": [
    "num = 5"
   ]
  },
  {
   "cell_type": "code",
   "execution_count": 14,
   "id": "f7bc14df",
   "metadata": {},
   "outputs": [
    {
     "name": "stdout",
     "output_type": "stream",
     "text": [
      "7\n"
     ]
    }
   ],
   "source": [
    "num = num +1\n",
    "print(num)"
   ]
  },
  {
   "cell_type": "code",
   "execution_count": 15,
   "id": "c9da543b",
   "metadata": {},
   "outputs": [
    {
     "name": "stdout",
     "output_type": "stream",
     "text": [
      "8\n"
     ]
    }
   ],
   "source": [
    "num = num +1\n",
    "print(num)"
   ]
  },
  {
   "cell_type": "code",
   "execution_count": 16,
   "id": "ea53d75d",
   "metadata": {},
   "outputs": [
    {
     "name": "stdout",
     "output_type": "stream",
     "text": [
      "9\n"
     ]
    }
   ],
   "source": [
    "num += 1   # num = num +1\n",
    "print(num)"
   ]
  },
  {
   "cell_type": "code",
   "execution_count": null,
   "id": "82ca31dc",
   "metadata": {},
   "outputs": [],
   "source": [
    "num = num -1  //  num -=1\n",
    "num = num * 2  // num *=2\n",
    "num = num / 2 // num /=2"
   ]
  },
  {
   "cell_type": "code",
   "execution_count": 1,
   "id": "833af759",
   "metadata": {},
   "outputs": [
    {
     "name": "stdout",
     "output_type": "stream",
     "text": [
      "5\n",
      "6\n",
      "7\n",
      "8\n",
      "9\n",
      "10\n"
     ]
    }
   ],
   "source": [
    "num1 = 5\n",
    "while num1 <=10:\n",
    "    print(num1)\n",
    "    num1 +=1\n",
    "    "
   ]
  },
  {
   "cell_type": "code",
   "execution_count": null,
   "id": "02b9c87d",
   "metadata": {},
   "outputs": [],
   "source": [
    "while condition:\n",
    "    statment - gets executed till the condition stays true"
   ]
  },
  {
   "cell_type": "code",
   "execution_count": 4,
   "id": "fe2931cc",
   "metadata": {},
   "outputs": [
    {
     "name": "stdout",
     "output_type": "stream",
     "text": [
      "55.You are eligible to work\n",
      "56.You are eligible to work\n",
      "57.You are eligible to work\n",
      "58.You are eligible to work\n",
      "59.You are eligible to work\n",
      "60.You are eligible to work\n",
      "You can retire now.\n"
     ]
    }
   ],
   "source": [
    "age = 55\n",
    "while age <= 60:\n",
    "    print(f\"{age}.You are eligible to work\")\n",
    "    age +=1\n",
    "else:\n",
    "    print(\"You can retire now.\")"
   ]
  },
  {
   "cell_type": "code",
   "execution_count": null,
   "id": "f25608be",
   "metadata": {},
   "outputs": [],
   "source": [
    "while condition:\n",
    "    statment - gets executed till the condition stays true\n",
    "else:  // if condition fails\n",
    "    statement"
   ]
  },
  {
   "cell_type": "code",
   "execution_count": 3,
   "id": "b26f68ca",
   "metadata": {},
   "outputs": [
    {
     "name": "stdout",
     "output_type": "stream",
     "text": [
      "Balance is 900\n",
      "Balance is 800\n",
      "Balance is 700\n",
      "Balance is 600\n",
      "Balance is 500\n",
      "Balance is 400\n",
      "Balance is 300\n",
      "Balance is 200\n",
      "Balance is 100\n",
      "Balance is 0\n",
      "Balance is 0. Please put money in bank.\n"
     ]
    }
   ],
   "source": [
    "total_amount = 1000\n",
    "while total_amount !=0:\n",
    "    total_amount -=100\n",
    "    print(f\"Balance is {total_amount}\")\n",
    "else:\n",
    "    print(f\"Balance is {total_amount}. Please put money in bank.\")"
   ]
  },
  {
   "cell_type": "code",
   "execution_count": 5,
   "id": "2cfda633",
   "metadata": {},
   "outputs": [
    {
     "name": "stdout",
     "output_type": "stream",
     "text": [
      "True\n"
     ]
    }
   ],
   "source": [
    "print(True)"
   ]
  },
  {
   "cell_type": "code",
   "execution_count": 6,
   "id": "a14c78f7",
   "metadata": {},
   "outputs": [
    {
     "name": "stdout",
     "output_type": "stream",
     "text": [
      "1\n"
     ]
    }
   ],
   "source": [
    "print(int(True))"
   ]
  },
  {
   "cell_type": "code",
   "execution_count": 7,
   "id": "2026d936",
   "metadata": {},
   "outputs": [
    {
     "name": "stdout",
     "output_type": "stream",
     "text": [
      "0\n"
     ]
    }
   ],
   "source": [
    "print(int(False))"
   ]
  },
  {
   "cell_type": "code",
   "execution_count": 8,
   "id": "20a0af7a",
   "metadata": {},
   "outputs": [
    {
     "data": {
      "text/plain": [
       "True"
      ]
     },
     "execution_count": 8,
     "metadata": {},
     "output_type": "execute_result"
    }
   ],
   "source": [
    "bool(1)\n"
   ]
  },
  {
   "cell_type": "code",
   "execution_count": 9,
   "id": "9e3581de",
   "metadata": {},
   "outputs": [
    {
     "data": {
      "text/plain": [
       "True"
      ]
     },
     "execution_count": 9,
     "metadata": {},
     "output_type": "execute_result"
    }
   ],
   "source": [
    "bool(5)"
   ]
  },
  {
   "cell_type": "code",
   "execution_count": 10,
   "id": "83b0979c",
   "metadata": {},
   "outputs": [
    {
     "data": {
      "text/plain": [
       "True"
      ]
     },
     "execution_count": 10,
     "metadata": {},
     "output_type": "execute_result"
    }
   ],
   "source": [
    "bool(-5)"
   ]
  },
  {
   "cell_type": "code",
   "execution_count": 11,
   "id": "4f18c7e7",
   "metadata": {},
   "outputs": [
    {
     "data": {
      "text/plain": [
       "False"
      ]
     },
     "execution_count": 11,
     "metadata": {},
     "output_type": "execute_result"
    }
   ],
   "source": [
    "bool(0)"
   ]
  },
  {
   "cell_type": "code",
   "execution_count": 12,
   "id": "8586d35d",
   "metadata": {},
   "outputs": [],
   "source": [
    "## for loop - itereration over the sequence  - list, tuple, set,etc"
   ]
  },
  {
   "cell_type": "code",
   "execution_count": 22,
   "id": "bae8f5a5",
   "metadata": {},
   "outputs": [],
   "source": [
    "fruits = [\"apple\" , \"banana\" , \"grapes\" , \"mango\" ]"
   ]
  },
  {
   "cell_type": "code",
   "execution_count": 14,
   "id": "574579bf",
   "metadata": {},
   "outputs": [
    {
     "data": {
      "text/plain": [
       "'apple'"
      ]
     },
     "execution_count": 14,
     "metadata": {},
     "output_type": "execute_result"
    }
   ],
   "source": [
    "fruits[0]"
   ]
  },
  {
   "cell_type": "code",
   "execution_count": 16,
   "id": "b2aa6198",
   "metadata": {},
   "outputs": [
    {
     "data": {
      "text/plain": [
       "'mango'"
      ]
     },
     "execution_count": 16,
     "metadata": {},
     "output_type": "execute_result"
    }
   ],
   "source": [
    "fruits[3]"
   ]
  },
  {
   "cell_type": "code",
   "execution_count": 17,
   "id": "a81107c1",
   "metadata": {},
   "outputs": [
    {
     "name": "stdout",
     "output_type": "stream",
     "text": [
      "apple\n",
      "banana\n",
      "grapes\n",
      "mango\n"
     ]
    }
   ],
   "source": [
    "for fruit in fruits:\n",
    "    print(fruit)"
   ]
  },
  {
   "cell_type": "code",
   "execution_count": null,
   "id": "3917220d",
   "metadata": {},
   "outputs": [],
   "source": [
    "//syntax\n",
    "for var1 in varSeq:\n",
    "    statement - var1  "
   ]
  },
  {
   "cell_type": "code",
   "execution_count": 20,
   "id": "fc69fed8",
   "metadata": {},
   "outputs": [
    {
     "name": "stdout",
     "output_type": "stream",
     "text": [
      "g\n",
      "r\n",
      "a\n",
      "p\n",
      "e\n",
      "s\n"
     ]
    }
   ],
   "source": [
    "for word in fruits[2]:\n",
    "    print(word)"
   ]
  },
  {
   "cell_type": "code",
   "execution_count": 21,
   "id": "df8c7a9f",
   "metadata": {},
   "outputs": [
    {
     "name": "stdout",
     "output_type": "stream",
     "text": [
      "m\n",
      "a\n",
      "n\n",
      "g\n",
      "o\n"
     ]
    }
   ],
   "source": [
    "for word in fruit:\n",
    "    print(word)"
   ]
  },
  {
   "cell_type": "code",
   "execution_count": 23,
   "id": "5b175c80",
   "metadata": {},
   "outputs": [],
   "source": [
    "## break  - stop the loop"
   ]
  },
  {
   "cell_type": "code",
   "execution_count": 24,
   "id": "fa642a3e",
   "metadata": {},
   "outputs": [],
   "source": [
    "fruits = [\"apple\" , \"banana\" , \"grapes\" , \"mango\" , \"kiwi\" , \"strawberry\"]"
   ]
  },
  {
   "cell_type": "code",
   "execution_count": 27,
   "id": "d0c94a12",
   "metadata": {},
   "outputs": [
    {
     "name": "stdout",
     "output_type": "stream",
     "text": [
      "apple\n",
      "banana\n",
      "grapes\n",
      "mango\n",
      "kiwi\n",
      "strawberry\n"
     ]
    }
   ],
   "source": [
    "for abc in fruits:\n",
    "    print(abc)"
   ]
  },
  {
   "cell_type": "code",
   "execution_count": 26,
   "id": "6d199551",
   "metadata": {},
   "outputs": [
    {
     "name": "stdout",
     "output_type": "stream",
     "text": [
      "apple\n",
      "banana\n",
      "grapes\n",
      "mango\n"
     ]
    }
   ],
   "source": [
    "for fruit in fruits:\n",
    "    print(fruit)\n",
    "    if fruit == \"mango\":\n",
    "        break"
   ]
  },
  {
   "cell_type": "code",
   "execution_count": null,
   "id": "f449c970",
   "metadata": {},
   "outputs": [],
   "source": [
    "## continue - stops the current iteration and moves to next"
   ]
  },
  {
   "cell_type": "code",
   "execution_count": 29,
   "id": "e98fbea0",
   "metadata": {},
   "outputs": [
    {
     "name": "stdout",
     "output_type": "stream",
     "text": [
      "apple\n",
      "banana\n",
      "grapes\n",
      "kiwi\n",
      "strawberry\n"
     ]
    }
   ],
   "source": [
    "for favFruit in fruits:\n",
    "    if favFruit == \"mango\":\n",
    "        continue\n",
    "    print(favFruit)  # skiiped once continue is executed"
   ]
  },
  {
   "cell_type": "code",
   "execution_count": 30,
   "id": "5cbf3c0c",
   "metadata": {},
   "outputs": [
    {
     "name": "stdout",
     "output_type": "stream",
     "text": [
      "apple\n",
      "banana\n",
      "grapes\n",
      "mango\n",
      "kiwi\n",
      "strawberry\n"
     ]
    }
   ],
   "source": [
    "fruits = [\"apple\" , \"banana\" , \"grapes\" , \"mango\" , \"kiwi\" , \"strawberry\"]\n",
    "\n",
    "for favFruit in fruits:\n",
    "    print(favFruit) # this is wrong\n",
    "    if favFruit == \"mango\":\n",
    "        continue\n",
    "    "
   ]
  },
  {
   "cell_type": "code",
   "execution_count": 32,
   "id": "f871c969",
   "metadata": {},
   "outputs": [
    {
     "name": "stdout",
     "output_type": "stream",
     "text": [
      "apple\n",
      "banana\n",
      "grapes\n",
      "mango\n",
      "kiwi\n",
      "strawberry\n",
      "All fruits are finished.\n"
     ]
    }
   ],
   "source": [
    "fruits = [\"apple\" , \"banana\" , \"grapes\" , \"mango\" , \"kiwi\" , \"strawberry\"]\n",
    "\n",
    "for fruit in fruits:\n",
    "    print(fruit)\n",
    "else:\n",
    "    print(\"All fruits are finished.\")  # executed once the sequence is over in for"
   ]
  },
  {
   "cell_type": "code",
   "execution_count": 33,
   "id": "5c3b5292",
   "metadata": {},
   "outputs": [],
   "source": [
    "# range() - gives sequence of numbers "
   ]
  },
  {
   "cell_type": "code",
   "execution_count": 38,
   "id": "6c2de517",
   "metadata": {},
   "outputs": [
    {
     "name": "stdout",
     "output_type": "stream",
     "text": [
      "0\n",
      "1\n",
      "2\n",
      "3\n",
      "4\n"
     ]
    }
   ],
   "source": [
    "for num in range(5):\n",
    "    print(num)"
   ]
  },
  {
   "cell_type": "code",
   "execution_count": 36,
   "id": "5bfd5855",
   "metadata": {},
   "outputs": [
    {
     "name": "stdout",
     "output_type": "stream",
     "text": [
      "5\n",
      "6\n",
      "7\n",
      "8\n",
      "9\n"
     ]
    }
   ],
   "source": [
    "for num in range(5 , 10):\n",
    "    print(num)"
   ]
  },
  {
   "cell_type": "code",
   "execution_count": 37,
   "id": "c5b15a42",
   "metadata": {},
   "outputs": [
    {
     "name": "stdout",
     "output_type": "stream",
     "text": [
      "1\n",
      "3\n",
      "5\n",
      "7\n",
      "9\n"
     ]
    }
   ],
   "source": [
    "for num in range(1 , 10 , 2):   \n",
    "    print(num)"
   ]
  },
  {
   "cell_type": "code",
   "execution_count": 39,
   "id": "27f9b3cf",
   "metadata": {},
   "outputs": [],
   "source": [
    "# Syntax\n",
    "range(startValue , endValue , steps)  ## except endValue"
   ]
  },
  {
   "cell_type": "code",
   "execution_count": 40,
   "id": "90ddf3a4",
   "metadata": {},
   "outputs": [],
   "source": [
    "# nested loop"
   ]
  },
  {
   "cell_type": "code",
   "execution_count": 41,
   "id": "87f86bf4",
   "metadata": {},
   "outputs": [
    {
     "name": "stdout",
     "output_type": "stream",
     "text": [
      "Red apple\n",
      "Red banana\n",
      "Red grapes\n",
      "Red mango\n",
      "Red kiwi\n",
      "Red strawberry\n",
      "Yellow apple\n",
      "Yellow banana\n",
      "Yellow grapes\n",
      "Yellow mango\n",
      "Yellow kiwi\n",
      "Yellow strawberry\n",
      "Green apple\n",
      "Green banana\n",
      "Green grapes\n",
      "Green mango\n",
      "Green kiwi\n",
      "Green strawberry\n",
      "Yellow apple\n",
      "Yellow banana\n",
      "Yellow grapes\n",
      "Yellow mango\n",
      "Yellow kiwi\n",
      "Yellow strawberry\n",
      "Brown apple\n",
      "Brown banana\n",
      "Brown grapes\n",
      "Brown mango\n",
      "Brown kiwi\n",
      "Brown strawberry\n",
      "Pink apple\n",
      "Pink banana\n",
      "Pink grapes\n",
      "Pink mango\n",
      "Pink kiwi\n",
      "Pink strawberry\n"
     ]
    }
   ],
   "source": [
    "colours = [\"Red\" , \"Yellow\" , \"Green\" , \"Yellow\" , \"Brown\" , \"Pink\"]\n",
    "fruits = [\"apple\" , \"banana\" , \"grapes\" , \"mango\" , \"kiwi\" , \"strawberry\"]\n",
    "\n",
    "for colour in colours:\n",
    "    for fruit in fruits:\n",
    "        print(colour, fruit)\n"
   ]
  },
  {
   "cell_type": "code",
   "execution_count": null,
   "id": "8b8e77d9",
   "metadata": {},
   "outputs": [],
   "source": [
    "Assignment:\n",
    "    \n",
    "*\n",
    "**\n",
    "***\n",
    "****\n",
    "*****\n",
    "******"
   ]
  }
 ],
 "metadata": {
  "kernelspec": {
   "display_name": "Python 3 (ipykernel)",
   "language": "python",
   "name": "python3"
  },
  "language_info": {
   "codemirror_mode": {
    "name": "ipython",
    "version": 3
   },
   "file_extension": ".py",
   "mimetype": "text/x-python",
   "name": "python",
   "nbconvert_exporter": "python",
   "pygments_lexer": "ipython3",
   "version": "3.9.12"
  }
 },
 "nbformat": 4,
 "nbformat_minor": 5
}
