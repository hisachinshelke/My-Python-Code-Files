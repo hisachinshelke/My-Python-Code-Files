{
 "cells": [
  {
   "cell_type": "code",
   "execution_count": 1,
   "id": "b97522c0",
   "metadata": {},
   "outputs": [],
   "source": [
    "##Lamda Functions in Python"
   ]
  },
  {
   "cell_type": "code",
   "execution_count": null,
   "id": "36cdc653",
   "metadata": {},
   "outputs": [],
   "source": [
    "def functionName():\n",
    "    #statements 1\n",
    "    #statement 2\n",
    "    #.\n",
    "    #.\n",
    "    #statement n\n",
    "\n",
    "    \n",
    "functionName()"
   ]
  },
  {
   "cell_type": "markdown",
   "id": "df36d455",
   "metadata": {},
   "source": [
    "A lambda is a anonymous function"
   ]
  },
  {
   "cell_type": "code",
   "execution_count": null,
   "id": "a32b4aa4",
   "metadata": {},
   "outputs": [],
   "source": [
    "Syntax:\n",
    "   \n",
    "lambda arguments : expression"
   ]
  },
  {
   "cell_type": "code",
   "execution_count": 3,
   "id": "4ab3a010",
   "metadata": {},
   "outputs": [],
   "source": [
    "num1 = lambda num : num + 25"
   ]
  },
  {
   "cell_type": "code",
   "execution_count": 4,
   "id": "461bdc26",
   "metadata": {},
   "outputs": [
    {
     "name": "stdout",
     "output_type": "stream",
     "text": [
      "30\n"
     ]
    }
   ],
   "source": [
    "print(num1(5))"
   ]
  },
  {
   "cell_type": "code",
   "execution_count": 8,
   "id": "5f5be088",
   "metadata": {},
   "outputs": [],
   "source": [
    "summation = lambda a, b : a + b"
   ]
  },
  {
   "cell_type": "code",
   "execution_count": 9,
   "id": "15bda40b",
   "metadata": {},
   "outputs": [
    {
     "name": "stdout",
     "output_type": "stream",
     "text": [
      "30\n"
     ]
    }
   ],
   "source": [
    "print(summation(10,20))"
   ]
  },
  {
   "cell_type": "code",
   "execution_count": 10,
   "id": "fb1dd739",
   "metadata": {},
   "outputs": [],
   "source": [
    "sum2 = lambda num1, num2, num3 : num1*num2*num3"
   ]
  },
  {
   "cell_type": "code",
   "execution_count": 11,
   "id": "dec60e2c",
   "metadata": {},
   "outputs": [
    {
     "name": "stdout",
     "output_type": "stream",
     "text": [
      "100\n"
     ]
    }
   ],
   "source": [
    "print(sum2(10,5,2))"
   ]
  },
  {
   "cell_type": "markdown",
   "id": "13503efa",
   "metadata": {},
   "source": [
    "Why it is used?\n",
    "Whenever we need to have an anonymous function inside another function."
   ]
  },
  {
   "cell_type": "code",
   "execution_count": 12,
   "id": "a18f0a84",
   "metadata": {},
   "outputs": [],
   "source": [
    "def function_1(multiplier):\n",
    "    return lambda num: num * multiplier"
   ]
  },
  {
   "cell_type": "code",
   "execution_count": 13,
   "id": "c2e8ecd4",
   "metadata": {},
   "outputs": [],
   "source": [
    "num3 =  function_1(5)"
   ]
  },
  {
   "cell_type": "code",
   "execution_count": 14,
   "id": "74400de7",
   "metadata": {},
   "outputs": [
    {
     "name": "stdout",
     "output_type": "stream",
     "text": [
      "50\n"
     ]
    }
   ],
   "source": [
    "print(num3(10))"
   ]
  },
  {
   "cell_type": "code",
   "execution_count": null,
   "id": "cc56dfa7",
   "metadata": {},
   "outputs": [],
   "source": []
  }
 ],
 "metadata": {
  "kernelspec": {
   "display_name": "Python 3 (ipykernel)",
   "language": "python",
   "name": "python3"
  },
  "language_info": {
   "codemirror_mode": {
    "name": "ipython",
    "version": 3
   },
   "file_extension": ".py",
   "mimetype": "text/x-python",
   "name": "python",
   "nbconvert_exporter": "python",
   "pygments_lexer": "ipython3",
   "version": "3.9.12"
  }
 },
 "nbformat": 4,
 "nbformat_minor": 5
}
